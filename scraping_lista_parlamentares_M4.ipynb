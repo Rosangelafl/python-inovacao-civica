{
  "nbformat": 4,
  "nbformat_minor": 0,
  "metadata": {
    "colab": {
      "name": "scraping_lista_parlamentares_M4.ipynb",
      "provenance": [],
      "collapsed_sections": [],
      "authorship_tag": "ABX9TyMNX/Ss9vXWxpAVV7d8RrbZ",
      "include_colab_link": true
    },
    "kernelspec": {
      "name": "python3",
      "display_name": "Python 3"
    },
    "language_info": {
      "name": "python"
    }
  },
  "cells": [
    {
      "cell_type": "markdown",
      "metadata": {
        "id": "view-in-github",
        "colab_type": "text"
      },
      "source": [
        "<a href=\"https://colab.research.google.com/github/Rosangelafl/python-inovacao-civica/blob/main/scraping_lista_parlamentares_M4.ipynb\" target=\"_parent\"><img src=\"https://colab.research.google.com/assets/colab-badge.svg\" alt=\"Open In Colab\"/></a>"
      ]
    },
    {
      "cell_type": "code",
      "metadata": {
        "colab": {
          "base_uri": "https://localhost:8080/"
        },
        "id": "YtCi2DVHVEsA",
        "outputId": "d31935e4-9404-434b-cbf4-d4a812755e22"
      },
      "source": [
        "!pip install requests-html"
      ],
      "execution_count": 181,
      "outputs": [
        {
          "output_type": "stream",
          "name": "stdout",
          "text": [
            "Requirement already satisfied: requests-html in /usr/local/lib/python3.7/dist-packages (0.10.0)\n",
            "Requirement already satisfied: parse in /usr/local/lib/python3.7/dist-packages (from requests-html) (1.19.0)\n",
            "Requirement already satisfied: requests in /usr/local/lib/python3.7/dist-packages (from requests-html) (2.23.0)\n",
            "Requirement already satisfied: bs4 in /usr/local/lib/python3.7/dist-packages (from requests-html) (0.0.1)\n",
            "Requirement already satisfied: w3lib in /usr/local/lib/python3.7/dist-packages (from requests-html) (1.22.0)\n",
            "Requirement already satisfied: pyquery in /usr/local/lib/python3.7/dist-packages (from requests-html) (1.4.3)\n",
            "Requirement already satisfied: fake-useragent in /usr/local/lib/python3.7/dist-packages (from requests-html) (0.1.11)\n",
            "Requirement already satisfied: pyppeteer>=0.0.14 in /usr/local/lib/python3.7/dist-packages (from requests-html) (0.2.6)\n",
            "Requirement already satisfied: tqdm<5.0.0,>=4.42.1 in /usr/local/lib/python3.7/dist-packages (from pyppeteer>=0.0.14->requests-html) (4.62.0)\n",
            "Requirement already satisfied: appdirs<2.0.0,>=1.4.3 in /usr/local/lib/python3.7/dist-packages (from pyppeteer>=0.0.14->requests-html) (1.4.4)\n",
            "Requirement already satisfied: urllib3<2.0.0,>=1.25.8 in /usr/local/lib/python3.7/dist-packages (from pyppeteer>=0.0.14->requests-html) (1.25.11)\n",
            "Requirement already satisfied: pyee<9.0.0,>=8.1.0 in /usr/local/lib/python3.7/dist-packages (from pyppeteer>=0.0.14->requests-html) (8.2.2)\n",
            "Requirement already satisfied: websockets<10.0,>=9.1 in /usr/local/lib/python3.7/dist-packages (from pyppeteer>=0.0.14->requests-html) (9.1)\n",
            "Requirement already satisfied: importlib-metadata>=1.4 in /usr/local/lib/python3.7/dist-packages (from pyppeteer>=0.0.14->requests-html) (4.6.4)\n",
            "Requirement already satisfied: zipp>=0.5 in /usr/local/lib/python3.7/dist-packages (from importlib-metadata>=1.4->pyppeteer>=0.0.14->requests-html) (3.5.0)\n",
            "Requirement already satisfied: typing-extensions>=3.6.4 in /usr/local/lib/python3.7/dist-packages (from importlib-metadata>=1.4->pyppeteer>=0.0.14->requests-html) (3.7.4.3)\n",
            "Requirement already satisfied: beautifulsoup4 in /usr/local/lib/python3.7/dist-packages (from bs4->requests-html) (4.6.3)\n",
            "Requirement already satisfied: lxml>=2.1 in /usr/local/lib/python3.7/dist-packages (from pyquery->requests-html) (4.2.6)\n",
            "Requirement already satisfied: cssselect>0.7.9 in /usr/local/lib/python3.7/dist-packages (from pyquery->requests-html) (1.1.0)\n",
            "Requirement already satisfied: idna<3,>=2.5 in /usr/local/lib/python3.7/dist-packages (from requests->requests-html) (2.10)\n",
            "Requirement already satisfied: certifi>=2017.4.17 in /usr/local/lib/python3.7/dist-packages (from requests->requests-html) (2021.5.30)\n",
            "Requirement already satisfied: chardet<4,>=3.0.2 in /usr/local/lib/python3.7/dist-packages (from requests->requests-html) (3.0.4)\n",
            "Requirement already satisfied: six>=1.4.1 in /usr/local/lib/python3.7/dist-packages (from w3lib->requests-html) (1.15.0)\n"
          ]
        }
      ]
    },
    {
      "cell_type": "code",
      "metadata": {
        "colab": {
          "base_uri": "https://localhost:8080/"
        },
        "id": "g1QKLGF_WHvg",
        "outputId": "22035667-3e31-4fe7-e60a-d0f9a98cb2da"
      },
      "source": [
        "! pip install folium==0.2.1"
      ],
      "execution_count": 182,
      "outputs": [
        {
          "output_type": "stream",
          "name": "stdout",
          "text": [
            "Requirement already satisfied: folium==0.2.1 in /usr/local/lib/python3.7/dist-packages (0.2.1)\n",
            "Requirement already satisfied: Jinja2 in /usr/local/lib/python3.7/dist-packages (from folium==0.2.1) (2.11.3)\n",
            "Requirement already satisfied: MarkupSafe>=0.23 in /usr/local/lib/python3.7/dist-packages (from Jinja2->folium==0.2.1) (2.0.1)\n"
          ]
        }
      ]
    },
    {
      "cell_type": "code",
      "metadata": {
        "id": "hjUsUSArWLYk"
      },
      "source": [
        "url = 'https://pt.wikipedia.org/wiki/Lista_de_parlamentares_de_S%C3%A3o_Paulo'"
      ],
      "execution_count": 183,
      "outputs": []
    },
    {
      "cell_type": "markdown",
      "metadata": {
        "id": "T-wAvFbAxukc"
      },
      "source": [
        "Scraping com Pandas, com table a estrutura é mais fácil de raspar. Cada tabela da página vira um dataframe"
      ]
    },
    {
      "cell_type": "code",
      "metadata": {
        "id": "2knKlGlFYLVm"
      },
      "source": [
        "import pandas as pd\n"
      ],
      "execution_count": 184,
      "outputs": []
    },
    {
      "cell_type": "code",
      "metadata": {
        "id": "EILfP_KLYLYt"
      },
      "source": [
        "tables = pd.read_html('https://pt.wikipedia.org/wiki/Lista_de_parlamentares_de_S%C3%A3o_Paulo')"
      ],
      "execution_count": 185,
      "outputs": []
    },
    {
      "cell_type": "code",
      "metadata": {
        "colab": {
          "base_uri": "https://localhost:8080/"
        },
        "id": "BXsYps3XYLdI",
        "outputId": "aab3d2c1-e6bb-4dc9-cb0d-f04c9c046a93"
      },
      "source": [
        "len(tables)"
      ],
      "execution_count": 186,
      "outputs": [
        {
          "output_type": "execute_result",
          "data": {
            "text/plain": [
              "4"
            ]
          },
          "metadata": {},
          "execution_count": 186
        }
      ]
    },
    {
      "cell_type": "code",
      "metadata": {
        "colab": {
          "base_uri": "https://localhost:8080/"
        },
        "id": "hrm5iiShYLj2",
        "outputId": "3e2f43d8-523d-4aa1-82a4-b44c901cca12"
      },
      "source": [
        "print(f'Total tables: {len(tables)}')"
      ],
      "execution_count": 187,
      "outputs": [
        {
          "output_type": "stream",
          "name": "stdout",
          "text": [
            "Total tables: 4\n"
          ]
        }
      ]
    },
    {
      "cell_type": "code",
      "metadata": {
        "colab": {
          "base_uri": "https://localhost:8080/"
        },
        "id": "HMexzE0JZFsA",
        "outputId": "c7a12a25-f728-457a-d411-e9c48dbf36bd"
      },
      "source": [
        "tables[0].info()"
      ],
      "execution_count": 188,
      "outputs": [
        {
          "output_type": "stream",
          "name": "stdout",
          "text": [
            "<class 'pandas.core.frame.DataFrame'>\n",
            "RangeIndex: 23 entries, 0 to 22\n",
            "Data columns (total 4 columns):\n",
            " #   Column             Non-Null Count  Dtype \n",
            "---  ------             --------------  ----- \n",
            " 0   Senadores eleitos  23 non-null     object\n",
            " 1   Naturalidade       23 non-null     object\n",
            " 2   Mandatos           23 non-null     int64 \n",
            " 3   Ano da eleição     23 non-null     object\n",
            "dtypes: int64(1), object(3)\n",
            "memory usage: 864.0+ bytes\n"
          ]
        }
      ]
    },
    {
      "cell_type": "code",
      "metadata": {
        "colab": {
          "base_uri": "https://localhost:8080/",
          "height": 204
        },
        "id": "UAVDNh6DZLKQ",
        "outputId": "d2cc7187-d624-4f28-d0ca-1ffeb788eb28"
      },
      "source": [
        "tables[0].head()"
      ],
      "execution_count": 189,
      "outputs": [
        {
          "output_type": "execute_result",
          "data": {
            "text/html": [
              "<div>\n",
              "<style scoped>\n",
              "    .dataframe tbody tr th:only-of-type {\n",
              "        vertical-align: middle;\n",
              "    }\n",
              "\n",
              "    .dataframe tbody tr th {\n",
              "        vertical-align: top;\n",
              "    }\n",
              "\n",
              "    .dataframe thead th {\n",
              "        text-align: right;\n",
              "    }\n",
              "</style>\n",
              "<table border=\"1\" class=\"dataframe\">\n",
              "  <thead>\n",
              "    <tr style=\"text-align: right;\">\n",
              "      <th></th>\n",
              "      <th>Senadores eleitos</th>\n",
              "      <th>Naturalidade</th>\n",
              "      <th>Mandatos</th>\n",
              "      <th>Ano da eleição</th>\n",
              "    </tr>\n",
              "  </thead>\n",
              "  <tbody>\n",
              "    <tr>\n",
              "      <th>0</th>\n",
              "      <td>Eduardo Suplicy</td>\n",
              "      <td>São Paulo, SP</td>\n",
              "      <td>3</td>\n",
              "      <td>1990, 1998, 2006</td>\n",
              "    </tr>\n",
              "    <tr>\n",
              "      <th>1</th>\n",
              "      <td>Auro de Moura Andrade</td>\n",
              "      <td>Barretos, SP</td>\n",
              "      <td>2</td>\n",
              "      <td>1954, 1962</td>\n",
              "    </tr>\n",
              "    <tr>\n",
              "      <th>2</th>\n",
              "      <td>Lino de Matos[nota 1]</td>\n",
              "      <td>Ipaussu, SP</td>\n",
              "      <td>2</td>\n",
              "      <td>1954, 1962</td>\n",
              "    </tr>\n",
              "    <tr>\n",
              "      <th>3</th>\n",
              "      <td>Franco Montoro[nota 2]</td>\n",
              "      <td>São Paulo, SP</td>\n",
              "      <td>2</td>\n",
              "      <td>1970, 1978</td>\n",
              "    </tr>\n",
              "    <tr>\n",
              "      <th>4</th>\n",
              "      <td>Romeu Tuma[nota 3]</td>\n",
              "      <td>São Paulo, SP</td>\n",
              "      <td>2</td>\n",
              "      <td>1994, 2002</td>\n",
              "    </tr>\n",
              "  </tbody>\n",
              "</table>\n",
              "</div>"
            ],
            "text/plain": [
              "        Senadores eleitos   Naturalidade  Mandatos    Ano da eleição\n",
              "0         Eduardo Suplicy  São Paulo, SP         3  1990, 1998, 2006\n",
              "1   Auro de Moura Andrade   Barretos, SP         2        1954, 1962\n",
              "2   Lino de Matos[nota 1]    Ipaussu, SP         2        1954, 1962\n",
              "3  Franco Montoro[nota 2]  São Paulo, SP         2        1970, 1978\n",
              "4      Romeu Tuma[nota 3]  São Paulo, SP         2        1994, 2002"
            ]
          },
          "metadata": {},
          "execution_count": 189
        }
      ]
    },
    {
      "cell_type": "code",
      "metadata": {
        "colab": {
          "base_uri": "https://localhost:8080/",
          "height": 204
        },
        "id": "N5VdFaVOZTx3",
        "outputId": "ebf4d2b9-4936-4bf8-d158-9cdede829b3e"
      },
      "source": [
        "tables[1].head()"
      ],
      "execution_count": 190,
      "outputs": [
        {
          "output_type": "execute_result",
          "data": {
            "text/html": [
              "<div>\n",
              "<style scoped>\n",
              "    .dataframe tbody tr th:only-of-type {\n",
              "        vertical-align: middle;\n",
              "    }\n",
              "\n",
              "    .dataframe tbody tr th {\n",
              "        vertical-align: top;\n",
              "    }\n",
              "\n",
              "    .dataframe thead th {\n",
              "        text-align: right;\n",
              "    }\n",
              "</style>\n",
              "<table border=\"1\" class=\"dataframe\">\n",
              "  <thead>\n",
              "    <tr style=\"text-align: right;\">\n",
              "      <th></th>\n",
              "      <th>Deputados federais eleitos</th>\n",
              "      <th>Naturalidade ou base</th>\n",
              "      <th>Mandatos</th>\n",
              "      <th>Ano da eleição</th>\n",
              "    </tr>\n",
              "  </thead>\n",
              "  <tbody>\n",
              "    <tr>\n",
              "      <th>0</th>\n",
              "      <td>Ulysses Guimarães</td>\n",
              "      <td>Itirapina, SP</td>\n",
              "      <td>11</td>\n",
              "      <td>1950, 1954, 1958, 1962, 1966, 1970, 1974, 1978...</td>\n",
              "    </tr>\n",
              "    <tr>\n",
              "      <th>1</th>\n",
              "      <td>Herbert Levy</td>\n",
              "      <td>São Paulo, SP</td>\n",
              "      <td>9</td>\n",
              "      <td>1950, 1954, 1958, 1962, 1966, 1970, 1974, 1978...</td>\n",
              "    </tr>\n",
              "    <tr>\n",
              "      <th>2</th>\n",
              "      <td>Arnaldo Faria de Sá</td>\n",
              "      <td>São Paulo, SP</td>\n",
              "      <td>8</td>\n",
              "      <td>1986, 1990, 1994, 1998, 2002, 2006, 2010, 2014</td>\n",
              "    </tr>\n",
              "    <tr>\n",
              "      <th>3</th>\n",
              "      <td>Pacheco Chaves</td>\n",
              "      <td>São Paulo, SP</td>\n",
              "      <td>7</td>\n",
              "      <td>1954, 1958, 1962, 1970, 1974, 1978, 1982</td>\n",
              "    </tr>\n",
              "    <tr>\n",
              "      <th>4</th>\n",
              "      <td>Cunha Bueno</td>\n",
              "      <td>São Paulo, SP</td>\n",
              "      <td>7</td>\n",
              "      <td>1974, 1978, 1982, 1986, 1990, 1994, 1998</td>\n",
              "    </tr>\n",
              "  </tbody>\n",
              "</table>\n",
              "</div>"
            ],
            "text/plain": [
              "  Deputados federais eleitos  ...                                     Ano da eleição\n",
              "0          Ulysses Guimarães  ...  1950, 1954, 1958, 1962, 1966, 1970, 1974, 1978...\n",
              "1               Herbert Levy  ...  1950, 1954, 1958, 1962, 1966, 1970, 1974, 1978...\n",
              "2        Arnaldo Faria de Sá  ...     1986, 1990, 1994, 1998, 2002, 2006, 2010, 2014\n",
              "3             Pacheco Chaves  ...           1954, 1958, 1962, 1970, 1974, 1978, 1982\n",
              "4                Cunha Bueno  ...           1974, 1978, 1982, 1986, 1990, 1994, 1998\n",
              "\n",
              "[5 rows x 4 columns]"
            ]
          },
          "metadata": {},
          "execution_count": 190
        }
      ]
    },
    {
      "cell_type": "code",
      "metadata": {
        "colab": {
          "base_uri": "https://localhost:8080/",
          "height": 1000
        },
        "id": "k8NhlqNQZa1o",
        "outputId": "11caea07-816f-46cf-c7b0-fb9d86d6774c"
      },
      "source": [
        "tables[1].query('Mandatos >= 5')"
      ],
      "execution_count": 191,
      "outputs": [
        {
          "output_type": "execute_result",
          "data": {
            "text/html": [
              "<div>\n",
              "<style scoped>\n",
              "    .dataframe tbody tr th:only-of-type {\n",
              "        vertical-align: middle;\n",
              "    }\n",
              "\n",
              "    .dataframe tbody tr th {\n",
              "        vertical-align: top;\n",
              "    }\n",
              "\n",
              "    .dataframe thead th {\n",
              "        text-align: right;\n",
              "    }\n",
              "</style>\n",
              "<table border=\"1\" class=\"dataframe\">\n",
              "  <thead>\n",
              "    <tr style=\"text-align: right;\">\n",
              "      <th></th>\n",
              "      <th>Deputados federais eleitos</th>\n",
              "      <th>Naturalidade ou base</th>\n",
              "      <th>Mandatos</th>\n",
              "      <th>Ano da eleição</th>\n",
              "    </tr>\n",
              "  </thead>\n",
              "  <tbody>\n",
              "    <tr>\n",
              "      <th>0</th>\n",
              "      <td>Ulysses Guimarães</td>\n",
              "      <td>Itirapina, SP</td>\n",
              "      <td>11</td>\n",
              "      <td>1950, 1954, 1958, 1962, 1966, 1970, 1974, 1978...</td>\n",
              "    </tr>\n",
              "    <tr>\n",
              "      <th>1</th>\n",
              "      <td>Herbert Levy</td>\n",
              "      <td>São Paulo, SP</td>\n",
              "      <td>9</td>\n",
              "      <td>1950, 1954, 1958, 1962, 1966, 1970, 1974, 1978...</td>\n",
              "    </tr>\n",
              "    <tr>\n",
              "      <th>2</th>\n",
              "      <td>Arnaldo Faria de Sá</td>\n",
              "      <td>São Paulo, SP</td>\n",
              "      <td>8</td>\n",
              "      <td>1986, 1990, 1994, 1998, 2002, 2006, 2010, 2014</td>\n",
              "    </tr>\n",
              "    <tr>\n",
              "      <th>3</th>\n",
              "      <td>Pacheco Chaves</td>\n",
              "      <td>São Paulo, SP</td>\n",
              "      <td>7</td>\n",
              "      <td>1954, 1958, 1962, 1970, 1974, 1978, 1982</td>\n",
              "    </tr>\n",
              "    <tr>\n",
              "      <th>4</th>\n",
              "      <td>Cunha Bueno</td>\n",
              "      <td>São Paulo, SP</td>\n",
              "      <td>7</td>\n",
              "      <td>1974, 1978, 1982, 1986, 1990, 1994, 1998</td>\n",
              "    </tr>\n",
              "    <tr>\n",
              "      <th>5</th>\n",
              "      <td>Nelson Marquezelli</td>\n",
              "      <td>Pirassununga, SP</td>\n",
              "      <td>7</td>\n",
              "      <td>1990, 1994, 1998, 2002, 2006, 2010, 2014</td>\n",
              "    </tr>\n",
              "    <tr>\n",
              "      <th>6</th>\n",
              "      <td>Arlindo Chinaglia</td>\n",
              "      <td>Serra Azul, SP</td>\n",
              "      <td>7</td>\n",
              "      <td>1994, 1998, 2002, 2006, 2010, 2014, 2018</td>\n",
              "    </tr>\n",
              "    <tr>\n",
              "      <th>7</th>\n",
              "      <td>Ernesto Pereira Lopes</td>\n",
              "      <td>São Carlos, SP</td>\n",
              "      <td>6</td>\n",
              "      <td>1950, 1954, 1958, 1962, 1966, 1970</td>\n",
              "    </tr>\n",
              "    <tr>\n",
              "      <th>8</th>\n",
              "      <td>Ivete Vargas[nota 10]</td>\n",
              "      <td>São Borja, RS</td>\n",
              "      <td>6</td>\n",
              "      <td>1950, 1954, 1958, 1962, 1966, 1982</td>\n",
              "    </tr>\n",
              "    <tr>\n",
              "      <th>9</th>\n",
              "      <td>Ademar de Barros Filho</td>\n",
              "      <td>São Paulo, SP</td>\n",
              "      <td>6</td>\n",
              "      <td>1966, 1970, 1974, 1978, 1986, 1994</td>\n",
              "    </tr>\n",
              "    <tr>\n",
              "      <th>10</th>\n",
              "      <td>Maluly Neto</td>\n",
              "      <td>Fartura, SP</td>\n",
              "      <td>6</td>\n",
              "      <td>1978, 1982, 1986, 1990, 1994, 1998</td>\n",
              "    </tr>\n",
              "    <tr>\n",
              "      <th>11</th>\n",
              "      <td>Alberto Goldman</td>\n",
              "      <td>São Paulo, SP</td>\n",
              "      <td>6</td>\n",
              "      <td>1978, 1982, 1990, 1994, 1998, 2002</td>\n",
              "    </tr>\n",
              "    <tr>\n",
              "      <th>12</th>\n",
              "      <td>José Genoino</td>\n",
              "      <td>Quixeramobim, CE</td>\n",
              "      <td>6</td>\n",
              "      <td>1982, 1986, 1990, 1994, 1998, 2006</td>\n",
              "    </tr>\n",
              "    <tr>\n",
              "      <th>13</th>\n",
              "      <td>Ricardo Izar</td>\n",
              "      <td>São Paulo, SP</td>\n",
              "      <td>6</td>\n",
              "      <td>1986, 1990, 1994, 1998, 2002, 2006</td>\n",
              "    </tr>\n",
              "    <tr>\n",
              "      <th>14</th>\n",
              "      <td>Mendes Thame</td>\n",
              "      <td>Piracicaba, SP</td>\n",
              "      <td>6</td>\n",
              "      <td>1986, 1990, 2002, 2006, 2010, 2014</td>\n",
              "    </tr>\n",
              "    <tr>\n",
              "      <th>15</th>\n",
              "      <td>Aldo Rebelo</td>\n",
              "      <td>Viçosa, AL</td>\n",
              "      <td>6</td>\n",
              "      <td>1990, 1994, 1998, 2002, 2006, 2010</td>\n",
              "    </tr>\n",
              "    <tr>\n",
              "      <th>16</th>\n",
              "      <td>Jorge Tadeu Mudalen</td>\n",
              "      <td>Guarulhos, SP</td>\n",
              "      <td>6</td>\n",
              "      <td>1990, 1994, 1998, 2006, 2010, 2014</td>\n",
              "    </tr>\n",
              "    <tr>\n",
              "      <th>17</th>\n",
              "      <td>Valdemar Costa Neto</td>\n",
              "      <td>São Paulo, SP</td>\n",
              "      <td>6</td>\n",
              "      <td>1990, 1994, 1998, 2002, 2006, 2010</td>\n",
              "    </tr>\n",
              "    <tr>\n",
              "      <th>18</th>\n",
              "      <td>Celso Russomanno</td>\n",
              "      <td>São Paulo, SP</td>\n",
              "      <td>6</td>\n",
              "      <td>1994, 1998, 2002, 2006, 2014, 2018</td>\n",
              "    </tr>\n",
              "    <tr>\n",
              "      <th>19</th>\n",
              "      <td>Ivan Valente</td>\n",
              "      <td>São Paulo, SP</td>\n",
              "      <td>6</td>\n",
              "      <td>1994, 2002, 2006, 2010, 2014, 2018</td>\n",
              "    </tr>\n",
              "    <tr>\n",
              "      <th>20</th>\n",
              "      <td>Luiza Erundina</td>\n",
              "      <td>Uiraúna, PB</td>\n",
              "      <td>6</td>\n",
              "      <td>1998, 2002, 2006, 2010, 2014, 2018</td>\n",
              "    </tr>\n",
              "    <tr>\n",
              "      <th>21</th>\n",
              "      <td>Emilio Carlos[nota 11]</td>\n",
              "      <td>Catanduva, SP</td>\n",
              "      <td>5</td>\n",
              "      <td>1947, 1950, 1954, 1958, 1962</td>\n",
              "    </tr>\n",
              "    <tr>\n",
              "      <th>22</th>\n",
              "      <td>Lauro Cruz</td>\n",
              "      <td>Santos, SP</td>\n",
              "      <td>5</td>\n",
              "      <td>1950, 1954, 1958, 1962, 1966</td>\n",
              "    </tr>\n",
              "    <tr>\n",
              "      <th>23</th>\n",
              "      <td>Arnaldo Cerdeira</td>\n",
              "      <td>Manaus, AM</td>\n",
              "      <td>5</td>\n",
              "      <td>1950, 1954, 1958, 1962, 1966</td>\n",
              "    </tr>\n",
              "    <tr>\n",
              "      <th>24</th>\n",
              "      <td>João Batista Ramos</td>\n",
              "      <td>Queluz, SP</td>\n",
              "      <td>5</td>\n",
              "      <td>1954, 1958, 1962, 1966, 1970</td>\n",
              "    </tr>\n",
              "    <tr>\n",
              "      <th>25</th>\n",
              "      <td>Amaral Furlan</td>\n",
              "      <td>Sertãozinho, SP</td>\n",
              "      <td>5</td>\n",
              "      <td>1958, 1962, 1966, 1970, 1974</td>\n",
              "    </tr>\n",
              "    <tr>\n",
              "      <th>26</th>\n",
              "      <td>Franco Montoro</td>\n",
              "      <td>São Paulo, SP</td>\n",
              "      <td>5</td>\n",
              "      <td>1958, 1962, 1966, 1994, 1998</td>\n",
              "    </tr>\n",
              "    <tr>\n",
              "      <th>27</th>\n",
              "      <td>Athiê Jorge Coury</td>\n",
              "      <td>Itu, SP</td>\n",
              "      <td>5</td>\n",
              "      <td>1962, 1966, 1970, 1974, 1978</td>\n",
              "    </tr>\n",
              "    <tr>\n",
              "      <th>28</th>\n",
              "      <td>Francisco Amaral</td>\n",
              "      <td>Campinas, SP</td>\n",
              "      <td>5</td>\n",
              "      <td>1966, 1970, 1974, 1982, 1986</td>\n",
              "    </tr>\n",
              "    <tr>\n",
              "      <th>29</th>\n",
              "      <td>Roberto Cardoso Alves[nota 10]</td>\n",
              "      <td>Aparecida, SP</td>\n",
              "      <td>5</td>\n",
              "      <td>1966, 1978, 1982, 1986, 1990</td>\n",
              "    </tr>\n",
              "    <tr>\n",
              "      <th>30</th>\n",
              "      <td>Diogo Nomura</td>\n",
              "      <td>Registro, SP</td>\n",
              "      <td>5</td>\n",
              "      <td>1970, 1974, 1978, 1982, 1990</td>\n",
              "    </tr>\n",
              "    <tr>\n",
              "      <th>31</th>\n",
              "      <td>José Camargo</td>\n",
              "      <td>São Roque, SP</td>\n",
              "      <td>5</td>\n",
              "      <td>1970, 1974, 1978, 1982, 1986</td>\n",
              "    </tr>\n",
              "    <tr>\n",
              "      <th>32</th>\n",
              "      <td>Delfim Netto</td>\n",
              "      <td>São Paulo, SP</td>\n",
              "      <td>5</td>\n",
              "      <td>1986, 1990, 1994, 1998, 2002</td>\n",
              "    </tr>\n",
              "    <tr>\n",
              "      <th>33</th>\n",
              "      <td>Vadão Gomes</td>\n",
              "      <td>Populina, SP</td>\n",
              "      <td>5</td>\n",
              "      <td>1990, 1994, 1998, 2002, 2006</td>\n",
              "    </tr>\n",
              "    <tr>\n",
              "      <th>34</th>\n",
              "      <td>Beto Mansur</td>\n",
              "      <td>São Vicente, SP</td>\n",
              "      <td>5</td>\n",
              "      <td>1990, 1994, 2006, 2010, 2014</td>\n",
              "    </tr>\n",
              "    <tr>\n",
              "      <th>35</th>\n",
              "      <td>João Paulo Cunha</td>\n",
              "      <td>Caraguatatuba, SP</td>\n",
              "      <td>5</td>\n",
              "      <td>1994, 1998, 2002, 2006, 2010</td>\n",
              "    </tr>\n",
              "    <tr>\n",
              "      <th>36</th>\n",
              "      <td>Milton Monti</td>\n",
              "      <td>São Manuel, SP</td>\n",
              "      <td>5</td>\n",
              "      <td>1998, 2002, 2006, 2010, 2014</td>\n",
              "    </tr>\n",
              "    <tr>\n",
              "      <th>37</th>\n",
              "      <td>Carlos Sampaio</td>\n",
              "      <td>Campinas, SP</td>\n",
              "      <td>5</td>\n",
              "      <td>2002, 2006, 2010, 2014, 2018</td>\n",
              "    </tr>\n",
              "    <tr>\n",
              "      <th>38</th>\n",
              "      <td>Vicente Paulo da Silva</td>\n",
              "      <td>Santa Cruz, RN</td>\n",
              "      <td>5</td>\n",
              "      <td>2002, 2006, 2010, 2014, 2018</td>\n",
              "    </tr>\n",
              "  </tbody>\n",
              "</table>\n",
              "</div>"
            ],
            "text/plain": [
              "        Deputados federais eleitos  ...                                     Ano da eleição\n",
              "0                Ulysses Guimarães  ...  1950, 1954, 1958, 1962, 1966, 1970, 1974, 1978...\n",
              "1                     Herbert Levy  ...  1950, 1954, 1958, 1962, 1966, 1970, 1974, 1978...\n",
              "2              Arnaldo Faria de Sá  ...     1986, 1990, 1994, 1998, 2002, 2006, 2010, 2014\n",
              "3                   Pacheco Chaves  ...           1954, 1958, 1962, 1970, 1974, 1978, 1982\n",
              "4                      Cunha Bueno  ...           1974, 1978, 1982, 1986, 1990, 1994, 1998\n",
              "5               Nelson Marquezelli  ...           1990, 1994, 1998, 2002, 2006, 2010, 2014\n",
              "6                Arlindo Chinaglia  ...           1994, 1998, 2002, 2006, 2010, 2014, 2018\n",
              "7            Ernesto Pereira Lopes  ...                 1950, 1954, 1958, 1962, 1966, 1970\n",
              "8            Ivete Vargas[nota 10]  ...                 1950, 1954, 1958, 1962, 1966, 1982\n",
              "9           Ademar de Barros Filho  ...                 1966, 1970, 1974, 1978, 1986, 1994\n",
              "10                     Maluly Neto  ...                 1978, 1982, 1986, 1990, 1994, 1998\n",
              "11                 Alberto Goldman  ...                 1978, 1982, 1990, 1994, 1998, 2002\n",
              "12                    José Genoino  ...                 1982, 1986, 1990, 1994, 1998, 2006\n",
              "13                    Ricardo Izar  ...                 1986, 1990, 1994, 1998, 2002, 2006\n",
              "14                    Mendes Thame  ...                 1986, 1990, 2002, 2006, 2010, 2014\n",
              "15                     Aldo Rebelo  ...                 1990, 1994, 1998, 2002, 2006, 2010\n",
              "16             Jorge Tadeu Mudalen  ...                 1990, 1994, 1998, 2006, 2010, 2014\n",
              "17             Valdemar Costa Neto  ...                 1990, 1994, 1998, 2002, 2006, 2010\n",
              "18                Celso Russomanno  ...                 1994, 1998, 2002, 2006, 2014, 2018\n",
              "19                    Ivan Valente  ...                 1994, 2002, 2006, 2010, 2014, 2018\n",
              "20                  Luiza Erundina  ...                 1998, 2002, 2006, 2010, 2014, 2018\n",
              "21          Emilio Carlos[nota 11]  ...                       1947, 1950, 1954, 1958, 1962\n",
              "22                      Lauro Cruz  ...                       1950, 1954, 1958, 1962, 1966\n",
              "23                Arnaldo Cerdeira  ...                       1950, 1954, 1958, 1962, 1966\n",
              "24              João Batista Ramos  ...                       1954, 1958, 1962, 1966, 1970\n",
              "25                   Amaral Furlan  ...                       1958, 1962, 1966, 1970, 1974\n",
              "26                  Franco Montoro  ...                       1958, 1962, 1966, 1994, 1998\n",
              "27               Athiê Jorge Coury  ...                       1962, 1966, 1970, 1974, 1978\n",
              "28                Francisco Amaral  ...                       1966, 1970, 1974, 1982, 1986\n",
              "29  Roberto Cardoso Alves[nota 10]  ...                       1966, 1978, 1982, 1986, 1990\n",
              "30                    Diogo Nomura  ...                       1970, 1974, 1978, 1982, 1990\n",
              "31                    José Camargo  ...                       1970, 1974, 1978, 1982, 1986\n",
              "32                    Delfim Netto  ...                       1986, 1990, 1994, 1998, 2002\n",
              "33                     Vadão Gomes  ...                       1990, 1994, 1998, 2002, 2006\n",
              "34                     Beto Mansur  ...                       1990, 1994, 2006, 2010, 2014\n",
              "35                João Paulo Cunha  ...                       1994, 1998, 2002, 2006, 2010\n",
              "36                    Milton Monti  ...                       1998, 2002, 2006, 2010, 2014\n",
              "37                  Carlos Sampaio  ...                       2002, 2006, 2010, 2014, 2018\n",
              "38          Vicente Paulo da Silva  ...                       2002, 2006, 2010, 2014, 2018\n",
              "\n",
              "[39 rows x 4 columns]"
            ]
          },
          "metadata": {},
          "execution_count": 191
        }
      ]
    },
    {
      "cell_type": "code",
      "metadata": {
        "colab": {
          "base_uri": "https://localhost:8080/"
        },
        "id": "yRmJ1NnOay9M",
        "outputId": "cc025216-bc1a-4b07-d557-e4e201b38d86"
      },
      "source": [
        "tables[1].groupby('Deputados federais eleitos')['Mandatos'].count().sort_values(ascending=False)"
      ],
      "execution_count": 192,
      "outputs": [
        {
          "output_type": "execute_result",
          "data": {
            "text/plain": [
              "Deputados federais eleitos\n",
              "João Arruda                 2\n",
              "Ítalo Fittipaldi            1\n",
              "Francisco Dias              1\n",
              "Frank Aguiar                1\n",
              "Franco Montoro              1\n",
              "                           ..\n",
              "Milton Vieira               1\n",
              "Missionário José Olímpio    1\n",
              "Moacyr Franco               1\n",
              "Monteiro de Barros          1\n",
              "Abelardo Camarinha          1\n",
              "Name: Mandatos, Length: 552, dtype: int64"
            ]
          },
          "metadata": {},
          "execution_count": 192
        }
      ]
    },
    {
      "cell_type": "code",
      "metadata": {
        "colab": {
          "base_uri": "https://localhost:8080/",
          "height": 419
        },
        "id": "qVjONG1N0AA6",
        "outputId": "0e061a30-6267-4d0c-e2fe-e8fbb1e9634b"
      },
      "source": [
        "tables[0].append(tables[1])"
      ],
      "execution_count": 193,
      "outputs": [
        {
          "output_type": "execute_result",
          "data": {
            "text/html": [
              "<div>\n",
              "<style scoped>\n",
              "    .dataframe tbody tr th:only-of-type {\n",
              "        vertical-align: middle;\n",
              "    }\n",
              "\n",
              "    .dataframe tbody tr th {\n",
              "        vertical-align: top;\n",
              "    }\n",
              "\n",
              "    .dataframe thead th {\n",
              "        text-align: right;\n",
              "    }\n",
              "</style>\n",
              "<table border=\"1\" class=\"dataframe\">\n",
              "  <thead>\n",
              "    <tr style=\"text-align: right;\">\n",
              "      <th></th>\n",
              "      <th>Senadores eleitos</th>\n",
              "      <th>Naturalidade</th>\n",
              "      <th>Mandatos</th>\n",
              "      <th>Ano da eleição</th>\n",
              "      <th>Deputados federais eleitos</th>\n",
              "      <th>Naturalidade ou base</th>\n",
              "    </tr>\n",
              "  </thead>\n",
              "  <tbody>\n",
              "    <tr>\n",
              "      <th>0</th>\n",
              "      <td>Eduardo Suplicy</td>\n",
              "      <td>São Paulo, SP</td>\n",
              "      <td>3</td>\n",
              "      <td>1990, 1998, 2006</td>\n",
              "      <td>NaN</td>\n",
              "      <td>NaN</td>\n",
              "    </tr>\n",
              "    <tr>\n",
              "      <th>1</th>\n",
              "      <td>Auro de Moura Andrade</td>\n",
              "      <td>Barretos, SP</td>\n",
              "      <td>2</td>\n",
              "      <td>1954, 1962</td>\n",
              "      <td>NaN</td>\n",
              "      <td>NaN</td>\n",
              "    </tr>\n",
              "    <tr>\n",
              "      <th>2</th>\n",
              "      <td>Lino de Matos[nota 1]</td>\n",
              "      <td>Ipaussu, SP</td>\n",
              "      <td>2</td>\n",
              "      <td>1954, 1962</td>\n",
              "      <td>NaN</td>\n",
              "      <td>NaN</td>\n",
              "    </tr>\n",
              "    <tr>\n",
              "      <th>3</th>\n",
              "      <td>Franco Montoro[nota 2]</td>\n",
              "      <td>São Paulo, SP</td>\n",
              "      <td>2</td>\n",
              "      <td>1970, 1978</td>\n",
              "      <td>NaN</td>\n",
              "      <td>NaN</td>\n",
              "    </tr>\n",
              "    <tr>\n",
              "      <th>4</th>\n",
              "      <td>Romeu Tuma[nota 3]</td>\n",
              "      <td>São Paulo, SP</td>\n",
              "      <td>2</td>\n",
              "      <td>1994, 2002</td>\n",
              "      <td>NaN</td>\n",
              "      <td>NaN</td>\n",
              "    </tr>\n",
              "    <tr>\n",
              "      <th>...</th>\n",
              "      <td>...</td>\n",
              "      <td>...</td>\n",
              "      <td>...</td>\n",
              "      <td>...</td>\n",
              "      <td>...</td>\n",
              "      <td>...</td>\n",
              "    </tr>\n",
              "    <tr>\n",
              "      <th>548</th>\n",
              "      <td>NaN</td>\n",
              "      <td>NaN</td>\n",
              "      <td>1</td>\n",
              "      <td>2018</td>\n",
              "      <td>Rosana Valle</td>\n",
              "      <td>Santos, SP</td>\n",
              "    </tr>\n",
              "    <tr>\n",
              "      <th>549</th>\n",
              "      <td>NaN</td>\n",
              "      <td>NaN</td>\n",
              "      <td>1</td>\n",
              "      <td>2018</td>\n",
              "      <td>Rui Falcão</td>\n",
              "      <td>Pitangui, MG</td>\n",
              "    </tr>\n",
              "    <tr>\n",
              "      <th>550</th>\n",
              "      <td>NaN</td>\n",
              "      <td>NaN</td>\n",
              "      <td>1</td>\n",
              "      <td>2018</td>\n",
              "      <td>Sâmia Bomfim</td>\n",
              "      <td>Presidente Prudente, SP</td>\n",
              "    </tr>\n",
              "    <tr>\n",
              "      <th>551</th>\n",
              "      <td>NaN</td>\n",
              "      <td>NaN</td>\n",
              "      <td>1</td>\n",
              "      <td>2018</td>\n",
              "      <td>Tabata Amaral</td>\n",
              "      <td>São Paulo, SP</td>\n",
              "    </tr>\n",
              "    <tr>\n",
              "      <th>552</th>\n",
              "      <td>NaN</td>\n",
              "      <td>NaN</td>\n",
              "      <td>1</td>\n",
              "      <td>2018</td>\n",
              "      <td>Vinicius Poit</td>\n",
              "      <td>São Bernardo do Campo, SP</td>\n",
              "    </tr>\n",
              "  </tbody>\n",
              "</table>\n",
              "<p>576 rows × 6 columns</p>\n",
              "</div>"
            ],
            "text/plain": [
              "          Senadores eleitos  ...       Naturalidade ou base\n",
              "0           Eduardo Suplicy  ...                        NaN\n",
              "1     Auro de Moura Andrade  ...                        NaN\n",
              "2     Lino de Matos[nota 1]  ...                        NaN\n",
              "3    Franco Montoro[nota 2]  ...                        NaN\n",
              "4        Romeu Tuma[nota 3]  ...                        NaN\n",
              "..                      ...  ...                        ...\n",
              "548                     NaN  ...                 Santos, SP\n",
              "549                     NaN  ...               Pitangui, MG\n",
              "550                     NaN  ...    Presidente Prudente, SP\n",
              "551                     NaN  ...              São Paulo, SP\n",
              "552                     NaN  ...  São Bernardo do Campo, SP\n",
              "\n",
              "[576 rows x 6 columns]"
            ]
          },
          "metadata": {},
          "execution_count": 193
        }
      ]
    },
    {
      "cell_type": "code",
      "metadata": {
        "colab": {
          "base_uri": "https://localhost:8080/"
        },
        "id": "H0tz5zWq09lg",
        "outputId": "919c66e1-f4e0-4c73-9709-5feb015a78f5"
      },
      "source": [
        "tables[0].shape"
      ],
      "execution_count": 194,
      "outputs": [
        {
          "output_type": "execute_result",
          "data": {
            "text/plain": [
              "(23, 4)"
            ]
          },
          "metadata": {},
          "execution_count": 194
        }
      ]
    },
    {
      "cell_type": "code",
      "metadata": {
        "colab": {
          "base_uri": "https://localhost:8080/"
        },
        "id": "5LVW3uM01JxR",
        "outputId": "748adab9-ba47-49d2-e7cd-64a479e4f773"
      },
      "source": [
        "tables[1].shape"
      ],
      "execution_count": 195,
      "outputs": [
        {
          "output_type": "execute_result",
          "data": {
            "text/plain": [
              "(553, 4)"
            ]
          },
          "metadata": {},
          "execution_count": 195
        }
      ]
    },
    {
      "cell_type": "code",
      "metadata": {
        "id": "PbWuy9SQbrbM"
      },
      "source": [
        "url = ('https://pt.wikipedia.org/wiki/Lista_de_parlamentares_do_Rio_de_Janeiro')"
      ],
      "execution_count": 196,
      "outputs": []
    },
    {
      "cell_type": "code",
      "metadata": {
        "id": "sY4oVcR-cQTp"
      },
      "source": [
        "# requests_html: This library intends to make parsing HTML \n",
        "# (e.g. scraping the web) as simple and intuitive as possible.\n",
        "from requests_html import HTMLSession\n",
        "session = HTMLSession()"
      ],
      "execution_count": 197,
      "outputs": []
    },
    {
      "cell_type": "code",
      "metadata": {
        "id": "vGo31uducUkB"
      },
      "source": [
        "r = session.get(url)"
      ],
      "execution_count": 198,
      "outputs": []
    },
    {
      "cell_type": "code",
      "metadata": {
        "colab": {
          "base_uri": "https://localhost:8080/"
        },
        "id": "8Y-LEHBUcZIR",
        "outputId": "55be88ae-4505-4101-bd78-8a56ab482fc8"
      },
      "source": [
        "# Select Elements within Elements\n",
        "r.html.find(\"table\", first=True)\n"
      ],
      "execution_count": 199,
      "outputs": [
        {
          "output_type": "execute_result",
          "data": {
            "text/plain": [
              "<Element 'table' class=('wikitable',) style='font-size: 85%;'>"
            ]
          },
          "metadata": {},
          "execution_count": 199
        }
      ]
    },
    {
      "cell_type": "code",
      "metadata": {
        "colab": {
          "base_uri": "https://localhost:8080/"
        },
        "id": "3ngXeodr3i8P",
        "outputId": "36d0d0cd-c9a7-43ef-a4e0-7088d3e65547"
      },
      "source": [
        "r.html.find('h1')"
      ],
      "execution_count": 200,
      "outputs": [
        {
          "output_type": "execute_result",
          "data": {
            "text/plain": [
              "[<Element 'h1' class=('firstHeading',) id='firstHeading'>]"
            ]
          },
          "metadata": {},
          "execution_count": 200
        }
      ]
    },
    {
      "cell_type": "code",
      "metadata": {
        "colab": {
          "base_uri": "https://localhost:8080/",
          "height": 69
        },
        "id": "Atcom79n3Bl6",
        "outputId": "80eb0ef9-0a4c-4137-b85c-e6871d3bc031"
      },
      "source": [
        "r.html.find(\"table\", first=True).text"
      ],
      "execution_count": 201,
      "outputs": [
        {
          "output_type": "execute_result",
          "data": {
            "application/vnd.google.colaboratory.intrinsic+json": {
              "type": "string"
            },
            "text/plain": [
              "'Senadores eleitos\\nNaturalidade\\nMandatos\\nAno da eleição\\nHamilton Nogueira\\nCampos dos Goytacazes, RJ\\n1\\n1945\\nLuís Carlos Prestes[nota 1]\\nPorto Alegre, RS\\n1\\n1945\\nMário Ramos\\nRio de Janeiro, RJ\\n1\\n1947\\nAlencastro Guimarães\\nSão Sebastião do Caí, RS\\n1\\n1950\\nMozart Lago[nota 2]\\nNova Friburgo, RJ\\n1\\n1950\\nCaiado de Castro[nota 3]\\nRio de Janeiro, RJ\\n1\\n1954\\nGilberto Marinho[nota 3]\\nPelotas, RS\\n1\\n1954\\nAfonso Arinos[nota 4]\\nBelo Horizonte, MG\\n1\\n1958'"
            ]
          },
          "metadata": {},
          "execution_count": 201
        }
      ]
    },
    {
      "cell_type": "code",
      "metadata": {
        "colab": {
          "base_uri": "https://localhost:8080/"
        },
        "id": "WIQiH4493Jk_",
        "outputId": "1d5ab44a-eb70-457a-b3da-7be48874ef74"
      },
      "source": [
        "r.html.find('table', containing='Deputados')"
      ],
      "execution_count": 202,
      "outputs": [
        {
          "output_type": "execute_result",
          "data": {
            "text/plain": [
              "[<Element 'table' class=('wikitable',) style='font-size: 85%;'>,\n",
              " <Element 'table' class=('wikitable',) style='font-size: 85%;'>,\n",
              " <Element 'table' class=('wikitable',) style='font-size: 85%;'>]"
            ]
          },
          "metadata": {},
          "execution_count": 202
        }
      ]
    },
    {
      "cell_type": "code",
      "metadata": {
        "colab": {
          "base_uri": "https://localhost:8080/"
        },
        "id": "xsYr85aV4wwe",
        "outputId": "be8d4ce4-035d-4a5d-8604-d29374d78e07"
      },
      "source": [
        "r.html.find('table', containing='Marcelo')"
      ],
      "execution_count": 203,
      "outputs": [
        {
          "output_type": "execute_result",
          "data": {
            "text/plain": [
              "[<Element 'table' class=('wikitable',) style='font-size: 85%;'>,\n",
              " <Element 'table' class=('wikitable',) style='font-size: 85%;'>,\n",
              " <Element 'table' class=('wikitable',) style='font-size: 85%;'>]"
            ]
          },
          "metadata": {},
          "execution_count": 203
        }
      ]
    },
    {
      "cell_type": "code",
      "metadata": {
        "colab": {
          "base_uri": "https://localhost:8080/",
          "height": 69
        },
        "id": "QliTQYQL8rfJ",
        "outputId": "ed8a908b-1f77-4613-fdf6-d067f9ad01de"
      },
      "source": [
        "r.html.find('table', containing='Parlamentares do Congresso Nacional do Brasil por estado', first=True).text"
      ],
      "execution_count": 204,
      "outputs": [
        {
          "output_type": "execute_result",
          "data": {
            "application/vnd.google.colaboratory.intrinsic+json": {
              "type": "string"
            },
            "text/plain": [
              "'v\\nd\\ne\\nParlamentares do Congresso Nacional do Brasil por estado\\nAcre\\nAlagoas\\nAmapá\\nAmazonas\\nBahia\\nCeará\\nDistrito Federal\\nEspírito Santo\\nGoiás\\nMaranhão\\nMato Grosso\\nMato Grosso do Sul\\nMinas Gerais\\nPará\\nParaíba\\nParaná\\nPernambuco\\nPiauí\\nRio de Janeiro\\nRio Grande do Norte\\nRio Grande do Sul\\nRondônia\\nRoraima\\nSanta Catarina\\nSão Paulo\\nSergipe\\nTocantins'"
            ]
          },
          "metadata": {},
          "execution_count": 204
        }
      ]
    },
    {
      "cell_type": "code",
      "metadata": {
        "id": "E7H1ur8x-4ow"
      },
      "source": [
        "links = r.html.find('table', containing='Parlamentares do Congresso Nacional do Brasil por estado', first=True).find(\"a\")"
      ],
      "execution_count": 205,
      "outputs": []
    },
    {
      "cell_type": "code",
      "metadata": {
        "colab": {
          "base_uri": "https://localhost:8080/"
        },
        "id": "EqlFq1Hx_TLr",
        "outputId": "31ff2650-6a2e-4bc6-80af-32a50110d2f1"
      },
      "source": [
        "links"
      ],
      "execution_count": 206,
      "outputs": [
        {
          "output_type": "execute_result",
          "data": {
            "text/plain": [
              "[<Element 'a' href='/wiki/Predefini%C3%A7%C3%A3o:Parlamentares_do_Brasil' title='Predefinição:Parlamentares do Brasil'>,\n",
              " <Element 'a' class=('new',) href='/w/index.php?title=Predefini%C3%A7%C3%A3o_Discuss%C3%A3o:Parlamentares_do_Brasil&action=edit&redlink=1' title='Predefinição Discussão:Parlamentares do Brasil (página não existe)'>,\n",
              " <Element 'a' class=('external', 'text') href='https://pt.wikipedia.org/w/index.php?title=Predefini%C3%A7%C3%A3o:Parlamentares_do_Brasil&action=edit'>,\n",
              " <Element 'a' href='/wiki/Parlamentar' title='Parlamentar'>,\n",
              " <Element 'a' href='/wiki/Congresso_Nacional_do_Brasil' title='Congresso Nacional do Brasil'>,\n",
              " <Element 'a' href='/wiki/Lista_de_parlamentares_do_Acre' title='Lista de parlamentares do Acre'>,\n",
              " <Element 'a' href='/wiki/Lista_de_parlamentares_de_Alagoas' title='Lista de parlamentares de Alagoas'>,\n",
              " <Element 'a' href='/wiki/Lista_de_parlamentares_do_Amap%C3%A1' title='Lista de parlamentares do Amapá'>,\n",
              " <Element 'a' href='/wiki/Lista_de_parlamentares_do_Amazonas' title='Lista de parlamentares do Amazonas'>,\n",
              " <Element 'a' href='/wiki/Lista_de_parlamentares_da_Bahia' title='Lista de parlamentares da Bahia'>,\n",
              " <Element 'a' href='/wiki/Lista_de_parlamentares_do_Cear%C3%A1' title='Lista de parlamentares do Ceará'>,\n",
              " <Element 'a' href='/wiki/Lista_de_parlamentares_do_Distrito_Federal_(Brasil)' title='Lista de parlamentares do Distrito Federal (Brasil)'>,\n",
              " <Element 'a' href='/wiki/Lista_de_parlamentares_do_Esp%C3%ADrito_Santo' title='Lista de parlamentares do Espírito Santo'>,\n",
              " <Element 'a' href='/wiki/Lista_de_parlamentares_de_Goi%C3%A1s' title='Lista de parlamentares de Goiás'>,\n",
              " <Element 'a' href='/wiki/Lista_de_parlamentares_do_Maranh%C3%A3o' title='Lista de parlamentares do Maranhão'>,\n",
              " <Element 'a' href='/wiki/Lista_de_parlamentares_de_Mato_Grosso' title='Lista de parlamentares de Mato Grosso'>,\n",
              " <Element 'a' href='/wiki/Lista_de_parlamentares_de_Mato_Grosso_do_Sul' title='Lista de parlamentares de Mato Grosso do Sul'>,\n",
              " <Element 'a' href='/wiki/Lista_de_parlamentares_de_Minas_Gerais' title='Lista de parlamentares de Minas Gerais'>,\n",
              " <Element 'a' href='/wiki/Lista_de_parlamentares_do_Par%C3%A1' title='Lista de parlamentares do Pará'>,\n",
              " <Element 'a' href='/wiki/Lista_de_parlamentares_da_Para%C3%ADba' title='Lista de parlamentares da Paraíba'>,\n",
              " <Element 'a' href='/wiki/Lista_de_parlamentares_do_Paran%C3%A1' title='Lista de parlamentares do Paraná'>,\n",
              " <Element 'a' href='/wiki/Lista_de_parlamentares_de_Pernambuco' title='Lista de parlamentares de Pernambuco'>,\n",
              " <Element 'a' href='/wiki/Lista_de_parlamentares_do_Piau%C3%AD' title='Lista de parlamentares do Piauí'>,\n",
              " <Element 'a' class=('mw-selflink', 'selflink')>,\n",
              " <Element 'a' href='/wiki/Lista_de_parlamentares_do_Rio_Grande_do_Norte' title='Lista de parlamentares do Rio Grande do Norte'>,\n",
              " <Element 'a' href='/wiki/Lista_de_parlamentares_do_Rio_Grande_do_Sul' title='Lista de parlamentares do Rio Grande do Sul'>,\n",
              " <Element 'a' href='/wiki/Lista_de_parlamentares_de_Rond%C3%B4nia' title='Lista de parlamentares de Rondônia'>,\n",
              " <Element 'a' href='/wiki/Lista_de_parlamentares_de_Roraima' title='Lista de parlamentares de Roraima'>,\n",
              " <Element 'a' href='/wiki/Lista_de_parlamentares_de_Santa_Catarina' title='Lista de parlamentares de Santa Catarina'>,\n",
              " <Element 'a' href='/wiki/Lista_de_parlamentares_de_S%C3%A3o_Paulo' title='Lista de parlamentares de São Paulo'>,\n",
              " <Element 'a' href='/wiki/Lista_de_parlamentares_de_Sergipe' title='Lista de parlamentares de Sergipe'>,\n",
              " <Element 'a' href='/wiki/Lista_de_parlamentares_do_Tocantins' title='Lista de parlamentares do Tocantins'>]"
            ]
          },
          "metadata": {},
          "execution_count": 206
        }
      ]
    },
    {
      "cell_type": "code",
      "metadata": {
        "colab": {
          "base_uri": "https://localhost:8080/"
        },
        "id": "EFW-sQbB_ebw",
        "outputId": "d4ffa6fd-351c-4005-b6be-4320ba9896c7"
      },
      "source": [
        "links[5:]"
      ],
      "execution_count": 207,
      "outputs": [
        {
          "output_type": "execute_result",
          "data": {
            "text/plain": [
              "[<Element 'a' href='/wiki/Lista_de_parlamentares_do_Acre' title='Lista de parlamentares do Acre'>,\n",
              " <Element 'a' href='/wiki/Lista_de_parlamentares_de_Alagoas' title='Lista de parlamentares de Alagoas'>,\n",
              " <Element 'a' href='/wiki/Lista_de_parlamentares_do_Amap%C3%A1' title='Lista de parlamentares do Amapá'>,\n",
              " <Element 'a' href='/wiki/Lista_de_parlamentares_do_Amazonas' title='Lista de parlamentares do Amazonas'>,\n",
              " <Element 'a' href='/wiki/Lista_de_parlamentares_da_Bahia' title='Lista de parlamentares da Bahia'>,\n",
              " <Element 'a' href='/wiki/Lista_de_parlamentares_do_Cear%C3%A1' title='Lista de parlamentares do Ceará'>,\n",
              " <Element 'a' href='/wiki/Lista_de_parlamentares_do_Distrito_Federal_(Brasil)' title='Lista de parlamentares do Distrito Federal (Brasil)'>,\n",
              " <Element 'a' href='/wiki/Lista_de_parlamentares_do_Esp%C3%ADrito_Santo' title='Lista de parlamentares do Espírito Santo'>,\n",
              " <Element 'a' href='/wiki/Lista_de_parlamentares_de_Goi%C3%A1s' title='Lista de parlamentares de Goiás'>,\n",
              " <Element 'a' href='/wiki/Lista_de_parlamentares_do_Maranh%C3%A3o' title='Lista de parlamentares do Maranhão'>,\n",
              " <Element 'a' href='/wiki/Lista_de_parlamentares_de_Mato_Grosso' title='Lista de parlamentares de Mato Grosso'>,\n",
              " <Element 'a' href='/wiki/Lista_de_parlamentares_de_Mato_Grosso_do_Sul' title='Lista de parlamentares de Mato Grosso do Sul'>,\n",
              " <Element 'a' href='/wiki/Lista_de_parlamentares_de_Minas_Gerais' title='Lista de parlamentares de Minas Gerais'>,\n",
              " <Element 'a' href='/wiki/Lista_de_parlamentares_do_Par%C3%A1' title='Lista de parlamentares do Pará'>,\n",
              " <Element 'a' href='/wiki/Lista_de_parlamentares_da_Para%C3%ADba' title='Lista de parlamentares da Paraíba'>,\n",
              " <Element 'a' href='/wiki/Lista_de_parlamentares_do_Paran%C3%A1' title='Lista de parlamentares do Paraná'>,\n",
              " <Element 'a' href='/wiki/Lista_de_parlamentares_de_Pernambuco' title='Lista de parlamentares de Pernambuco'>,\n",
              " <Element 'a' href='/wiki/Lista_de_parlamentares_do_Piau%C3%AD' title='Lista de parlamentares do Piauí'>,\n",
              " <Element 'a' class=('mw-selflink', 'selflink')>,\n",
              " <Element 'a' href='/wiki/Lista_de_parlamentares_do_Rio_Grande_do_Norte' title='Lista de parlamentares do Rio Grande do Norte'>,\n",
              " <Element 'a' href='/wiki/Lista_de_parlamentares_do_Rio_Grande_do_Sul' title='Lista de parlamentares do Rio Grande do Sul'>,\n",
              " <Element 'a' href='/wiki/Lista_de_parlamentares_de_Rond%C3%B4nia' title='Lista de parlamentares de Rondônia'>,\n",
              " <Element 'a' href='/wiki/Lista_de_parlamentares_de_Roraima' title='Lista de parlamentares de Roraima'>,\n",
              " <Element 'a' href='/wiki/Lista_de_parlamentares_de_Santa_Catarina' title='Lista de parlamentares de Santa Catarina'>,\n",
              " <Element 'a' href='/wiki/Lista_de_parlamentares_de_S%C3%A3o_Paulo' title='Lista de parlamentares de São Paulo'>,\n",
              " <Element 'a' href='/wiki/Lista_de_parlamentares_de_Sergipe' title='Lista de parlamentares de Sergipe'>,\n",
              " <Element 'a' href='/wiki/Lista_de_parlamentares_do_Tocantins' title='Lista de parlamentares do Tocantins'>]"
            ]
          },
          "metadata": {},
          "execution_count": 207
        }
      ]
    },
    {
      "cell_type": "code",
      "metadata": {
        "colab": {
          "base_uri": "https://localhost:8080/"
        },
        "id": "fmznyEcSAKOc",
        "outputId": "a53d9963-a48b-4227-ff11-03df2f227f1b"
      },
      "source": [
        "links[0].absolute_links"
      ],
      "execution_count": 208,
      "outputs": [
        {
          "output_type": "execute_result",
          "data": {
            "text/plain": [
              "{'https://pt.wikipedia.org/wiki/Predefini%C3%A7%C3%A3o:Parlamentares_do_Brasil'}"
            ]
          },
          "metadata": {},
          "execution_count": 208
        }
      ]
    },
    {
      "cell_type": "code",
      "metadata": {
        "colab": {
          "base_uri": "https://localhost:8080/"
        },
        "id": "BPAEnjw6AfJU",
        "outputId": "61787ddb-4cb1-4b55-8ff6-16838d5569e4"
      },
      "source": [
        "links[25].absolute_links"
      ],
      "execution_count": 211,
      "outputs": [
        {
          "output_type": "execute_result",
          "data": {
            "text/plain": [
              "{'https://pt.wikipedia.org/wiki/Lista_de_parlamentares_do_Rio_Grande_do_Sul'}"
            ]
          },
          "metadata": {},
          "execution_count": 211
        }
      ]
    },
    {
      "cell_type": "code",
      "metadata": {
        "colab": {
          "base_uri": "https://localhost:8080/",
          "height": 35
        },
        "id": "x0k5bqscBgbU",
        "outputId": "21ce8659-786d-445a-f75b-dd50b91755c2"
      },
      "source": [
        "links[27].absolute_links.pop()"
      ],
      "execution_count": 214,
      "outputs": [
        {
          "output_type": "execute_result",
          "data": {
            "application/vnd.google.colaboratory.intrinsic+json": {
              "type": "string"
            },
            "text/plain": [
              "'https://pt.wikipedia.org/wiki/Lista_de_parlamentares_de_Roraima'"
            ]
          },
          "metadata": {},
          "execution_count": 214
        }
      ]
    },
    {
      "cell_type": "code",
      "metadata": {
        "colab": {
          "base_uri": "https://localhost:8080/"
        },
        "id": "JEWlKO-nCKn6",
        "outputId": "2e04f8d3-0136-404e-8989-a5b56c4a5b93"
      },
      "source": [
        "\"Lista_de_parlamentares\" in links[27].absolute_links.pop()"
      ],
      "execution_count": 219,
      "outputs": [
        {
          "output_type": "execute_result",
          "data": {
            "text/plain": [
              "True"
            ]
          },
          "metadata": {},
          "execution_count": 219
        }
      ]
    },
    {
      "cell_type": "code",
      "metadata": {
        "colab": {
          "base_uri": "https://localhost:8080/"
        },
        "id": "cuzl85HkDroJ",
        "outputId": "9e548309-de7b-4462-9939-1df3107a8117"
      },
      "source": [
        "for link in links:\n",
        "    if \"Lista_de_parlamentares\" in links[5].absolute_links.pop():\n",
        "        print(links)"
      ],
      "execution_count": 222,
      "outputs": [
        {
          "output_type": "stream",
          "name": "stdout",
          "text": [
            "[<Element 'a' href='/wiki/Predefini%C3%A7%C3%A3o:Parlamentares_do_Brasil' title='Predefinição:Parlamentares do Brasil'>, <Element 'a' class=('new',) href='/w/index.php?title=Predefini%C3%A7%C3%A3o_Discuss%C3%A3o:Parlamentares_do_Brasil&action=edit&redlink=1' title='Predefinição Discussão:Parlamentares do Brasil (página não existe)'>, <Element 'a' class=('external', 'text') href='https://pt.wikipedia.org/w/index.php?title=Predefini%C3%A7%C3%A3o:Parlamentares_do_Brasil&action=edit'>, <Element 'a' href='/wiki/Parlamentar' title='Parlamentar'>, <Element 'a' href='/wiki/Congresso_Nacional_do_Brasil' title='Congresso Nacional do Brasil'>, <Element 'a' href='/wiki/Lista_de_parlamentares_do_Acre' title='Lista de parlamentares do Acre'>, <Element 'a' href='/wiki/Lista_de_parlamentares_de_Alagoas' title='Lista de parlamentares de Alagoas'>, <Element 'a' href='/wiki/Lista_de_parlamentares_do_Amap%C3%A1' title='Lista de parlamentares do Amapá'>, <Element 'a' href='/wiki/Lista_de_parlamentares_do_Amazonas' title='Lista de parlamentares do Amazonas'>, <Element 'a' href='/wiki/Lista_de_parlamentares_da_Bahia' title='Lista de parlamentares da Bahia'>, <Element 'a' href='/wiki/Lista_de_parlamentares_do_Cear%C3%A1' title='Lista de parlamentares do Ceará'>, <Element 'a' href='/wiki/Lista_de_parlamentares_do_Distrito_Federal_(Brasil)' title='Lista de parlamentares do Distrito Federal (Brasil)'>, <Element 'a' href='/wiki/Lista_de_parlamentares_do_Esp%C3%ADrito_Santo' title='Lista de parlamentares do Espírito Santo'>, <Element 'a' href='/wiki/Lista_de_parlamentares_de_Goi%C3%A1s' title='Lista de parlamentares de Goiás'>, <Element 'a' href='/wiki/Lista_de_parlamentares_do_Maranh%C3%A3o' title='Lista de parlamentares do Maranhão'>, <Element 'a' href='/wiki/Lista_de_parlamentares_de_Mato_Grosso' title='Lista de parlamentares de Mato Grosso'>, <Element 'a' href='/wiki/Lista_de_parlamentares_de_Mato_Grosso_do_Sul' title='Lista de parlamentares de Mato Grosso do Sul'>, <Element 'a' href='/wiki/Lista_de_parlamentares_de_Minas_Gerais' title='Lista de parlamentares de Minas Gerais'>, <Element 'a' href='/wiki/Lista_de_parlamentares_do_Par%C3%A1' title='Lista de parlamentares do Pará'>, <Element 'a' href='/wiki/Lista_de_parlamentares_da_Para%C3%ADba' title='Lista de parlamentares da Paraíba'>, <Element 'a' href='/wiki/Lista_de_parlamentares_do_Paran%C3%A1' title='Lista de parlamentares do Paraná'>, <Element 'a' href='/wiki/Lista_de_parlamentares_de_Pernambuco' title='Lista de parlamentares de Pernambuco'>, <Element 'a' href='/wiki/Lista_de_parlamentares_do_Piau%C3%AD' title='Lista de parlamentares do Piauí'>, <Element 'a' class=('mw-selflink', 'selflink')>, <Element 'a' href='/wiki/Lista_de_parlamentares_do_Rio_Grande_do_Norte' title='Lista de parlamentares do Rio Grande do Norte'>, <Element 'a' href='/wiki/Lista_de_parlamentares_do_Rio_Grande_do_Sul' title='Lista de parlamentares do Rio Grande do Sul'>, <Element 'a' href='/wiki/Lista_de_parlamentares_de_Rond%C3%B4nia' title='Lista de parlamentares de Rondônia'>, <Element 'a' href='/wiki/Lista_de_parlamentares_de_Roraima' title='Lista de parlamentares de Roraima'>, <Element 'a' href='/wiki/Lista_de_parlamentares_de_Santa_Catarina' title='Lista de parlamentares de Santa Catarina'>, <Element 'a' href='/wiki/Lista_de_parlamentares_de_S%C3%A3o_Paulo' title='Lista de parlamentares de São Paulo'>, <Element 'a' href='/wiki/Lista_de_parlamentares_de_Sergipe' title='Lista de parlamentares de Sergipe'>, <Element 'a' href='/wiki/Lista_de_parlamentares_do_Tocantins' title='Lista de parlamentares do Tocantins'>]\n",
            "[<Element 'a' href='/wiki/Predefini%C3%A7%C3%A3o:Parlamentares_do_Brasil' title='Predefinição:Parlamentares do Brasil'>, <Element 'a' class=('new',) href='/w/index.php?title=Predefini%C3%A7%C3%A3o_Discuss%C3%A3o:Parlamentares_do_Brasil&action=edit&redlink=1' title='Predefinição Discussão:Parlamentares do Brasil (página não existe)'>, <Element 'a' class=('external', 'text') href='https://pt.wikipedia.org/w/index.php?title=Predefini%C3%A7%C3%A3o:Parlamentares_do_Brasil&action=edit'>, <Element 'a' href='/wiki/Parlamentar' title='Parlamentar'>, <Element 'a' href='/wiki/Congresso_Nacional_do_Brasil' title='Congresso Nacional do Brasil'>, <Element 'a' href='/wiki/Lista_de_parlamentares_do_Acre' title='Lista de parlamentares do Acre'>, <Element 'a' href='/wiki/Lista_de_parlamentares_de_Alagoas' title='Lista de parlamentares de Alagoas'>, <Element 'a' href='/wiki/Lista_de_parlamentares_do_Amap%C3%A1' title='Lista de parlamentares do Amapá'>, <Element 'a' href='/wiki/Lista_de_parlamentares_do_Amazonas' title='Lista de parlamentares do Amazonas'>, <Element 'a' href='/wiki/Lista_de_parlamentares_da_Bahia' title='Lista de parlamentares da Bahia'>, <Element 'a' href='/wiki/Lista_de_parlamentares_do_Cear%C3%A1' title='Lista de parlamentares do Ceará'>, <Element 'a' href='/wiki/Lista_de_parlamentares_do_Distrito_Federal_(Brasil)' title='Lista de parlamentares do Distrito Federal (Brasil)'>, <Element 'a' href='/wiki/Lista_de_parlamentares_do_Esp%C3%ADrito_Santo' title='Lista de parlamentares do Espírito Santo'>, <Element 'a' href='/wiki/Lista_de_parlamentares_de_Goi%C3%A1s' title='Lista de parlamentares de Goiás'>, <Element 'a' href='/wiki/Lista_de_parlamentares_do_Maranh%C3%A3o' title='Lista de parlamentares do Maranhão'>, <Element 'a' href='/wiki/Lista_de_parlamentares_de_Mato_Grosso' title='Lista de parlamentares de Mato Grosso'>, <Element 'a' href='/wiki/Lista_de_parlamentares_de_Mato_Grosso_do_Sul' title='Lista de parlamentares de Mato Grosso do Sul'>, <Element 'a' href='/wiki/Lista_de_parlamentares_de_Minas_Gerais' title='Lista de parlamentares de Minas Gerais'>, <Element 'a' href='/wiki/Lista_de_parlamentares_do_Par%C3%A1' title='Lista de parlamentares do Pará'>, <Element 'a' href='/wiki/Lista_de_parlamentares_da_Para%C3%ADba' title='Lista de parlamentares da Paraíba'>, <Element 'a' href='/wiki/Lista_de_parlamentares_do_Paran%C3%A1' title='Lista de parlamentares do Paraná'>, <Element 'a' href='/wiki/Lista_de_parlamentares_de_Pernambuco' title='Lista de parlamentares de Pernambuco'>, <Element 'a' href='/wiki/Lista_de_parlamentares_do_Piau%C3%AD' title='Lista de parlamentares do Piauí'>, <Element 'a' class=('mw-selflink', 'selflink')>, <Element 'a' href='/wiki/Lista_de_parlamentares_do_Rio_Grande_do_Norte' title='Lista de parlamentares do Rio Grande do Norte'>, <Element 'a' href='/wiki/Lista_de_parlamentares_do_Rio_Grande_do_Sul' title='Lista de parlamentares do Rio Grande do Sul'>, <Element 'a' href='/wiki/Lista_de_parlamentares_de_Rond%C3%B4nia' title='Lista de parlamentares de Rondônia'>, <Element 'a' href='/wiki/Lista_de_parlamentares_de_Roraima' title='Lista de parlamentares de Roraima'>, <Element 'a' href='/wiki/Lista_de_parlamentares_de_Santa_Catarina' title='Lista de parlamentares de Santa Catarina'>, <Element 'a' href='/wiki/Lista_de_parlamentares_de_S%C3%A3o_Paulo' title='Lista de parlamentares de São Paulo'>, <Element 'a' href='/wiki/Lista_de_parlamentares_de_Sergipe' title='Lista de parlamentares de Sergipe'>, <Element 'a' href='/wiki/Lista_de_parlamentares_do_Tocantins' title='Lista de parlamentares do Tocantins'>]\n",
            "[<Element 'a' href='/wiki/Predefini%C3%A7%C3%A3o:Parlamentares_do_Brasil' title='Predefinição:Parlamentares do Brasil'>, <Element 'a' class=('new',) href='/w/index.php?title=Predefini%C3%A7%C3%A3o_Discuss%C3%A3o:Parlamentares_do_Brasil&action=edit&redlink=1' title='Predefinição Discussão:Parlamentares do Brasil (página não existe)'>, <Element 'a' class=('external', 'text') href='https://pt.wikipedia.org/w/index.php?title=Predefini%C3%A7%C3%A3o:Parlamentares_do_Brasil&action=edit'>, <Element 'a' href='/wiki/Parlamentar' title='Parlamentar'>, <Element 'a' href='/wiki/Congresso_Nacional_do_Brasil' title='Congresso Nacional do Brasil'>, <Element 'a' href='/wiki/Lista_de_parlamentares_do_Acre' title='Lista de parlamentares do Acre'>, <Element 'a' href='/wiki/Lista_de_parlamentares_de_Alagoas' title='Lista de parlamentares de Alagoas'>, <Element 'a' href='/wiki/Lista_de_parlamentares_do_Amap%C3%A1' title='Lista de parlamentares do Amapá'>, <Element 'a' href='/wiki/Lista_de_parlamentares_do_Amazonas' title='Lista de parlamentares do Amazonas'>, <Element 'a' href='/wiki/Lista_de_parlamentares_da_Bahia' title='Lista de parlamentares da Bahia'>, <Element 'a' href='/wiki/Lista_de_parlamentares_do_Cear%C3%A1' title='Lista de parlamentares do Ceará'>, <Element 'a' href='/wiki/Lista_de_parlamentares_do_Distrito_Federal_(Brasil)' title='Lista de parlamentares do Distrito Federal (Brasil)'>, <Element 'a' href='/wiki/Lista_de_parlamentares_do_Esp%C3%ADrito_Santo' title='Lista de parlamentares do Espírito Santo'>, <Element 'a' href='/wiki/Lista_de_parlamentares_de_Goi%C3%A1s' title='Lista de parlamentares de Goiás'>, <Element 'a' href='/wiki/Lista_de_parlamentares_do_Maranh%C3%A3o' title='Lista de parlamentares do Maranhão'>, <Element 'a' href='/wiki/Lista_de_parlamentares_de_Mato_Grosso' title='Lista de parlamentares de Mato Grosso'>, <Element 'a' href='/wiki/Lista_de_parlamentares_de_Mato_Grosso_do_Sul' title='Lista de parlamentares de Mato Grosso do Sul'>, <Element 'a' href='/wiki/Lista_de_parlamentares_de_Minas_Gerais' title='Lista de parlamentares de Minas Gerais'>, <Element 'a' href='/wiki/Lista_de_parlamentares_do_Par%C3%A1' title='Lista de parlamentares do Pará'>, <Element 'a' href='/wiki/Lista_de_parlamentares_da_Para%C3%ADba' title='Lista de parlamentares da Paraíba'>, <Element 'a' href='/wiki/Lista_de_parlamentares_do_Paran%C3%A1' title='Lista de parlamentares do Paraná'>, <Element 'a' href='/wiki/Lista_de_parlamentares_de_Pernambuco' title='Lista de parlamentares de Pernambuco'>, <Element 'a' href='/wiki/Lista_de_parlamentares_do_Piau%C3%AD' title='Lista de parlamentares do Piauí'>, <Element 'a' class=('mw-selflink', 'selflink')>, <Element 'a' href='/wiki/Lista_de_parlamentares_do_Rio_Grande_do_Norte' title='Lista de parlamentares do Rio Grande do Norte'>, <Element 'a' href='/wiki/Lista_de_parlamentares_do_Rio_Grande_do_Sul' title='Lista de parlamentares do Rio Grande do Sul'>, <Element 'a' href='/wiki/Lista_de_parlamentares_de_Rond%C3%B4nia' title='Lista de parlamentares de Rondônia'>, <Element 'a' href='/wiki/Lista_de_parlamentares_de_Roraima' title='Lista de parlamentares de Roraima'>, <Element 'a' href='/wiki/Lista_de_parlamentares_de_Santa_Catarina' title='Lista de parlamentares de Santa Catarina'>, <Element 'a' href='/wiki/Lista_de_parlamentares_de_S%C3%A3o_Paulo' title='Lista de parlamentares de São Paulo'>, <Element 'a' href='/wiki/Lista_de_parlamentares_de_Sergipe' title='Lista de parlamentares de Sergipe'>, <Element 'a' href='/wiki/Lista_de_parlamentares_do_Tocantins' title='Lista de parlamentares do Tocantins'>]\n",
            "[<Element 'a' href='/wiki/Predefini%C3%A7%C3%A3o:Parlamentares_do_Brasil' title='Predefinição:Parlamentares do Brasil'>, <Element 'a' class=('new',) href='/w/index.php?title=Predefini%C3%A7%C3%A3o_Discuss%C3%A3o:Parlamentares_do_Brasil&action=edit&redlink=1' title='Predefinição Discussão:Parlamentares do Brasil (página não existe)'>, <Element 'a' class=('external', 'text') href='https://pt.wikipedia.org/w/index.php?title=Predefini%C3%A7%C3%A3o:Parlamentares_do_Brasil&action=edit'>, <Element 'a' href='/wiki/Parlamentar' title='Parlamentar'>, <Element 'a' href='/wiki/Congresso_Nacional_do_Brasil' title='Congresso Nacional do Brasil'>, <Element 'a' href='/wiki/Lista_de_parlamentares_do_Acre' title='Lista de parlamentares do Acre'>, <Element 'a' href='/wiki/Lista_de_parlamentares_de_Alagoas' title='Lista de parlamentares de Alagoas'>, <Element 'a' href='/wiki/Lista_de_parlamentares_do_Amap%C3%A1' title='Lista de parlamentares do Amapá'>, <Element 'a' href='/wiki/Lista_de_parlamentares_do_Amazonas' title='Lista de parlamentares do Amazonas'>, <Element 'a' href='/wiki/Lista_de_parlamentares_da_Bahia' title='Lista de parlamentares da Bahia'>, <Element 'a' href='/wiki/Lista_de_parlamentares_do_Cear%C3%A1' title='Lista de parlamentares do Ceará'>, <Element 'a' href='/wiki/Lista_de_parlamentares_do_Distrito_Federal_(Brasil)' title='Lista de parlamentares do Distrito Federal (Brasil)'>, <Element 'a' href='/wiki/Lista_de_parlamentares_do_Esp%C3%ADrito_Santo' title='Lista de parlamentares do Espírito Santo'>, <Element 'a' href='/wiki/Lista_de_parlamentares_de_Goi%C3%A1s' title='Lista de parlamentares de Goiás'>, <Element 'a' href='/wiki/Lista_de_parlamentares_do_Maranh%C3%A3o' title='Lista de parlamentares do Maranhão'>, <Element 'a' href='/wiki/Lista_de_parlamentares_de_Mato_Grosso' title='Lista de parlamentares de Mato Grosso'>, <Element 'a' href='/wiki/Lista_de_parlamentares_de_Mato_Grosso_do_Sul' title='Lista de parlamentares de Mato Grosso do Sul'>, <Element 'a' href='/wiki/Lista_de_parlamentares_de_Minas_Gerais' title='Lista de parlamentares de Minas Gerais'>, <Element 'a' href='/wiki/Lista_de_parlamentares_do_Par%C3%A1' title='Lista de parlamentares do Pará'>, <Element 'a' href='/wiki/Lista_de_parlamentares_da_Para%C3%ADba' title='Lista de parlamentares da Paraíba'>, <Element 'a' href='/wiki/Lista_de_parlamentares_do_Paran%C3%A1' title='Lista de parlamentares do Paraná'>, <Element 'a' href='/wiki/Lista_de_parlamentares_de_Pernambuco' title='Lista de parlamentares de Pernambuco'>, <Element 'a' href='/wiki/Lista_de_parlamentares_do_Piau%C3%AD' title='Lista de parlamentares do Piauí'>, <Element 'a' class=('mw-selflink', 'selflink')>, <Element 'a' href='/wiki/Lista_de_parlamentares_do_Rio_Grande_do_Norte' title='Lista de parlamentares do Rio Grande do Norte'>, <Element 'a' href='/wiki/Lista_de_parlamentares_do_Rio_Grande_do_Sul' title='Lista de parlamentares do Rio Grande do Sul'>, <Element 'a' href='/wiki/Lista_de_parlamentares_de_Rond%C3%B4nia' title='Lista de parlamentares de Rondônia'>, <Element 'a' href='/wiki/Lista_de_parlamentares_de_Roraima' title='Lista de parlamentares de Roraima'>, <Element 'a' href='/wiki/Lista_de_parlamentares_de_Santa_Catarina' title='Lista de parlamentares de Santa Catarina'>, <Element 'a' href='/wiki/Lista_de_parlamentares_de_S%C3%A3o_Paulo' title='Lista de parlamentares de São Paulo'>, <Element 'a' href='/wiki/Lista_de_parlamentares_de_Sergipe' title='Lista de parlamentares de Sergipe'>, <Element 'a' href='/wiki/Lista_de_parlamentares_do_Tocantins' title='Lista de parlamentares do Tocantins'>]\n",
            "[<Element 'a' href='/wiki/Predefini%C3%A7%C3%A3o:Parlamentares_do_Brasil' title='Predefinição:Parlamentares do Brasil'>, <Element 'a' class=('new',) href='/w/index.php?title=Predefini%C3%A7%C3%A3o_Discuss%C3%A3o:Parlamentares_do_Brasil&action=edit&redlink=1' title='Predefinição Discussão:Parlamentares do Brasil (página não existe)'>, <Element 'a' class=('external', 'text') href='https://pt.wikipedia.org/w/index.php?title=Predefini%C3%A7%C3%A3o:Parlamentares_do_Brasil&action=edit'>, <Element 'a' href='/wiki/Parlamentar' title='Parlamentar'>, <Element 'a' href='/wiki/Congresso_Nacional_do_Brasil' title='Congresso Nacional do Brasil'>, <Element 'a' href='/wiki/Lista_de_parlamentares_do_Acre' title='Lista de parlamentares do Acre'>, <Element 'a' href='/wiki/Lista_de_parlamentares_de_Alagoas' title='Lista de parlamentares de Alagoas'>, <Element 'a' href='/wiki/Lista_de_parlamentares_do_Amap%C3%A1' title='Lista de parlamentares do Amapá'>, <Element 'a' href='/wiki/Lista_de_parlamentares_do_Amazonas' title='Lista de parlamentares do Amazonas'>, <Element 'a' href='/wiki/Lista_de_parlamentares_da_Bahia' title='Lista de parlamentares da Bahia'>, <Element 'a' href='/wiki/Lista_de_parlamentares_do_Cear%C3%A1' title='Lista de parlamentares do Ceará'>, <Element 'a' href='/wiki/Lista_de_parlamentares_do_Distrito_Federal_(Brasil)' title='Lista de parlamentares do Distrito Federal (Brasil)'>, <Element 'a' href='/wiki/Lista_de_parlamentares_do_Esp%C3%ADrito_Santo' title='Lista de parlamentares do Espírito Santo'>, <Element 'a' href='/wiki/Lista_de_parlamentares_de_Goi%C3%A1s' title='Lista de parlamentares de Goiás'>, <Element 'a' href='/wiki/Lista_de_parlamentares_do_Maranh%C3%A3o' title='Lista de parlamentares do Maranhão'>, <Element 'a' href='/wiki/Lista_de_parlamentares_de_Mato_Grosso' title='Lista de parlamentares de Mato Grosso'>, <Element 'a' href='/wiki/Lista_de_parlamentares_de_Mato_Grosso_do_Sul' title='Lista de parlamentares de Mato Grosso do Sul'>, <Element 'a' href='/wiki/Lista_de_parlamentares_de_Minas_Gerais' title='Lista de parlamentares de Minas Gerais'>, <Element 'a' href='/wiki/Lista_de_parlamentares_do_Par%C3%A1' title='Lista de parlamentares do Pará'>, <Element 'a' href='/wiki/Lista_de_parlamentares_da_Para%C3%ADba' title='Lista de parlamentares da Paraíba'>, <Element 'a' href='/wiki/Lista_de_parlamentares_do_Paran%C3%A1' title='Lista de parlamentares do Paraná'>, <Element 'a' href='/wiki/Lista_de_parlamentares_de_Pernambuco' title='Lista de parlamentares de Pernambuco'>, <Element 'a' href='/wiki/Lista_de_parlamentares_do_Piau%C3%AD' title='Lista de parlamentares do Piauí'>, <Element 'a' class=('mw-selflink', 'selflink')>, <Element 'a' href='/wiki/Lista_de_parlamentares_do_Rio_Grande_do_Norte' title='Lista de parlamentares do Rio Grande do Norte'>, <Element 'a' href='/wiki/Lista_de_parlamentares_do_Rio_Grande_do_Sul' title='Lista de parlamentares do Rio Grande do Sul'>, <Element 'a' href='/wiki/Lista_de_parlamentares_de_Rond%C3%B4nia' title='Lista de parlamentares de Rondônia'>, <Element 'a' href='/wiki/Lista_de_parlamentares_de_Roraima' title='Lista de parlamentares de Roraima'>, <Element 'a' href='/wiki/Lista_de_parlamentares_de_Santa_Catarina' title='Lista de parlamentares de Santa Catarina'>, <Element 'a' href='/wiki/Lista_de_parlamentares_de_S%C3%A3o_Paulo' title='Lista de parlamentares de São Paulo'>, <Element 'a' href='/wiki/Lista_de_parlamentares_de_Sergipe' title='Lista de parlamentares de Sergipe'>, <Element 'a' href='/wiki/Lista_de_parlamentares_do_Tocantins' title='Lista de parlamentares do Tocantins'>]\n",
            "[<Element 'a' href='/wiki/Predefini%C3%A7%C3%A3o:Parlamentares_do_Brasil' title='Predefinição:Parlamentares do Brasil'>, <Element 'a' class=('new',) href='/w/index.php?title=Predefini%C3%A7%C3%A3o_Discuss%C3%A3o:Parlamentares_do_Brasil&action=edit&redlink=1' title='Predefinição Discussão:Parlamentares do Brasil (página não existe)'>, <Element 'a' class=('external', 'text') href='https://pt.wikipedia.org/w/index.php?title=Predefini%C3%A7%C3%A3o:Parlamentares_do_Brasil&action=edit'>, <Element 'a' href='/wiki/Parlamentar' title='Parlamentar'>, <Element 'a' href='/wiki/Congresso_Nacional_do_Brasil' title='Congresso Nacional do Brasil'>, <Element 'a' href='/wiki/Lista_de_parlamentares_do_Acre' title='Lista de parlamentares do Acre'>, <Element 'a' href='/wiki/Lista_de_parlamentares_de_Alagoas' title='Lista de parlamentares de Alagoas'>, <Element 'a' href='/wiki/Lista_de_parlamentares_do_Amap%C3%A1' title='Lista de parlamentares do Amapá'>, <Element 'a' href='/wiki/Lista_de_parlamentares_do_Amazonas' title='Lista de parlamentares do Amazonas'>, <Element 'a' href='/wiki/Lista_de_parlamentares_da_Bahia' title='Lista de parlamentares da Bahia'>, <Element 'a' href='/wiki/Lista_de_parlamentares_do_Cear%C3%A1' title='Lista de parlamentares do Ceará'>, <Element 'a' href='/wiki/Lista_de_parlamentares_do_Distrito_Federal_(Brasil)' title='Lista de parlamentares do Distrito Federal (Brasil)'>, <Element 'a' href='/wiki/Lista_de_parlamentares_do_Esp%C3%ADrito_Santo' title='Lista de parlamentares do Espírito Santo'>, <Element 'a' href='/wiki/Lista_de_parlamentares_de_Goi%C3%A1s' title='Lista de parlamentares de Goiás'>, <Element 'a' href='/wiki/Lista_de_parlamentares_do_Maranh%C3%A3o' title='Lista de parlamentares do Maranhão'>, <Element 'a' href='/wiki/Lista_de_parlamentares_de_Mato_Grosso' title='Lista de parlamentares de Mato Grosso'>, <Element 'a' href='/wiki/Lista_de_parlamentares_de_Mato_Grosso_do_Sul' title='Lista de parlamentares de Mato Grosso do Sul'>, <Element 'a' href='/wiki/Lista_de_parlamentares_de_Minas_Gerais' title='Lista de parlamentares de Minas Gerais'>, <Element 'a' href='/wiki/Lista_de_parlamentares_do_Par%C3%A1' title='Lista de parlamentares do Pará'>, <Element 'a' href='/wiki/Lista_de_parlamentares_da_Para%C3%ADba' title='Lista de parlamentares da Paraíba'>, <Element 'a' href='/wiki/Lista_de_parlamentares_do_Paran%C3%A1' title='Lista de parlamentares do Paraná'>, <Element 'a' href='/wiki/Lista_de_parlamentares_de_Pernambuco' title='Lista de parlamentares de Pernambuco'>, <Element 'a' href='/wiki/Lista_de_parlamentares_do_Piau%C3%AD' title='Lista de parlamentares do Piauí'>, <Element 'a' class=('mw-selflink', 'selflink')>, <Element 'a' href='/wiki/Lista_de_parlamentares_do_Rio_Grande_do_Norte' title='Lista de parlamentares do Rio Grande do Norte'>, <Element 'a' href='/wiki/Lista_de_parlamentares_do_Rio_Grande_do_Sul' title='Lista de parlamentares do Rio Grande do Sul'>, <Element 'a' href='/wiki/Lista_de_parlamentares_de_Rond%C3%B4nia' title='Lista de parlamentares de Rondônia'>, <Element 'a' href='/wiki/Lista_de_parlamentares_de_Roraima' title='Lista de parlamentares de Roraima'>, <Element 'a' href='/wiki/Lista_de_parlamentares_de_Santa_Catarina' title='Lista de parlamentares de Santa Catarina'>, <Element 'a' href='/wiki/Lista_de_parlamentares_de_S%C3%A3o_Paulo' title='Lista de parlamentares de São Paulo'>, <Element 'a' href='/wiki/Lista_de_parlamentares_de_Sergipe' title='Lista de parlamentares de Sergipe'>, <Element 'a' href='/wiki/Lista_de_parlamentares_do_Tocantins' title='Lista de parlamentares do Tocantins'>]\n",
            "[<Element 'a' href='/wiki/Predefini%C3%A7%C3%A3o:Parlamentares_do_Brasil' title='Predefinição:Parlamentares do Brasil'>, <Element 'a' class=('new',) href='/w/index.php?title=Predefini%C3%A7%C3%A3o_Discuss%C3%A3o:Parlamentares_do_Brasil&action=edit&redlink=1' title='Predefinição Discussão:Parlamentares do Brasil (página não existe)'>, <Element 'a' class=('external', 'text') href='https://pt.wikipedia.org/w/index.php?title=Predefini%C3%A7%C3%A3o:Parlamentares_do_Brasil&action=edit'>, <Element 'a' href='/wiki/Parlamentar' title='Parlamentar'>, <Element 'a' href='/wiki/Congresso_Nacional_do_Brasil' title='Congresso Nacional do Brasil'>, <Element 'a' href='/wiki/Lista_de_parlamentares_do_Acre' title='Lista de parlamentares do Acre'>, <Element 'a' href='/wiki/Lista_de_parlamentares_de_Alagoas' title='Lista de parlamentares de Alagoas'>, <Element 'a' href='/wiki/Lista_de_parlamentares_do_Amap%C3%A1' title='Lista de parlamentares do Amapá'>, <Element 'a' href='/wiki/Lista_de_parlamentares_do_Amazonas' title='Lista de parlamentares do Amazonas'>, <Element 'a' href='/wiki/Lista_de_parlamentares_da_Bahia' title='Lista de parlamentares da Bahia'>, <Element 'a' href='/wiki/Lista_de_parlamentares_do_Cear%C3%A1' title='Lista de parlamentares do Ceará'>, <Element 'a' href='/wiki/Lista_de_parlamentares_do_Distrito_Federal_(Brasil)' title='Lista de parlamentares do Distrito Federal (Brasil)'>, <Element 'a' href='/wiki/Lista_de_parlamentares_do_Esp%C3%ADrito_Santo' title='Lista de parlamentares do Espírito Santo'>, <Element 'a' href='/wiki/Lista_de_parlamentares_de_Goi%C3%A1s' title='Lista de parlamentares de Goiás'>, <Element 'a' href='/wiki/Lista_de_parlamentares_do_Maranh%C3%A3o' title='Lista de parlamentares do Maranhão'>, <Element 'a' href='/wiki/Lista_de_parlamentares_de_Mato_Grosso' title='Lista de parlamentares de Mato Grosso'>, <Element 'a' href='/wiki/Lista_de_parlamentares_de_Mato_Grosso_do_Sul' title='Lista de parlamentares de Mato Grosso do Sul'>, <Element 'a' href='/wiki/Lista_de_parlamentares_de_Minas_Gerais' title='Lista de parlamentares de Minas Gerais'>, <Element 'a' href='/wiki/Lista_de_parlamentares_do_Par%C3%A1' title='Lista de parlamentares do Pará'>, <Element 'a' href='/wiki/Lista_de_parlamentares_da_Para%C3%ADba' title='Lista de parlamentares da Paraíba'>, <Element 'a' href='/wiki/Lista_de_parlamentares_do_Paran%C3%A1' title='Lista de parlamentares do Paraná'>, <Element 'a' href='/wiki/Lista_de_parlamentares_de_Pernambuco' title='Lista de parlamentares de Pernambuco'>, <Element 'a' href='/wiki/Lista_de_parlamentares_do_Piau%C3%AD' title='Lista de parlamentares do Piauí'>, <Element 'a' class=('mw-selflink', 'selflink')>, <Element 'a' href='/wiki/Lista_de_parlamentares_do_Rio_Grande_do_Norte' title='Lista de parlamentares do Rio Grande do Norte'>, <Element 'a' href='/wiki/Lista_de_parlamentares_do_Rio_Grande_do_Sul' title='Lista de parlamentares do Rio Grande do Sul'>, <Element 'a' href='/wiki/Lista_de_parlamentares_de_Rond%C3%B4nia' title='Lista de parlamentares de Rondônia'>, <Element 'a' href='/wiki/Lista_de_parlamentares_de_Roraima' title='Lista de parlamentares de Roraima'>, <Element 'a' href='/wiki/Lista_de_parlamentares_de_Santa_Catarina' title='Lista de parlamentares de Santa Catarina'>, <Element 'a' href='/wiki/Lista_de_parlamentares_de_S%C3%A3o_Paulo' title='Lista de parlamentares de São Paulo'>, <Element 'a' href='/wiki/Lista_de_parlamentares_de_Sergipe' title='Lista de parlamentares de Sergipe'>, <Element 'a' href='/wiki/Lista_de_parlamentares_do_Tocantins' title='Lista de parlamentares do Tocantins'>]\n",
            "[<Element 'a' href='/wiki/Predefini%C3%A7%C3%A3o:Parlamentares_do_Brasil' title='Predefinição:Parlamentares do Brasil'>, <Element 'a' class=('new',) href='/w/index.php?title=Predefini%C3%A7%C3%A3o_Discuss%C3%A3o:Parlamentares_do_Brasil&action=edit&redlink=1' title='Predefinição Discussão:Parlamentares do Brasil (página não existe)'>, <Element 'a' class=('external', 'text') href='https://pt.wikipedia.org/w/index.php?title=Predefini%C3%A7%C3%A3o:Parlamentares_do_Brasil&action=edit'>, <Element 'a' href='/wiki/Parlamentar' title='Parlamentar'>, <Element 'a' href='/wiki/Congresso_Nacional_do_Brasil' title='Congresso Nacional do Brasil'>, <Element 'a' href='/wiki/Lista_de_parlamentares_do_Acre' title='Lista de parlamentares do Acre'>, <Element 'a' href='/wiki/Lista_de_parlamentares_de_Alagoas' title='Lista de parlamentares de Alagoas'>, <Element 'a' href='/wiki/Lista_de_parlamentares_do_Amap%C3%A1' title='Lista de parlamentares do Amapá'>, <Element 'a' href='/wiki/Lista_de_parlamentares_do_Amazonas' title='Lista de parlamentares do Amazonas'>, <Element 'a' href='/wiki/Lista_de_parlamentares_da_Bahia' title='Lista de parlamentares da Bahia'>, <Element 'a' href='/wiki/Lista_de_parlamentares_do_Cear%C3%A1' title='Lista de parlamentares do Ceará'>, <Element 'a' href='/wiki/Lista_de_parlamentares_do_Distrito_Federal_(Brasil)' title='Lista de parlamentares do Distrito Federal (Brasil)'>, <Element 'a' href='/wiki/Lista_de_parlamentares_do_Esp%C3%ADrito_Santo' title='Lista de parlamentares do Espírito Santo'>, <Element 'a' href='/wiki/Lista_de_parlamentares_de_Goi%C3%A1s' title='Lista de parlamentares de Goiás'>, <Element 'a' href='/wiki/Lista_de_parlamentares_do_Maranh%C3%A3o' title='Lista de parlamentares do Maranhão'>, <Element 'a' href='/wiki/Lista_de_parlamentares_de_Mato_Grosso' title='Lista de parlamentares de Mato Grosso'>, <Element 'a' href='/wiki/Lista_de_parlamentares_de_Mato_Grosso_do_Sul' title='Lista de parlamentares de Mato Grosso do Sul'>, <Element 'a' href='/wiki/Lista_de_parlamentares_de_Minas_Gerais' title='Lista de parlamentares de Minas Gerais'>, <Element 'a' href='/wiki/Lista_de_parlamentares_do_Par%C3%A1' title='Lista de parlamentares do Pará'>, <Element 'a' href='/wiki/Lista_de_parlamentares_da_Para%C3%ADba' title='Lista de parlamentares da Paraíba'>, <Element 'a' href='/wiki/Lista_de_parlamentares_do_Paran%C3%A1' title='Lista de parlamentares do Paraná'>, <Element 'a' href='/wiki/Lista_de_parlamentares_de_Pernambuco' title='Lista de parlamentares de Pernambuco'>, <Element 'a' href='/wiki/Lista_de_parlamentares_do_Piau%C3%AD' title='Lista de parlamentares do Piauí'>, <Element 'a' class=('mw-selflink', 'selflink')>, <Element 'a' href='/wiki/Lista_de_parlamentares_do_Rio_Grande_do_Norte' title='Lista de parlamentares do Rio Grande do Norte'>, <Element 'a' href='/wiki/Lista_de_parlamentares_do_Rio_Grande_do_Sul' title='Lista de parlamentares do Rio Grande do Sul'>, <Element 'a' href='/wiki/Lista_de_parlamentares_de_Rond%C3%B4nia' title='Lista de parlamentares de Rondônia'>, <Element 'a' href='/wiki/Lista_de_parlamentares_de_Roraima' title='Lista de parlamentares de Roraima'>, <Element 'a' href='/wiki/Lista_de_parlamentares_de_Santa_Catarina' title='Lista de parlamentares de Santa Catarina'>, <Element 'a' href='/wiki/Lista_de_parlamentares_de_S%C3%A3o_Paulo' title='Lista de parlamentares de São Paulo'>, <Element 'a' href='/wiki/Lista_de_parlamentares_de_Sergipe' title='Lista de parlamentares de Sergipe'>, <Element 'a' href='/wiki/Lista_de_parlamentares_do_Tocantins' title='Lista de parlamentares do Tocantins'>]\n",
            "[<Element 'a' href='/wiki/Predefini%C3%A7%C3%A3o:Parlamentares_do_Brasil' title='Predefinição:Parlamentares do Brasil'>, <Element 'a' class=('new',) href='/w/index.php?title=Predefini%C3%A7%C3%A3o_Discuss%C3%A3o:Parlamentares_do_Brasil&action=edit&redlink=1' title='Predefinição Discussão:Parlamentares do Brasil (página não existe)'>, <Element 'a' class=('external', 'text') href='https://pt.wikipedia.org/w/index.php?title=Predefini%C3%A7%C3%A3o:Parlamentares_do_Brasil&action=edit'>, <Element 'a' href='/wiki/Parlamentar' title='Parlamentar'>, <Element 'a' href='/wiki/Congresso_Nacional_do_Brasil' title='Congresso Nacional do Brasil'>, <Element 'a' href='/wiki/Lista_de_parlamentares_do_Acre' title='Lista de parlamentares do Acre'>, <Element 'a' href='/wiki/Lista_de_parlamentares_de_Alagoas' title='Lista de parlamentares de Alagoas'>, <Element 'a' href='/wiki/Lista_de_parlamentares_do_Amap%C3%A1' title='Lista de parlamentares do Amapá'>, <Element 'a' href='/wiki/Lista_de_parlamentares_do_Amazonas' title='Lista de parlamentares do Amazonas'>, <Element 'a' href='/wiki/Lista_de_parlamentares_da_Bahia' title='Lista de parlamentares da Bahia'>, <Element 'a' href='/wiki/Lista_de_parlamentares_do_Cear%C3%A1' title='Lista de parlamentares do Ceará'>, <Element 'a' href='/wiki/Lista_de_parlamentares_do_Distrito_Federal_(Brasil)' title='Lista de parlamentares do Distrito Federal (Brasil)'>, <Element 'a' href='/wiki/Lista_de_parlamentares_do_Esp%C3%ADrito_Santo' title='Lista de parlamentares do Espírito Santo'>, <Element 'a' href='/wiki/Lista_de_parlamentares_de_Goi%C3%A1s' title='Lista de parlamentares de Goiás'>, <Element 'a' href='/wiki/Lista_de_parlamentares_do_Maranh%C3%A3o' title='Lista de parlamentares do Maranhão'>, <Element 'a' href='/wiki/Lista_de_parlamentares_de_Mato_Grosso' title='Lista de parlamentares de Mato Grosso'>, <Element 'a' href='/wiki/Lista_de_parlamentares_de_Mato_Grosso_do_Sul' title='Lista de parlamentares de Mato Grosso do Sul'>, <Element 'a' href='/wiki/Lista_de_parlamentares_de_Minas_Gerais' title='Lista de parlamentares de Minas Gerais'>, <Element 'a' href='/wiki/Lista_de_parlamentares_do_Par%C3%A1' title='Lista de parlamentares do Pará'>, <Element 'a' href='/wiki/Lista_de_parlamentares_da_Para%C3%ADba' title='Lista de parlamentares da Paraíba'>, <Element 'a' href='/wiki/Lista_de_parlamentares_do_Paran%C3%A1' title='Lista de parlamentares do Paraná'>, <Element 'a' href='/wiki/Lista_de_parlamentares_de_Pernambuco' title='Lista de parlamentares de Pernambuco'>, <Element 'a' href='/wiki/Lista_de_parlamentares_do_Piau%C3%AD' title='Lista de parlamentares do Piauí'>, <Element 'a' class=('mw-selflink', 'selflink')>, <Element 'a' href='/wiki/Lista_de_parlamentares_do_Rio_Grande_do_Norte' title='Lista de parlamentares do Rio Grande do Norte'>, <Element 'a' href='/wiki/Lista_de_parlamentares_do_Rio_Grande_do_Sul' title='Lista de parlamentares do Rio Grande do Sul'>, <Element 'a' href='/wiki/Lista_de_parlamentares_de_Rond%C3%B4nia' title='Lista de parlamentares de Rondônia'>, <Element 'a' href='/wiki/Lista_de_parlamentares_de_Roraima' title='Lista de parlamentares de Roraima'>, <Element 'a' href='/wiki/Lista_de_parlamentares_de_Santa_Catarina' title='Lista de parlamentares de Santa Catarina'>, <Element 'a' href='/wiki/Lista_de_parlamentares_de_S%C3%A3o_Paulo' title='Lista de parlamentares de São Paulo'>, <Element 'a' href='/wiki/Lista_de_parlamentares_de_Sergipe' title='Lista de parlamentares de Sergipe'>, <Element 'a' href='/wiki/Lista_de_parlamentares_do_Tocantins' title='Lista de parlamentares do Tocantins'>]\n",
            "[<Element 'a' href='/wiki/Predefini%C3%A7%C3%A3o:Parlamentares_do_Brasil' title='Predefinição:Parlamentares do Brasil'>, <Element 'a' class=('new',) href='/w/index.php?title=Predefini%C3%A7%C3%A3o_Discuss%C3%A3o:Parlamentares_do_Brasil&action=edit&redlink=1' title='Predefinição Discussão:Parlamentares do Brasil (página não existe)'>, <Element 'a' class=('external', 'text') href='https://pt.wikipedia.org/w/index.php?title=Predefini%C3%A7%C3%A3o:Parlamentares_do_Brasil&action=edit'>, <Element 'a' href='/wiki/Parlamentar' title='Parlamentar'>, <Element 'a' href='/wiki/Congresso_Nacional_do_Brasil' title='Congresso Nacional do Brasil'>, <Element 'a' href='/wiki/Lista_de_parlamentares_do_Acre' title='Lista de parlamentares do Acre'>, <Element 'a' href='/wiki/Lista_de_parlamentares_de_Alagoas' title='Lista de parlamentares de Alagoas'>, <Element 'a' href='/wiki/Lista_de_parlamentares_do_Amap%C3%A1' title='Lista de parlamentares do Amapá'>, <Element 'a' href='/wiki/Lista_de_parlamentares_do_Amazonas' title='Lista de parlamentares do Amazonas'>, <Element 'a' href='/wiki/Lista_de_parlamentares_da_Bahia' title='Lista de parlamentares da Bahia'>, <Element 'a' href='/wiki/Lista_de_parlamentares_do_Cear%C3%A1' title='Lista de parlamentares do Ceará'>, <Element 'a' href='/wiki/Lista_de_parlamentares_do_Distrito_Federal_(Brasil)' title='Lista de parlamentares do Distrito Federal (Brasil)'>, <Element 'a' href='/wiki/Lista_de_parlamentares_do_Esp%C3%ADrito_Santo' title='Lista de parlamentares do Espírito Santo'>, <Element 'a' href='/wiki/Lista_de_parlamentares_de_Goi%C3%A1s' title='Lista de parlamentares de Goiás'>, <Element 'a' href='/wiki/Lista_de_parlamentares_do_Maranh%C3%A3o' title='Lista de parlamentares do Maranhão'>, <Element 'a' href='/wiki/Lista_de_parlamentares_de_Mato_Grosso' title='Lista de parlamentares de Mato Grosso'>, <Element 'a' href='/wiki/Lista_de_parlamentares_de_Mato_Grosso_do_Sul' title='Lista de parlamentares de Mato Grosso do Sul'>, <Element 'a' href='/wiki/Lista_de_parlamentares_de_Minas_Gerais' title='Lista de parlamentares de Minas Gerais'>, <Element 'a' href='/wiki/Lista_de_parlamentares_do_Par%C3%A1' title='Lista de parlamentares do Pará'>, <Element 'a' href='/wiki/Lista_de_parlamentares_da_Para%C3%ADba' title='Lista de parlamentares da Paraíba'>, <Element 'a' href='/wiki/Lista_de_parlamentares_do_Paran%C3%A1' title='Lista de parlamentares do Paraná'>, <Element 'a' href='/wiki/Lista_de_parlamentares_de_Pernambuco' title='Lista de parlamentares de Pernambuco'>, <Element 'a' href='/wiki/Lista_de_parlamentares_do_Piau%C3%AD' title='Lista de parlamentares do Piauí'>, <Element 'a' class=('mw-selflink', 'selflink')>, <Element 'a' href='/wiki/Lista_de_parlamentares_do_Rio_Grande_do_Norte' title='Lista de parlamentares do Rio Grande do Norte'>, <Element 'a' href='/wiki/Lista_de_parlamentares_do_Rio_Grande_do_Sul' title='Lista de parlamentares do Rio Grande do Sul'>, <Element 'a' href='/wiki/Lista_de_parlamentares_de_Rond%C3%B4nia' title='Lista de parlamentares de Rondônia'>, <Element 'a' href='/wiki/Lista_de_parlamentares_de_Roraima' title='Lista de parlamentares de Roraima'>, <Element 'a' href='/wiki/Lista_de_parlamentares_de_Santa_Catarina' title='Lista de parlamentares de Santa Catarina'>, <Element 'a' href='/wiki/Lista_de_parlamentares_de_S%C3%A3o_Paulo' title='Lista de parlamentares de São Paulo'>, <Element 'a' href='/wiki/Lista_de_parlamentares_de_Sergipe' title='Lista de parlamentares de Sergipe'>, <Element 'a' href='/wiki/Lista_de_parlamentares_do_Tocantins' title='Lista de parlamentares do Tocantins'>]\n",
            "[<Element 'a' href='/wiki/Predefini%C3%A7%C3%A3o:Parlamentares_do_Brasil' title='Predefinição:Parlamentares do Brasil'>, <Element 'a' class=('new',) href='/w/index.php?title=Predefini%C3%A7%C3%A3o_Discuss%C3%A3o:Parlamentares_do_Brasil&action=edit&redlink=1' title='Predefinição Discussão:Parlamentares do Brasil (página não existe)'>, <Element 'a' class=('external', 'text') href='https://pt.wikipedia.org/w/index.php?title=Predefini%C3%A7%C3%A3o:Parlamentares_do_Brasil&action=edit'>, <Element 'a' href='/wiki/Parlamentar' title='Parlamentar'>, <Element 'a' href='/wiki/Congresso_Nacional_do_Brasil' title='Congresso Nacional do Brasil'>, <Element 'a' href='/wiki/Lista_de_parlamentares_do_Acre' title='Lista de parlamentares do Acre'>, <Element 'a' href='/wiki/Lista_de_parlamentares_de_Alagoas' title='Lista de parlamentares de Alagoas'>, <Element 'a' href='/wiki/Lista_de_parlamentares_do_Amap%C3%A1' title='Lista de parlamentares do Amapá'>, <Element 'a' href='/wiki/Lista_de_parlamentares_do_Amazonas' title='Lista de parlamentares do Amazonas'>, <Element 'a' href='/wiki/Lista_de_parlamentares_da_Bahia' title='Lista de parlamentares da Bahia'>, <Element 'a' href='/wiki/Lista_de_parlamentares_do_Cear%C3%A1' title='Lista de parlamentares do Ceará'>, <Element 'a' href='/wiki/Lista_de_parlamentares_do_Distrito_Federal_(Brasil)' title='Lista de parlamentares do Distrito Federal (Brasil)'>, <Element 'a' href='/wiki/Lista_de_parlamentares_do_Esp%C3%ADrito_Santo' title='Lista de parlamentares do Espírito Santo'>, <Element 'a' href='/wiki/Lista_de_parlamentares_de_Goi%C3%A1s' title='Lista de parlamentares de Goiás'>, <Element 'a' href='/wiki/Lista_de_parlamentares_do_Maranh%C3%A3o' title='Lista de parlamentares do Maranhão'>, <Element 'a' href='/wiki/Lista_de_parlamentares_de_Mato_Grosso' title='Lista de parlamentares de Mato Grosso'>, <Element 'a' href='/wiki/Lista_de_parlamentares_de_Mato_Grosso_do_Sul' title='Lista de parlamentares de Mato Grosso do Sul'>, <Element 'a' href='/wiki/Lista_de_parlamentares_de_Minas_Gerais' title='Lista de parlamentares de Minas Gerais'>, <Element 'a' href='/wiki/Lista_de_parlamentares_do_Par%C3%A1' title='Lista de parlamentares do Pará'>, <Element 'a' href='/wiki/Lista_de_parlamentares_da_Para%C3%ADba' title='Lista de parlamentares da Paraíba'>, <Element 'a' href='/wiki/Lista_de_parlamentares_do_Paran%C3%A1' title='Lista de parlamentares do Paraná'>, <Element 'a' href='/wiki/Lista_de_parlamentares_de_Pernambuco' title='Lista de parlamentares de Pernambuco'>, <Element 'a' href='/wiki/Lista_de_parlamentares_do_Piau%C3%AD' title='Lista de parlamentares do Piauí'>, <Element 'a' class=('mw-selflink', 'selflink')>, <Element 'a' href='/wiki/Lista_de_parlamentares_do_Rio_Grande_do_Norte' title='Lista de parlamentares do Rio Grande do Norte'>, <Element 'a' href='/wiki/Lista_de_parlamentares_do_Rio_Grande_do_Sul' title='Lista de parlamentares do Rio Grande do Sul'>, <Element 'a' href='/wiki/Lista_de_parlamentares_de_Rond%C3%B4nia' title='Lista de parlamentares de Rondônia'>, <Element 'a' href='/wiki/Lista_de_parlamentares_de_Roraima' title='Lista de parlamentares de Roraima'>, <Element 'a' href='/wiki/Lista_de_parlamentares_de_Santa_Catarina' title='Lista de parlamentares de Santa Catarina'>, <Element 'a' href='/wiki/Lista_de_parlamentares_de_S%C3%A3o_Paulo' title='Lista de parlamentares de São Paulo'>, <Element 'a' href='/wiki/Lista_de_parlamentares_de_Sergipe' title='Lista de parlamentares de Sergipe'>, <Element 'a' href='/wiki/Lista_de_parlamentares_do_Tocantins' title='Lista de parlamentares do Tocantins'>]\n",
            "[<Element 'a' href='/wiki/Predefini%C3%A7%C3%A3o:Parlamentares_do_Brasil' title='Predefinição:Parlamentares do Brasil'>, <Element 'a' class=('new',) href='/w/index.php?title=Predefini%C3%A7%C3%A3o_Discuss%C3%A3o:Parlamentares_do_Brasil&action=edit&redlink=1' title='Predefinição Discussão:Parlamentares do Brasil (página não existe)'>, <Element 'a' class=('external', 'text') href='https://pt.wikipedia.org/w/index.php?title=Predefini%C3%A7%C3%A3o:Parlamentares_do_Brasil&action=edit'>, <Element 'a' href='/wiki/Parlamentar' title='Parlamentar'>, <Element 'a' href='/wiki/Congresso_Nacional_do_Brasil' title='Congresso Nacional do Brasil'>, <Element 'a' href='/wiki/Lista_de_parlamentares_do_Acre' title='Lista de parlamentares do Acre'>, <Element 'a' href='/wiki/Lista_de_parlamentares_de_Alagoas' title='Lista de parlamentares de Alagoas'>, <Element 'a' href='/wiki/Lista_de_parlamentares_do_Amap%C3%A1' title='Lista de parlamentares do Amapá'>, <Element 'a' href='/wiki/Lista_de_parlamentares_do_Amazonas' title='Lista de parlamentares do Amazonas'>, <Element 'a' href='/wiki/Lista_de_parlamentares_da_Bahia' title='Lista de parlamentares da Bahia'>, <Element 'a' href='/wiki/Lista_de_parlamentares_do_Cear%C3%A1' title='Lista de parlamentares do Ceará'>, <Element 'a' href='/wiki/Lista_de_parlamentares_do_Distrito_Federal_(Brasil)' title='Lista de parlamentares do Distrito Federal (Brasil)'>, <Element 'a' href='/wiki/Lista_de_parlamentares_do_Esp%C3%ADrito_Santo' title='Lista de parlamentares do Espírito Santo'>, <Element 'a' href='/wiki/Lista_de_parlamentares_de_Goi%C3%A1s' title='Lista de parlamentares de Goiás'>, <Element 'a' href='/wiki/Lista_de_parlamentares_do_Maranh%C3%A3o' title='Lista de parlamentares do Maranhão'>, <Element 'a' href='/wiki/Lista_de_parlamentares_de_Mato_Grosso' title='Lista de parlamentares de Mato Grosso'>, <Element 'a' href='/wiki/Lista_de_parlamentares_de_Mato_Grosso_do_Sul' title='Lista de parlamentares de Mato Grosso do Sul'>, <Element 'a' href='/wiki/Lista_de_parlamentares_de_Minas_Gerais' title='Lista de parlamentares de Minas Gerais'>, <Element 'a' href='/wiki/Lista_de_parlamentares_do_Par%C3%A1' title='Lista de parlamentares do Pará'>, <Element 'a' href='/wiki/Lista_de_parlamentares_da_Para%C3%ADba' title='Lista de parlamentares da Paraíba'>, <Element 'a' href='/wiki/Lista_de_parlamentares_do_Paran%C3%A1' title='Lista de parlamentares do Paraná'>, <Element 'a' href='/wiki/Lista_de_parlamentares_de_Pernambuco' title='Lista de parlamentares de Pernambuco'>, <Element 'a' href='/wiki/Lista_de_parlamentares_do_Piau%C3%AD' title='Lista de parlamentares do Piauí'>, <Element 'a' class=('mw-selflink', 'selflink')>, <Element 'a' href='/wiki/Lista_de_parlamentares_do_Rio_Grande_do_Norte' title='Lista de parlamentares do Rio Grande do Norte'>, <Element 'a' href='/wiki/Lista_de_parlamentares_do_Rio_Grande_do_Sul' title='Lista de parlamentares do Rio Grande do Sul'>, <Element 'a' href='/wiki/Lista_de_parlamentares_de_Rond%C3%B4nia' title='Lista de parlamentares de Rondônia'>, <Element 'a' href='/wiki/Lista_de_parlamentares_de_Roraima' title='Lista de parlamentares de Roraima'>, <Element 'a' href='/wiki/Lista_de_parlamentares_de_Santa_Catarina' title='Lista de parlamentares de Santa Catarina'>, <Element 'a' href='/wiki/Lista_de_parlamentares_de_S%C3%A3o_Paulo' title='Lista de parlamentares de São Paulo'>, <Element 'a' href='/wiki/Lista_de_parlamentares_de_Sergipe' title='Lista de parlamentares de Sergipe'>, <Element 'a' href='/wiki/Lista_de_parlamentares_do_Tocantins' title='Lista de parlamentares do Tocantins'>]\n",
            "[<Element 'a' href='/wiki/Predefini%C3%A7%C3%A3o:Parlamentares_do_Brasil' title='Predefinição:Parlamentares do Brasil'>, <Element 'a' class=('new',) href='/w/index.php?title=Predefini%C3%A7%C3%A3o_Discuss%C3%A3o:Parlamentares_do_Brasil&action=edit&redlink=1' title='Predefinição Discussão:Parlamentares do Brasil (página não existe)'>, <Element 'a' class=('external', 'text') href='https://pt.wikipedia.org/w/index.php?title=Predefini%C3%A7%C3%A3o:Parlamentares_do_Brasil&action=edit'>, <Element 'a' href='/wiki/Parlamentar' title='Parlamentar'>, <Element 'a' href='/wiki/Congresso_Nacional_do_Brasil' title='Congresso Nacional do Brasil'>, <Element 'a' href='/wiki/Lista_de_parlamentares_do_Acre' title='Lista de parlamentares do Acre'>, <Element 'a' href='/wiki/Lista_de_parlamentares_de_Alagoas' title='Lista de parlamentares de Alagoas'>, <Element 'a' href='/wiki/Lista_de_parlamentares_do_Amap%C3%A1' title='Lista de parlamentares do Amapá'>, <Element 'a' href='/wiki/Lista_de_parlamentares_do_Amazonas' title='Lista de parlamentares do Amazonas'>, <Element 'a' href='/wiki/Lista_de_parlamentares_da_Bahia' title='Lista de parlamentares da Bahia'>, <Element 'a' href='/wiki/Lista_de_parlamentares_do_Cear%C3%A1' title='Lista de parlamentares do Ceará'>, <Element 'a' href='/wiki/Lista_de_parlamentares_do_Distrito_Federal_(Brasil)' title='Lista de parlamentares do Distrito Federal (Brasil)'>, <Element 'a' href='/wiki/Lista_de_parlamentares_do_Esp%C3%ADrito_Santo' title='Lista de parlamentares do Espírito Santo'>, <Element 'a' href='/wiki/Lista_de_parlamentares_de_Goi%C3%A1s' title='Lista de parlamentares de Goiás'>, <Element 'a' href='/wiki/Lista_de_parlamentares_do_Maranh%C3%A3o' title='Lista de parlamentares do Maranhão'>, <Element 'a' href='/wiki/Lista_de_parlamentares_de_Mato_Grosso' title='Lista de parlamentares de Mato Grosso'>, <Element 'a' href='/wiki/Lista_de_parlamentares_de_Mato_Grosso_do_Sul' title='Lista de parlamentares de Mato Grosso do Sul'>, <Element 'a' href='/wiki/Lista_de_parlamentares_de_Minas_Gerais' title='Lista de parlamentares de Minas Gerais'>, <Element 'a' href='/wiki/Lista_de_parlamentares_do_Par%C3%A1' title='Lista de parlamentares do Pará'>, <Element 'a' href='/wiki/Lista_de_parlamentares_da_Para%C3%ADba' title='Lista de parlamentares da Paraíba'>, <Element 'a' href='/wiki/Lista_de_parlamentares_do_Paran%C3%A1' title='Lista de parlamentares do Paraná'>, <Element 'a' href='/wiki/Lista_de_parlamentares_de_Pernambuco' title='Lista de parlamentares de Pernambuco'>, <Element 'a' href='/wiki/Lista_de_parlamentares_do_Piau%C3%AD' title='Lista de parlamentares do Piauí'>, <Element 'a' class=('mw-selflink', 'selflink')>, <Element 'a' href='/wiki/Lista_de_parlamentares_do_Rio_Grande_do_Norte' title='Lista de parlamentares do Rio Grande do Norte'>, <Element 'a' href='/wiki/Lista_de_parlamentares_do_Rio_Grande_do_Sul' title='Lista de parlamentares do Rio Grande do Sul'>, <Element 'a' href='/wiki/Lista_de_parlamentares_de_Rond%C3%B4nia' title='Lista de parlamentares de Rondônia'>, <Element 'a' href='/wiki/Lista_de_parlamentares_de_Roraima' title='Lista de parlamentares de Roraima'>, <Element 'a' href='/wiki/Lista_de_parlamentares_de_Santa_Catarina' title='Lista de parlamentares de Santa Catarina'>, <Element 'a' href='/wiki/Lista_de_parlamentares_de_S%C3%A3o_Paulo' title='Lista de parlamentares de São Paulo'>, <Element 'a' href='/wiki/Lista_de_parlamentares_de_Sergipe' title='Lista de parlamentares de Sergipe'>, <Element 'a' href='/wiki/Lista_de_parlamentares_do_Tocantins' title='Lista de parlamentares do Tocantins'>]\n",
            "[<Element 'a' href='/wiki/Predefini%C3%A7%C3%A3o:Parlamentares_do_Brasil' title='Predefinição:Parlamentares do Brasil'>, <Element 'a' class=('new',) href='/w/index.php?title=Predefini%C3%A7%C3%A3o_Discuss%C3%A3o:Parlamentares_do_Brasil&action=edit&redlink=1' title='Predefinição Discussão:Parlamentares do Brasil (página não existe)'>, <Element 'a' class=('external', 'text') href='https://pt.wikipedia.org/w/index.php?title=Predefini%C3%A7%C3%A3o:Parlamentares_do_Brasil&action=edit'>, <Element 'a' href='/wiki/Parlamentar' title='Parlamentar'>, <Element 'a' href='/wiki/Congresso_Nacional_do_Brasil' title='Congresso Nacional do Brasil'>, <Element 'a' href='/wiki/Lista_de_parlamentares_do_Acre' title='Lista de parlamentares do Acre'>, <Element 'a' href='/wiki/Lista_de_parlamentares_de_Alagoas' title='Lista de parlamentares de Alagoas'>, <Element 'a' href='/wiki/Lista_de_parlamentares_do_Amap%C3%A1' title='Lista de parlamentares do Amapá'>, <Element 'a' href='/wiki/Lista_de_parlamentares_do_Amazonas' title='Lista de parlamentares do Amazonas'>, <Element 'a' href='/wiki/Lista_de_parlamentares_da_Bahia' title='Lista de parlamentares da Bahia'>, <Element 'a' href='/wiki/Lista_de_parlamentares_do_Cear%C3%A1' title='Lista de parlamentares do Ceará'>, <Element 'a' href='/wiki/Lista_de_parlamentares_do_Distrito_Federal_(Brasil)' title='Lista de parlamentares do Distrito Federal (Brasil)'>, <Element 'a' href='/wiki/Lista_de_parlamentares_do_Esp%C3%ADrito_Santo' title='Lista de parlamentares do Espírito Santo'>, <Element 'a' href='/wiki/Lista_de_parlamentares_de_Goi%C3%A1s' title='Lista de parlamentares de Goiás'>, <Element 'a' href='/wiki/Lista_de_parlamentares_do_Maranh%C3%A3o' title='Lista de parlamentares do Maranhão'>, <Element 'a' href='/wiki/Lista_de_parlamentares_de_Mato_Grosso' title='Lista de parlamentares de Mato Grosso'>, <Element 'a' href='/wiki/Lista_de_parlamentares_de_Mato_Grosso_do_Sul' title='Lista de parlamentares de Mato Grosso do Sul'>, <Element 'a' href='/wiki/Lista_de_parlamentares_de_Minas_Gerais' title='Lista de parlamentares de Minas Gerais'>, <Element 'a' href='/wiki/Lista_de_parlamentares_do_Par%C3%A1' title='Lista de parlamentares do Pará'>, <Element 'a' href='/wiki/Lista_de_parlamentares_da_Para%C3%ADba' title='Lista de parlamentares da Paraíba'>, <Element 'a' href='/wiki/Lista_de_parlamentares_do_Paran%C3%A1' title='Lista de parlamentares do Paraná'>, <Element 'a' href='/wiki/Lista_de_parlamentares_de_Pernambuco' title='Lista de parlamentares de Pernambuco'>, <Element 'a' href='/wiki/Lista_de_parlamentares_do_Piau%C3%AD' title='Lista de parlamentares do Piauí'>, <Element 'a' class=('mw-selflink', 'selflink')>, <Element 'a' href='/wiki/Lista_de_parlamentares_do_Rio_Grande_do_Norte' title='Lista de parlamentares do Rio Grande do Norte'>, <Element 'a' href='/wiki/Lista_de_parlamentares_do_Rio_Grande_do_Sul' title='Lista de parlamentares do Rio Grande do Sul'>, <Element 'a' href='/wiki/Lista_de_parlamentares_de_Rond%C3%B4nia' title='Lista de parlamentares de Rondônia'>, <Element 'a' href='/wiki/Lista_de_parlamentares_de_Roraima' title='Lista de parlamentares de Roraima'>, <Element 'a' href='/wiki/Lista_de_parlamentares_de_Santa_Catarina' title='Lista de parlamentares de Santa Catarina'>, <Element 'a' href='/wiki/Lista_de_parlamentares_de_S%C3%A3o_Paulo' title='Lista de parlamentares de São Paulo'>, <Element 'a' href='/wiki/Lista_de_parlamentares_de_Sergipe' title='Lista de parlamentares de Sergipe'>, <Element 'a' href='/wiki/Lista_de_parlamentares_do_Tocantins' title='Lista de parlamentares do Tocantins'>]\n",
            "[<Element 'a' href='/wiki/Predefini%C3%A7%C3%A3o:Parlamentares_do_Brasil' title='Predefinição:Parlamentares do Brasil'>, <Element 'a' class=('new',) href='/w/index.php?title=Predefini%C3%A7%C3%A3o_Discuss%C3%A3o:Parlamentares_do_Brasil&action=edit&redlink=1' title='Predefinição Discussão:Parlamentares do Brasil (página não existe)'>, <Element 'a' class=('external', 'text') href='https://pt.wikipedia.org/w/index.php?title=Predefini%C3%A7%C3%A3o:Parlamentares_do_Brasil&action=edit'>, <Element 'a' href='/wiki/Parlamentar' title='Parlamentar'>, <Element 'a' href='/wiki/Congresso_Nacional_do_Brasil' title='Congresso Nacional do Brasil'>, <Element 'a' href='/wiki/Lista_de_parlamentares_do_Acre' title='Lista de parlamentares do Acre'>, <Element 'a' href='/wiki/Lista_de_parlamentares_de_Alagoas' title='Lista de parlamentares de Alagoas'>, <Element 'a' href='/wiki/Lista_de_parlamentares_do_Amap%C3%A1' title='Lista de parlamentares do Amapá'>, <Element 'a' href='/wiki/Lista_de_parlamentares_do_Amazonas' title='Lista de parlamentares do Amazonas'>, <Element 'a' href='/wiki/Lista_de_parlamentares_da_Bahia' title='Lista de parlamentares da Bahia'>, <Element 'a' href='/wiki/Lista_de_parlamentares_do_Cear%C3%A1' title='Lista de parlamentares do Ceará'>, <Element 'a' href='/wiki/Lista_de_parlamentares_do_Distrito_Federal_(Brasil)' title='Lista de parlamentares do Distrito Federal (Brasil)'>, <Element 'a' href='/wiki/Lista_de_parlamentares_do_Esp%C3%ADrito_Santo' title='Lista de parlamentares do Espírito Santo'>, <Element 'a' href='/wiki/Lista_de_parlamentares_de_Goi%C3%A1s' title='Lista de parlamentares de Goiás'>, <Element 'a' href='/wiki/Lista_de_parlamentares_do_Maranh%C3%A3o' title='Lista de parlamentares do Maranhão'>, <Element 'a' href='/wiki/Lista_de_parlamentares_de_Mato_Grosso' title='Lista de parlamentares de Mato Grosso'>, <Element 'a' href='/wiki/Lista_de_parlamentares_de_Mato_Grosso_do_Sul' title='Lista de parlamentares de Mato Grosso do Sul'>, <Element 'a' href='/wiki/Lista_de_parlamentares_de_Minas_Gerais' title='Lista de parlamentares de Minas Gerais'>, <Element 'a' href='/wiki/Lista_de_parlamentares_do_Par%C3%A1' title='Lista de parlamentares do Pará'>, <Element 'a' href='/wiki/Lista_de_parlamentares_da_Para%C3%ADba' title='Lista de parlamentares da Paraíba'>, <Element 'a' href='/wiki/Lista_de_parlamentares_do_Paran%C3%A1' title='Lista de parlamentares do Paraná'>, <Element 'a' href='/wiki/Lista_de_parlamentares_de_Pernambuco' title='Lista de parlamentares de Pernambuco'>, <Element 'a' href='/wiki/Lista_de_parlamentares_do_Piau%C3%AD' title='Lista de parlamentares do Piauí'>, <Element 'a' class=('mw-selflink', 'selflink')>, <Element 'a' href='/wiki/Lista_de_parlamentares_do_Rio_Grande_do_Norte' title='Lista de parlamentares do Rio Grande do Norte'>, <Element 'a' href='/wiki/Lista_de_parlamentares_do_Rio_Grande_do_Sul' title='Lista de parlamentares do Rio Grande do Sul'>, <Element 'a' href='/wiki/Lista_de_parlamentares_de_Rond%C3%B4nia' title='Lista de parlamentares de Rondônia'>, <Element 'a' href='/wiki/Lista_de_parlamentares_de_Roraima' title='Lista de parlamentares de Roraima'>, <Element 'a' href='/wiki/Lista_de_parlamentares_de_Santa_Catarina' title='Lista de parlamentares de Santa Catarina'>, <Element 'a' href='/wiki/Lista_de_parlamentares_de_S%C3%A3o_Paulo' title='Lista de parlamentares de São Paulo'>, <Element 'a' href='/wiki/Lista_de_parlamentares_de_Sergipe' title='Lista de parlamentares de Sergipe'>, <Element 'a' href='/wiki/Lista_de_parlamentares_do_Tocantins' title='Lista de parlamentares do Tocantins'>]\n",
            "[<Element 'a' href='/wiki/Predefini%C3%A7%C3%A3o:Parlamentares_do_Brasil' title='Predefinição:Parlamentares do Brasil'>, <Element 'a' class=('new',) href='/w/index.php?title=Predefini%C3%A7%C3%A3o_Discuss%C3%A3o:Parlamentares_do_Brasil&action=edit&redlink=1' title='Predefinição Discussão:Parlamentares do Brasil (página não existe)'>, <Element 'a' class=('external', 'text') href='https://pt.wikipedia.org/w/index.php?title=Predefini%C3%A7%C3%A3o:Parlamentares_do_Brasil&action=edit'>, <Element 'a' href='/wiki/Parlamentar' title='Parlamentar'>, <Element 'a' href='/wiki/Congresso_Nacional_do_Brasil' title='Congresso Nacional do Brasil'>, <Element 'a' href='/wiki/Lista_de_parlamentares_do_Acre' title='Lista de parlamentares do Acre'>, <Element 'a' href='/wiki/Lista_de_parlamentares_de_Alagoas' title='Lista de parlamentares de Alagoas'>, <Element 'a' href='/wiki/Lista_de_parlamentares_do_Amap%C3%A1' title='Lista de parlamentares do Amapá'>, <Element 'a' href='/wiki/Lista_de_parlamentares_do_Amazonas' title='Lista de parlamentares do Amazonas'>, <Element 'a' href='/wiki/Lista_de_parlamentares_da_Bahia' title='Lista de parlamentares da Bahia'>, <Element 'a' href='/wiki/Lista_de_parlamentares_do_Cear%C3%A1' title='Lista de parlamentares do Ceará'>, <Element 'a' href='/wiki/Lista_de_parlamentares_do_Distrito_Federal_(Brasil)' title='Lista de parlamentares do Distrito Federal (Brasil)'>, <Element 'a' href='/wiki/Lista_de_parlamentares_do_Esp%C3%ADrito_Santo' title='Lista de parlamentares do Espírito Santo'>, <Element 'a' href='/wiki/Lista_de_parlamentares_de_Goi%C3%A1s' title='Lista de parlamentares de Goiás'>, <Element 'a' href='/wiki/Lista_de_parlamentares_do_Maranh%C3%A3o' title='Lista de parlamentares do Maranhão'>, <Element 'a' href='/wiki/Lista_de_parlamentares_de_Mato_Grosso' title='Lista de parlamentares de Mato Grosso'>, <Element 'a' href='/wiki/Lista_de_parlamentares_de_Mato_Grosso_do_Sul' title='Lista de parlamentares de Mato Grosso do Sul'>, <Element 'a' href='/wiki/Lista_de_parlamentares_de_Minas_Gerais' title='Lista de parlamentares de Minas Gerais'>, <Element 'a' href='/wiki/Lista_de_parlamentares_do_Par%C3%A1' title='Lista de parlamentares do Pará'>, <Element 'a' href='/wiki/Lista_de_parlamentares_da_Para%C3%ADba' title='Lista de parlamentares da Paraíba'>, <Element 'a' href='/wiki/Lista_de_parlamentares_do_Paran%C3%A1' title='Lista de parlamentares do Paraná'>, <Element 'a' href='/wiki/Lista_de_parlamentares_de_Pernambuco' title='Lista de parlamentares de Pernambuco'>, <Element 'a' href='/wiki/Lista_de_parlamentares_do_Piau%C3%AD' title='Lista de parlamentares do Piauí'>, <Element 'a' class=('mw-selflink', 'selflink')>, <Element 'a' href='/wiki/Lista_de_parlamentares_do_Rio_Grande_do_Norte' title='Lista de parlamentares do Rio Grande do Norte'>, <Element 'a' href='/wiki/Lista_de_parlamentares_do_Rio_Grande_do_Sul' title='Lista de parlamentares do Rio Grande do Sul'>, <Element 'a' href='/wiki/Lista_de_parlamentares_de_Rond%C3%B4nia' title='Lista de parlamentares de Rondônia'>, <Element 'a' href='/wiki/Lista_de_parlamentares_de_Roraima' title='Lista de parlamentares de Roraima'>, <Element 'a' href='/wiki/Lista_de_parlamentares_de_Santa_Catarina' title='Lista de parlamentares de Santa Catarina'>, <Element 'a' href='/wiki/Lista_de_parlamentares_de_S%C3%A3o_Paulo' title='Lista de parlamentares de São Paulo'>, <Element 'a' href='/wiki/Lista_de_parlamentares_de_Sergipe' title='Lista de parlamentares de Sergipe'>, <Element 'a' href='/wiki/Lista_de_parlamentares_do_Tocantins' title='Lista de parlamentares do Tocantins'>]\n",
            "[<Element 'a' href='/wiki/Predefini%C3%A7%C3%A3o:Parlamentares_do_Brasil' title='Predefinição:Parlamentares do Brasil'>, <Element 'a' class=('new',) href='/w/index.php?title=Predefini%C3%A7%C3%A3o_Discuss%C3%A3o:Parlamentares_do_Brasil&action=edit&redlink=1' title='Predefinição Discussão:Parlamentares do Brasil (página não existe)'>, <Element 'a' class=('external', 'text') href='https://pt.wikipedia.org/w/index.php?title=Predefini%C3%A7%C3%A3o:Parlamentares_do_Brasil&action=edit'>, <Element 'a' href='/wiki/Parlamentar' title='Parlamentar'>, <Element 'a' href='/wiki/Congresso_Nacional_do_Brasil' title='Congresso Nacional do Brasil'>, <Element 'a' href='/wiki/Lista_de_parlamentares_do_Acre' title='Lista de parlamentares do Acre'>, <Element 'a' href='/wiki/Lista_de_parlamentares_de_Alagoas' title='Lista de parlamentares de Alagoas'>, <Element 'a' href='/wiki/Lista_de_parlamentares_do_Amap%C3%A1' title='Lista de parlamentares do Amapá'>, <Element 'a' href='/wiki/Lista_de_parlamentares_do_Amazonas' title='Lista de parlamentares do Amazonas'>, <Element 'a' href='/wiki/Lista_de_parlamentares_da_Bahia' title='Lista de parlamentares da Bahia'>, <Element 'a' href='/wiki/Lista_de_parlamentares_do_Cear%C3%A1' title='Lista de parlamentares do Ceará'>, <Element 'a' href='/wiki/Lista_de_parlamentares_do_Distrito_Federal_(Brasil)' title='Lista de parlamentares do Distrito Federal (Brasil)'>, <Element 'a' href='/wiki/Lista_de_parlamentares_do_Esp%C3%ADrito_Santo' title='Lista de parlamentares do Espírito Santo'>, <Element 'a' href='/wiki/Lista_de_parlamentares_de_Goi%C3%A1s' title='Lista de parlamentares de Goiás'>, <Element 'a' href='/wiki/Lista_de_parlamentares_do_Maranh%C3%A3o' title='Lista de parlamentares do Maranhão'>, <Element 'a' href='/wiki/Lista_de_parlamentares_de_Mato_Grosso' title='Lista de parlamentares de Mato Grosso'>, <Element 'a' href='/wiki/Lista_de_parlamentares_de_Mato_Grosso_do_Sul' title='Lista de parlamentares de Mato Grosso do Sul'>, <Element 'a' href='/wiki/Lista_de_parlamentares_de_Minas_Gerais' title='Lista de parlamentares de Minas Gerais'>, <Element 'a' href='/wiki/Lista_de_parlamentares_do_Par%C3%A1' title='Lista de parlamentares do Pará'>, <Element 'a' href='/wiki/Lista_de_parlamentares_da_Para%C3%ADba' title='Lista de parlamentares da Paraíba'>, <Element 'a' href='/wiki/Lista_de_parlamentares_do_Paran%C3%A1' title='Lista de parlamentares do Paraná'>, <Element 'a' href='/wiki/Lista_de_parlamentares_de_Pernambuco' title='Lista de parlamentares de Pernambuco'>, <Element 'a' href='/wiki/Lista_de_parlamentares_do_Piau%C3%AD' title='Lista de parlamentares do Piauí'>, <Element 'a' class=('mw-selflink', 'selflink')>, <Element 'a' href='/wiki/Lista_de_parlamentares_do_Rio_Grande_do_Norte' title='Lista de parlamentares do Rio Grande do Norte'>, <Element 'a' href='/wiki/Lista_de_parlamentares_do_Rio_Grande_do_Sul' title='Lista de parlamentares do Rio Grande do Sul'>, <Element 'a' href='/wiki/Lista_de_parlamentares_de_Rond%C3%B4nia' title='Lista de parlamentares de Rondônia'>, <Element 'a' href='/wiki/Lista_de_parlamentares_de_Roraima' title='Lista de parlamentares de Roraima'>, <Element 'a' href='/wiki/Lista_de_parlamentares_de_Santa_Catarina' title='Lista de parlamentares de Santa Catarina'>, <Element 'a' href='/wiki/Lista_de_parlamentares_de_S%C3%A3o_Paulo' title='Lista de parlamentares de São Paulo'>, <Element 'a' href='/wiki/Lista_de_parlamentares_de_Sergipe' title='Lista de parlamentares de Sergipe'>, <Element 'a' href='/wiki/Lista_de_parlamentares_do_Tocantins' title='Lista de parlamentares do Tocantins'>]\n",
            "[<Element 'a' href='/wiki/Predefini%C3%A7%C3%A3o:Parlamentares_do_Brasil' title='Predefinição:Parlamentares do Brasil'>, <Element 'a' class=('new',) href='/w/index.php?title=Predefini%C3%A7%C3%A3o_Discuss%C3%A3o:Parlamentares_do_Brasil&action=edit&redlink=1' title='Predefinição Discussão:Parlamentares do Brasil (página não existe)'>, <Element 'a' class=('external', 'text') href='https://pt.wikipedia.org/w/index.php?title=Predefini%C3%A7%C3%A3o:Parlamentares_do_Brasil&action=edit'>, <Element 'a' href='/wiki/Parlamentar' title='Parlamentar'>, <Element 'a' href='/wiki/Congresso_Nacional_do_Brasil' title='Congresso Nacional do Brasil'>, <Element 'a' href='/wiki/Lista_de_parlamentares_do_Acre' title='Lista de parlamentares do Acre'>, <Element 'a' href='/wiki/Lista_de_parlamentares_de_Alagoas' title='Lista de parlamentares de Alagoas'>, <Element 'a' href='/wiki/Lista_de_parlamentares_do_Amap%C3%A1' title='Lista de parlamentares do Amapá'>, <Element 'a' href='/wiki/Lista_de_parlamentares_do_Amazonas' title='Lista de parlamentares do Amazonas'>, <Element 'a' href='/wiki/Lista_de_parlamentares_da_Bahia' title='Lista de parlamentares da Bahia'>, <Element 'a' href='/wiki/Lista_de_parlamentares_do_Cear%C3%A1' title='Lista de parlamentares do Ceará'>, <Element 'a' href='/wiki/Lista_de_parlamentares_do_Distrito_Federal_(Brasil)' title='Lista de parlamentares do Distrito Federal (Brasil)'>, <Element 'a' href='/wiki/Lista_de_parlamentares_do_Esp%C3%ADrito_Santo' title='Lista de parlamentares do Espírito Santo'>, <Element 'a' href='/wiki/Lista_de_parlamentares_de_Goi%C3%A1s' title='Lista de parlamentares de Goiás'>, <Element 'a' href='/wiki/Lista_de_parlamentares_do_Maranh%C3%A3o' title='Lista de parlamentares do Maranhão'>, <Element 'a' href='/wiki/Lista_de_parlamentares_de_Mato_Grosso' title='Lista de parlamentares de Mato Grosso'>, <Element 'a' href='/wiki/Lista_de_parlamentares_de_Mato_Grosso_do_Sul' title='Lista de parlamentares de Mato Grosso do Sul'>, <Element 'a' href='/wiki/Lista_de_parlamentares_de_Minas_Gerais' title='Lista de parlamentares de Minas Gerais'>, <Element 'a' href='/wiki/Lista_de_parlamentares_do_Par%C3%A1' title='Lista de parlamentares do Pará'>, <Element 'a' href='/wiki/Lista_de_parlamentares_da_Para%C3%ADba' title='Lista de parlamentares da Paraíba'>, <Element 'a' href='/wiki/Lista_de_parlamentares_do_Paran%C3%A1' title='Lista de parlamentares do Paraná'>, <Element 'a' href='/wiki/Lista_de_parlamentares_de_Pernambuco' title='Lista de parlamentares de Pernambuco'>, <Element 'a' href='/wiki/Lista_de_parlamentares_do_Piau%C3%AD' title='Lista de parlamentares do Piauí'>, <Element 'a' class=('mw-selflink', 'selflink')>, <Element 'a' href='/wiki/Lista_de_parlamentares_do_Rio_Grande_do_Norte' title='Lista de parlamentares do Rio Grande do Norte'>, <Element 'a' href='/wiki/Lista_de_parlamentares_do_Rio_Grande_do_Sul' title='Lista de parlamentares do Rio Grande do Sul'>, <Element 'a' href='/wiki/Lista_de_parlamentares_de_Rond%C3%B4nia' title='Lista de parlamentares de Rondônia'>, <Element 'a' href='/wiki/Lista_de_parlamentares_de_Roraima' title='Lista de parlamentares de Roraima'>, <Element 'a' href='/wiki/Lista_de_parlamentares_de_Santa_Catarina' title='Lista de parlamentares de Santa Catarina'>, <Element 'a' href='/wiki/Lista_de_parlamentares_de_S%C3%A3o_Paulo' title='Lista de parlamentares de São Paulo'>, <Element 'a' href='/wiki/Lista_de_parlamentares_de_Sergipe' title='Lista de parlamentares de Sergipe'>, <Element 'a' href='/wiki/Lista_de_parlamentares_do_Tocantins' title='Lista de parlamentares do Tocantins'>]\n",
            "[<Element 'a' href='/wiki/Predefini%C3%A7%C3%A3o:Parlamentares_do_Brasil' title='Predefinição:Parlamentares do Brasil'>, <Element 'a' class=('new',) href='/w/index.php?title=Predefini%C3%A7%C3%A3o_Discuss%C3%A3o:Parlamentares_do_Brasil&action=edit&redlink=1' title='Predefinição Discussão:Parlamentares do Brasil (página não existe)'>, <Element 'a' class=('external', 'text') href='https://pt.wikipedia.org/w/index.php?title=Predefini%C3%A7%C3%A3o:Parlamentares_do_Brasil&action=edit'>, <Element 'a' href='/wiki/Parlamentar' title='Parlamentar'>, <Element 'a' href='/wiki/Congresso_Nacional_do_Brasil' title='Congresso Nacional do Brasil'>, <Element 'a' href='/wiki/Lista_de_parlamentares_do_Acre' title='Lista de parlamentares do Acre'>, <Element 'a' href='/wiki/Lista_de_parlamentares_de_Alagoas' title='Lista de parlamentares de Alagoas'>, <Element 'a' href='/wiki/Lista_de_parlamentares_do_Amap%C3%A1' title='Lista de parlamentares do Amapá'>, <Element 'a' href='/wiki/Lista_de_parlamentares_do_Amazonas' title='Lista de parlamentares do Amazonas'>, <Element 'a' href='/wiki/Lista_de_parlamentares_da_Bahia' title='Lista de parlamentares da Bahia'>, <Element 'a' href='/wiki/Lista_de_parlamentares_do_Cear%C3%A1' title='Lista de parlamentares do Ceará'>, <Element 'a' href='/wiki/Lista_de_parlamentares_do_Distrito_Federal_(Brasil)' title='Lista de parlamentares do Distrito Federal (Brasil)'>, <Element 'a' href='/wiki/Lista_de_parlamentares_do_Esp%C3%ADrito_Santo' title='Lista de parlamentares do Espírito Santo'>, <Element 'a' href='/wiki/Lista_de_parlamentares_de_Goi%C3%A1s' title='Lista de parlamentares de Goiás'>, <Element 'a' href='/wiki/Lista_de_parlamentares_do_Maranh%C3%A3o' title='Lista de parlamentares do Maranhão'>, <Element 'a' href='/wiki/Lista_de_parlamentares_de_Mato_Grosso' title='Lista de parlamentares de Mato Grosso'>, <Element 'a' href='/wiki/Lista_de_parlamentares_de_Mato_Grosso_do_Sul' title='Lista de parlamentares de Mato Grosso do Sul'>, <Element 'a' href='/wiki/Lista_de_parlamentares_de_Minas_Gerais' title='Lista de parlamentares de Minas Gerais'>, <Element 'a' href='/wiki/Lista_de_parlamentares_do_Par%C3%A1' title='Lista de parlamentares do Pará'>, <Element 'a' href='/wiki/Lista_de_parlamentares_da_Para%C3%ADba' title='Lista de parlamentares da Paraíba'>, <Element 'a' href='/wiki/Lista_de_parlamentares_do_Paran%C3%A1' title='Lista de parlamentares do Paraná'>, <Element 'a' href='/wiki/Lista_de_parlamentares_de_Pernambuco' title='Lista de parlamentares de Pernambuco'>, <Element 'a' href='/wiki/Lista_de_parlamentares_do_Piau%C3%AD' title='Lista de parlamentares do Piauí'>, <Element 'a' class=('mw-selflink', 'selflink')>, <Element 'a' href='/wiki/Lista_de_parlamentares_do_Rio_Grande_do_Norte' title='Lista de parlamentares do Rio Grande do Norte'>, <Element 'a' href='/wiki/Lista_de_parlamentares_do_Rio_Grande_do_Sul' title='Lista de parlamentares do Rio Grande do Sul'>, <Element 'a' href='/wiki/Lista_de_parlamentares_de_Rond%C3%B4nia' title='Lista de parlamentares de Rondônia'>, <Element 'a' href='/wiki/Lista_de_parlamentares_de_Roraima' title='Lista de parlamentares de Roraima'>, <Element 'a' href='/wiki/Lista_de_parlamentares_de_Santa_Catarina' title='Lista de parlamentares de Santa Catarina'>, <Element 'a' href='/wiki/Lista_de_parlamentares_de_S%C3%A3o_Paulo' title='Lista de parlamentares de São Paulo'>, <Element 'a' href='/wiki/Lista_de_parlamentares_de_Sergipe' title='Lista de parlamentares de Sergipe'>, <Element 'a' href='/wiki/Lista_de_parlamentares_do_Tocantins' title='Lista de parlamentares do Tocantins'>]\n",
            "[<Element 'a' href='/wiki/Predefini%C3%A7%C3%A3o:Parlamentares_do_Brasil' title='Predefinição:Parlamentares do Brasil'>, <Element 'a' class=('new',) href='/w/index.php?title=Predefini%C3%A7%C3%A3o_Discuss%C3%A3o:Parlamentares_do_Brasil&action=edit&redlink=1' title='Predefinição Discussão:Parlamentares do Brasil (página não existe)'>, <Element 'a' class=('external', 'text') href='https://pt.wikipedia.org/w/index.php?title=Predefini%C3%A7%C3%A3o:Parlamentares_do_Brasil&action=edit'>, <Element 'a' href='/wiki/Parlamentar' title='Parlamentar'>, <Element 'a' href='/wiki/Congresso_Nacional_do_Brasil' title='Congresso Nacional do Brasil'>, <Element 'a' href='/wiki/Lista_de_parlamentares_do_Acre' title='Lista de parlamentares do Acre'>, <Element 'a' href='/wiki/Lista_de_parlamentares_de_Alagoas' title='Lista de parlamentares de Alagoas'>, <Element 'a' href='/wiki/Lista_de_parlamentares_do_Amap%C3%A1' title='Lista de parlamentares do Amapá'>, <Element 'a' href='/wiki/Lista_de_parlamentares_do_Amazonas' title='Lista de parlamentares do Amazonas'>, <Element 'a' href='/wiki/Lista_de_parlamentares_da_Bahia' title='Lista de parlamentares da Bahia'>, <Element 'a' href='/wiki/Lista_de_parlamentares_do_Cear%C3%A1' title='Lista de parlamentares do Ceará'>, <Element 'a' href='/wiki/Lista_de_parlamentares_do_Distrito_Federal_(Brasil)' title='Lista de parlamentares do Distrito Federal (Brasil)'>, <Element 'a' href='/wiki/Lista_de_parlamentares_do_Esp%C3%ADrito_Santo' title='Lista de parlamentares do Espírito Santo'>, <Element 'a' href='/wiki/Lista_de_parlamentares_de_Goi%C3%A1s' title='Lista de parlamentares de Goiás'>, <Element 'a' href='/wiki/Lista_de_parlamentares_do_Maranh%C3%A3o' title='Lista de parlamentares do Maranhão'>, <Element 'a' href='/wiki/Lista_de_parlamentares_de_Mato_Grosso' title='Lista de parlamentares de Mato Grosso'>, <Element 'a' href='/wiki/Lista_de_parlamentares_de_Mato_Grosso_do_Sul' title='Lista de parlamentares de Mato Grosso do Sul'>, <Element 'a' href='/wiki/Lista_de_parlamentares_de_Minas_Gerais' title='Lista de parlamentares de Minas Gerais'>, <Element 'a' href='/wiki/Lista_de_parlamentares_do_Par%C3%A1' title='Lista de parlamentares do Pará'>, <Element 'a' href='/wiki/Lista_de_parlamentares_da_Para%C3%ADba' title='Lista de parlamentares da Paraíba'>, <Element 'a' href='/wiki/Lista_de_parlamentares_do_Paran%C3%A1' title='Lista de parlamentares do Paraná'>, <Element 'a' href='/wiki/Lista_de_parlamentares_de_Pernambuco' title='Lista de parlamentares de Pernambuco'>, <Element 'a' href='/wiki/Lista_de_parlamentares_do_Piau%C3%AD' title='Lista de parlamentares do Piauí'>, <Element 'a' class=('mw-selflink', 'selflink')>, <Element 'a' href='/wiki/Lista_de_parlamentares_do_Rio_Grande_do_Norte' title='Lista de parlamentares do Rio Grande do Norte'>, <Element 'a' href='/wiki/Lista_de_parlamentares_do_Rio_Grande_do_Sul' title='Lista de parlamentares do Rio Grande do Sul'>, <Element 'a' href='/wiki/Lista_de_parlamentares_de_Rond%C3%B4nia' title='Lista de parlamentares de Rondônia'>, <Element 'a' href='/wiki/Lista_de_parlamentares_de_Roraima' title='Lista de parlamentares de Roraima'>, <Element 'a' href='/wiki/Lista_de_parlamentares_de_Santa_Catarina' title='Lista de parlamentares de Santa Catarina'>, <Element 'a' href='/wiki/Lista_de_parlamentares_de_S%C3%A3o_Paulo' title='Lista de parlamentares de São Paulo'>, <Element 'a' href='/wiki/Lista_de_parlamentares_de_Sergipe' title='Lista de parlamentares de Sergipe'>, <Element 'a' href='/wiki/Lista_de_parlamentares_do_Tocantins' title='Lista de parlamentares do Tocantins'>]\n",
            "[<Element 'a' href='/wiki/Predefini%C3%A7%C3%A3o:Parlamentares_do_Brasil' title='Predefinição:Parlamentares do Brasil'>, <Element 'a' class=('new',) href='/w/index.php?title=Predefini%C3%A7%C3%A3o_Discuss%C3%A3o:Parlamentares_do_Brasil&action=edit&redlink=1' title='Predefinição Discussão:Parlamentares do Brasil (página não existe)'>, <Element 'a' class=('external', 'text') href='https://pt.wikipedia.org/w/index.php?title=Predefini%C3%A7%C3%A3o:Parlamentares_do_Brasil&action=edit'>, <Element 'a' href='/wiki/Parlamentar' title='Parlamentar'>, <Element 'a' href='/wiki/Congresso_Nacional_do_Brasil' title='Congresso Nacional do Brasil'>, <Element 'a' href='/wiki/Lista_de_parlamentares_do_Acre' title='Lista de parlamentares do Acre'>, <Element 'a' href='/wiki/Lista_de_parlamentares_de_Alagoas' title='Lista de parlamentares de Alagoas'>, <Element 'a' href='/wiki/Lista_de_parlamentares_do_Amap%C3%A1' title='Lista de parlamentares do Amapá'>, <Element 'a' href='/wiki/Lista_de_parlamentares_do_Amazonas' title='Lista de parlamentares do Amazonas'>, <Element 'a' href='/wiki/Lista_de_parlamentares_da_Bahia' title='Lista de parlamentares da Bahia'>, <Element 'a' href='/wiki/Lista_de_parlamentares_do_Cear%C3%A1' title='Lista de parlamentares do Ceará'>, <Element 'a' href='/wiki/Lista_de_parlamentares_do_Distrito_Federal_(Brasil)' title='Lista de parlamentares do Distrito Federal (Brasil)'>, <Element 'a' href='/wiki/Lista_de_parlamentares_do_Esp%C3%ADrito_Santo' title='Lista de parlamentares do Espírito Santo'>, <Element 'a' href='/wiki/Lista_de_parlamentares_de_Goi%C3%A1s' title='Lista de parlamentares de Goiás'>, <Element 'a' href='/wiki/Lista_de_parlamentares_do_Maranh%C3%A3o' title='Lista de parlamentares do Maranhão'>, <Element 'a' href='/wiki/Lista_de_parlamentares_de_Mato_Grosso' title='Lista de parlamentares de Mato Grosso'>, <Element 'a' href='/wiki/Lista_de_parlamentares_de_Mato_Grosso_do_Sul' title='Lista de parlamentares de Mato Grosso do Sul'>, <Element 'a' href='/wiki/Lista_de_parlamentares_de_Minas_Gerais' title='Lista de parlamentares de Minas Gerais'>, <Element 'a' href='/wiki/Lista_de_parlamentares_do_Par%C3%A1' title='Lista de parlamentares do Pará'>, <Element 'a' href='/wiki/Lista_de_parlamentares_da_Para%C3%ADba' title='Lista de parlamentares da Paraíba'>, <Element 'a' href='/wiki/Lista_de_parlamentares_do_Paran%C3%A1' title='Lista de parlamentares do Paraná'>, <Element 'a' href='/wiki/Lista_de_parlamentares_de_Pernambuco' title='Lista de parlamentares de Pernambuco'>, <Element 'a' href='/wiki/Lista_de_parlamentares_do_Piau%C3%AD' title='Lista de parlamentares do Piauí'>, <Element 'a' class=('mw-selflink', 'selflink')>, <Element 'a' href='/wiki/Lista_de_parlamentares_do_Rio_Grande_do_Norte' title='Lista de parlamentares do Rio Grande do Norte'>, <Element 'a' href='/wiki/Lista_de_parlamentares_do_Rio_Grande_do_Sul' title='Lista de parlamentares do Rio Grande do Sul'>, <Element 'a' href='/wiki/Lista_de_parlamentares_de_Rond%C3%B4nia' title='Lista de parlamentares de Rondônia'>, <Element 'a' href='/wiki/Lista_de_parlamentares_de_Roraima' title='Lista de parlamentares de Roraima'>, <Element 'a' href='/wiki/Lista_de_parlamentares_de_Santa_Catarina' title='Lista de parlamentares de Santa Catarina'>, <Element 'a' href='/wiki/Lista_de_parlamentares_de_S%C3%A3o_Paulo' title='Lista de parlamentares de São Paulo'>, <Element 'a' href='/wiki/Lista_de_parlamentares_de_Sergipe' title='Lista de parlamentares de Sergipe'>, <Element 'a' href='/wiki/Lista_de_parlamentares_do_Tocantins' title='Lista de parlamentares do Tocantins'>]\n",
            "[<Element 'a' href='/wiki/Predefini%C3%A7%C3%A3o:Parlamentares_do_Brasil' title='Predefinição:Parlamentares do Brasil'>, <Element 'a' class=('new',) href='/w/index.php?title=Predefini%C3%A7%C3%A3o_Discuss%C3%A3o:Parlamentares_do_Brasil&action=edit&redlink=1' title='Predefinição Discussão:Parlamentares do Brasil (página não existe)'>, <Element 'a' class=('external', 'text') href='https://pt.wikipedia.org/w/index.php?title=Predefini%C3%A7%C3%A3o:Parlamentares_do_Brasil&action=edit'>, <Element 'a' href='/wiki/Parlamentar' title='Parlamentar'>, <Element 'a' href='/wiki/Congresso_Nacional_do_Brasil' title='Congresso Nacional do Brasil'>, <Element 'a' href='/wiki/Lista_de_parlamentares_do_Acre' title='Lista de parlamentares do Acre'>, <Element 'a' href='/wiki/Lista_de_parlamentares_de_Alagoas' title='Lista de parlamentares de Alagoas'>, <Element 'a' href='/wiki/Lista_de_parlamentares_do_Amap%C3%A1' title='Lista de parlamentares do Amapá'>, <Element 'a' href='/wiki/Lista_de_parlamentares_do_Amazonas' title='Lista de parlamentares do Amazonas'>, <Element 'a' href='/wiki/Lista_de_parlamentares_da_Bahia' title='Lista de parlamentares da Bahia'>, <Element 'a' href='/wiki/Lista_de_parlamentares_do_Cear%C3%A1' title='Lista de parlamentares do Ceará'>, <Element 'a' href='/wiki/Lista_de_parlamentares_do_Distrito_Federal_(Brasil)' title='Lista de parlamentares do Distrito Federal (Brasil)'>, <Element 'a' href='/wiki/Lista_de_parlamentares_do_Esp%C3%ADrito_Santo' title='Lista de parlamentares do Espírito Santo'>, <Element 'a' href='/wiki/Lista_de_parlamentares_de_Goi%C3%A1s' title='Lista de parlamentares de Goiás'>, <Element 'a' href='/wiki/Lista_de_parlamentares_do_Maranh%C3%A3o' title='Lista de parlamentares do Maranhão'>, <Element 'a' href='/wiki/Lista_de_parlamentares_de_Mato_Grosso' title='Lista de parlamentares de Mato Grosso'>, <Element 'a' href='/wiki/Lista_de_parlamentares_de_Mato_Grosso_do_Sul' title='Lista de parlamentares de Mato Grosso do Sul'>, <Element 'a' href='/wiki/Lista_de_parlamentares_de_Minas_Gerais' title='Lista de parlamentares de Minas Gerais'>, <Element 'a' href='/wiki/Lista_de_parlamentares_do_Par%C3%A1' title='Lista de parlamentares do Pará'>, <Element 'a' href='/wiki/Lista_de_parlamentares_da_Para%C3%ADba' title='Lista de parlamentares da Paraíba'>, <Element 'a' href='/wiki/Lista_de_parlamentares_do_Paran%C3%A1' title='Lista de parlamentares do Paraná'>, <Element 'a' href='/wiki/Lista_de_parlamentares_de_Pernambuco' title='Lista de parlamentares de Pernambuco'>, <Element 'a' href='/wiki/Lista_de_parlamentares_do_Piau%C3%AD' title='Lista de parlamentares do Piauí'>, <Element 'a' class=('mw-selflink', 'selflink')>, <Element 'a' href='/wiki/Lista_de_parlamentares_do_Rio_Grande_do_Norte' title='Lista de parlamentares do Rio Grande do Norte'>, <Element 'a' href='/wiki/Lista_de_parlamentares_do_Rio_Grande_do_Sul' title='Lista de parlamentares do Rio Grande do Sul'>, <Element 'a' href='/wiki/Lista_de_parlamentares_de_Rond%C3%B4nia' title='Lista de parlamentares de Rondônia'>, <Element 'a' href='/wiki/Lista_de_parlamentares_de_Roraima' title='Lista de parlamentares de Roraima'>, <Element 'a' href='/wiki/Lista_de_parlamentares_de_Santa_Catarina' title='Lista de parlamentares de Santa Catarina'>, <Element 'a' href='/wiki/Lista_de_parlamentares_de_S%C3%A3o_Paulo' title='Lista de parlamentares de São Paulo'>, <Element 'a' href='/wiki/Lista_de_parlamentares_de_Sergipe' title='Lista de parlamentares de Sergipe'>, <Element 'a' href='/wiki/Lista_de_parlamentares_do_Tocantins' title='Lista de parlamentares do Tocantins'>]\n",
            "[<Element 'a' href='/wiki/Predefini%C3%A7%C3%A3o:Parlamentares_do_Brasil' title='Predefinição:Parlamentares do Brasil'>, <Element 'a' class=('new',) href='/w/index.php?title=Predefini%C3%A7%C3%A3o_Discuss%C3%A3o:Parlamentares_do_Brasil&action=edit&redlink=1' title='Predefinição Discussão:Parlamentares do Brasil (página não existe)'>, <Element 'a' class=('external', 'text') href='https://pt.wikipedia.org/w/index.php?title=Predefini%C3%A7%C3%A3o:Parlamentares_do_Brasil&action=edit'>, <Element 'a' href='/wiki/Parlamentar' title='Parlamentar'>, <Element 'a' href='/wiki/Congresso_Nacional_do_Brasil' title='Congresso Nacional do Brasil'>, <Element 'a' href='/wiki/Lista_de_parlamentares_do_Acre' title='Lista de parlamentares do Acre'>, <Element 'a' href='/wiki/Lista_de_parlamentares_de_Alagoas' title='Lista de parlamentares de Alagoas'>, <Element 'a' href='/wiki/Lista_de_parlamentares_do_Amap%C3%A1' title='Lista de parlamentares do Amapá'>, <Element 'a' href='/wiki/Lista_de_parlamentares_do_Amazonas' title='Lista de parlamentares do Amazonas'>, <Element 'a' href='/wiki/Lista_de_parlamentares_da_Bahia' title='Lista de parlamentares da Bahia'>, <Element 'a' href='/wiki/Lista_de_parlamentares_do_Cear%C3%A1' title='Lista de parlamentares do Ceará'>, <Element 'a' href='/wiki/Lista_de_parlamentares_do_Distrito_Federal_(Brasil)' title='Lista de parlamentares do Distrito Federal (Brasil)'>, <Element 'a' href='/wiki/Lista_de_parlamentares_do_Esp%C3%ADrito_Santo' title='Lista de parlamentares do Espírito Santo'>, <Element 'a' href='/wiki/Lista_de_parlamentares_de_Goi%C3%A1s' title='Lista de parlamentares de Goiás'>, <Element 'a' href='/wiki/Lista_de_parlamentares_do_Maranh%C3%A3o' title='Lista de parlamentares do Maranhão'>, <Element 'a' href='/wiki/Lista_de_parlamentares_de_Mato_Grosso' title='Lista de parlamentares de Mato Grosso'>, <Element 'a' href='/wiki/Lista_de_parlamentares_de_Mato_Grosso_do_Sul' title='Lista de parlamentares de Mato Grosso do Sul'>, <Element 'a' href='/wiki/Lista_de_parlamentares_de_Minas_Gerais' title='Lista de parlamentares de Minas Gerais'>, <Element 'a' href='/wiki/Lista_de_parlamentares_do_Par%C3%A1' title='Lista de parlamentares do Pará'>, <Element 'a' href='/wiki/Lista_de_parlamentares_da_Para%C3%ADba' title='Lista de parlamentares da Paraíba'>, <Element 'a' href='/wiki/Lista_de_parlamentares_do_Paran%C3%A1' title='Lista de parlamentares do Paraná'>, <Element 'a' href='/wiki/Lista_de_parlamentares_de_Pernambuco' title='Lista de parlamentares de Pernambuco'>, <Element 'a' href='/wiki/Lista_de_parlamentares_do_Piau%C3%AD' title='Lista de parlamentares do Piauí'>, <Element 'a' class=('mw-selflink', 'selflink')>, <Element 'a' href='/wiki/Lista_de_parlamentares_do_Rio_Grande_do_Norte' title='Lista de parlamentares do Rio Grande do Norte'>, <Element 'a' href='/wiki/Lista_de_parlamentares_do_Rio_Grande_do_Sul' title='Lista de parlamentares do Rio Grande do Sul'>, <Element 'a' href='/wiki/Lista_de_parlamentares_de_Rond%C3%B4nia' title='Lista de parlamentares de Rondônia'>, <Element 'a' href='/wiki/Lista_de_parlamentares_de_Roraima' title='Lista de parlamentares de Roraima'>, <Element 'a' href='/wiki/Lista_de_parlamentares_de_Santa_Catarina' title='Lista de parlamentares de Santa Catarina'>, <Element 'a' href='/wiki/Lista_de_parlamentares_de_S%C3%A3o_Paulo' title='Lista de parlamentares de São Paulo'>, <Element 'a' href='/wiki/Lista_de_parlamentares_de_Sergipe' title='Lista de parlamentares de Sergipe'>, <Element 'a' href='/wiki/Lista_de_parlamentares_do_Tocantins' title='Lista de parlamentares do Tocantins'>]\n",
            "[<Element 'a' href='/wiki/Predefini%C3%A7%C3%A3o:Parlamentares_do_Brasil' title='Predefinição:Parlamentares do Brasil'>, <Element 'a' class=('new',) href='/w/index.php?title=Predefini%C3%A7%C3%A3o_Discuss%C3%A3o:Parlamentares_do_Brasil&action=edit&redlink=1' title='Predefinição Discussão:Parlamentares do Brasil (página não existe)'>, <Element 'a' class=('external', 'text') href='https://pt.wikipedia.org/w/index.php?title=Predefini%C3%A7%C3%A3o:Parlamentares_do_Brasil&action=edit'>, <Element 'a' href='/wiki/Parlamentar' title='Parlamentar'>, <Element 'a' href='/wiki/Congresso_Nacional_do_Brasil' title='Congresso Nacional do Brasil'>, <Element 'a' href='/wiki/Lista_de_parlamentares_do_Acre' title='Lista de parlamentares do Acre'>, <Element 'a' href='/wiki/Lista_de_parlamentares_de_Alagoas' title='Lista de parlamentares de Alagoas'>, <Element 'a' href='/wiki/Lista_de_parlamentares_do_Amap%C3%A1' title='Lista de parlamentares do Amapá'>, <Element 'a' href='/wiki/Lista_de_parlamentares_do_Amazonas' title='Lista de parlamentares do Amazonas'>, <Element 'a' href='/wiki/Lista_de_parlamentares_da_Bahia' title='Lista de parlamentares da Bahia'>, <Element 'a' href='/wiki/Lista_de_parlamentares_do_Cear%C3%A1' title='Lista de parlamentares do Ceará'>, <Element 'a' href='/wiki/Lista_de_parlamentares_do_Distrito_Federal_(Brasil)' title='Lista de parlamentares do Distrito Federal (Brasil)'>, <Element 'a' href='/wiki/Lista_de_parlamentares_do_Esp%C3%ADrito_Santo' title='Lista de parlamentares do Espírito Santo'>, <Element 'a' href='/wiki/Lista_de_parlamentares_de_Goi%C3%A1s' title='Lista de parlamentares de Goiás'>, <Element 'a' href='/wiki/Lista_de_parlamentares_do_Maranh%C3%A3o' title='Lista de parlamentares do Maranhão'>, <Element 'a' href='/wiki/Lista_de_parlamentares_de_Mato_Grosso' title='Lista de parlamentares de Mato Grosso'>, <Element 'a' href='/wiki/Lista_de_parlamentares_de_Mato_Grosso_do_Sul' title='Lista de parlamentares de Mato Grosso do Sul'>, <Element 'a' href='/wiki/Lista_de_parlamentares_de_Minas_Gerais' title='Lista de parlamentares de Minas Gerais'>, <Element 'a' href='/wiki/Lista_de_parlamentares_do_Par%C3%A1' title='Lista de parlamentares do Pará'>, <Element 'a' href='/wiki/Lista_de_parlamentares_da_Para%C3%ADba' title='Lista de parlamentares da Paraíba'>, <Element 'a' href='/wiki/Lista_de_parlamentares_do_Paran%C3%A1' title='Lista de parlamentares do Paraná'>, <Element 'a' href='/wiki/Lista_de_parlamentares_de_Pernambuco' title='Lista de parlamentares de Pernambuco'>, <Element 'a' href='/wiki/Lista_de_parlamentares_do_Piau%C3%AD' title='Lista de parlamentares do Piauí'>, <Element 'a' class=('mw-selflink', 'selflink')>, <Element 'a' href='/wiki/Lista_de_parlamentares_do_Rio_Grande_do_Norte' title='Lista de parlamentares do Rio Grande do Norte'>, <Element 'a' href='/wiki/Lista_de_parlamentares_do_Rio_Grande_do_Sul' title='Lista de parlamentares do Rio Grande do Sul'>, <Element 'a' href='/wiki/Lista_de_parlamentares_de_Rond%C3%B4nia' title='Lista de parlamentares de Rondônia'>, <Element 'a' href='/wiki/Lista_de_parlamentares_de_Roraima' title='Lista de parlamentares de Roraima'>, <Element 'a' href='/wiki/Lista_de_parlamentares_de_Santa_Catarina' title='Lista de parlamentares de Santa Catarina'>, <Element 'a' href='/wiki/Lista_de_parlamentares_de_S%C3%A3o_Paulo' title='Lista de parlamentares de São Paulo'>, <Element 'a' href='/wiki/Lista_de_parlamentares_de_Sergipe' title='Lista de parlamentares de Sergipe'>, <Element 'a' href='/wiki/Lista_de_parlamentares_do_Tocantins' title='Lista de parlamentares do Tocantins'>]\n",
            "[<Element 'a' href='/wiki/Predefini%C3%A7%C3%A3o:Parlamentares_do_Brasil' title='Predefinição:Parlamentares do Brasil'>, <Element 'a' class=('new',) href='/w/index.php?title=Predefini%C3%A7%C3%A3o_Discuss%C3%A3o:Parlamentares_do_Brasil&action=edit&redlink=1' title='Predefinição Discussão:Parlamentares do Brasil (página não existe)'>, <Element 'a' class=('external', 'text') href='https://pt.wikipedia.org/w/index.php?title=Predefini%C3%A7%C3%A3o:Parlamentares_do_Brasil&action=edit'>, <Element 'a' href='/wiki/Parlamentar' title='Parlamentar'>, <Element 'a' href='/wiki/Congresso_Nacional_do_Brasil' title='Congresso Nacional do Brasil'>, <Element 'a' href='/wiki/Lista_de_parlamentares_do_Acre' title='Lista de parlamentares do Acre'>, <Element 'a' href='/wiki/Lista_de_parlamentares_de_Alagoas' title='Lista de parlamentares de Alagoas'>, <Element 'a' href='/wiki/Lista_de_parlamentares_do_Amap%C3%A1' title='Lista de parlamentares do Amapá'>, <Element 'a' href='/wiki/Lista_de_parlamentares_do_Amazonas' title='Lista de parlamentares do Amazonas'>, <Element 'a' href='/wiki/Lista_de_parlamentares_da_Bahia' title='Lista de parlamentares da Bahia'>, <Element 'a' href='/wiki/Lista_de_parlamentares_do_Cear%C3%A1' title='Lista de parlamentares do Ceará'>, <Element 'a' href='/wiki/Lista_de_parlamentares_do_Distrito_Federal_(Brasil)' title='Lista de parlamentares do Distrito Federal (Brasil)'>, <Element 'a' href='/wiki/Lista_de_parlamentares_do_Esp%C3%ADrito_Santo' title='Lista de parlamentares do Espírito Santo'>, <Element 'a' href='/wiki/Lista_de_parlamentares_de_Goi%C3%A1s' title='Lista de parlamentares de Goiás'>, <Element 'a' href='/wiki/Lista_de_parlamentares_do_Maranh%C3%A3o' title='Lista de parlamentares do Maranhão'>, <Element 'a' href='/wiki/Lista_de_parlamentares_de_Mato_Grosso' title='Lista de parlamentares de Mato Grosso'>, <Element 'a' href='/wiki/Lista_de_parlamentares_de_Mato_Grosso_do_Sul' title='Lista de parlamentares de Mato Grosso do Sul'>, <Element 'a' href='/wiki/Lista_de_parlamentares_de_Minas_Gerais' title='Lista de parlamentares de Minas Gerais'>, <Element 'a' href='/wiki/Lista_de_parlamentares_do_Par%C3%A1' title='Lista de parlamentares do Pará'>, <Element 'a' href='/wiki/Lista_de_parlamentares_da_Para%C3%ADba' title='Lista de parlamentares da Paraíba'>, <Element 'a' href='/wiki/Lista_de_parlamentares_do_Paran%C3%A1' title='Lista de parlamentares do Paraná'>, <Element 'a' href='/wiki/Lista_de_parlamentares_de_Pernambuco' title='Lista de parlamentares de Pernambuco'>, <Element 'a' href='/wiki/Lista_de_parlamentares_do_Piau%C3%AD' title='Lista de parlamentares do Piauí'>, <Element 'a' class=('mw-selflink', 'selflink')>, <Element 'a' href='/wiki/Lista_de_parlamentares_do_Rio_Grande_do_Norte' title='Lista de parlamentares do Rio Grande do Norte'>, <Element 'a' href='/wiki/Lista_de_parlamentares_do_Rio_Grande_do_Sul' title='Lista de parlamentares do Rio Grande do Sul'>, <Element 'a' href='/wiki/Lista_de_parlamentares_de_Rond%C3%B4nia' title='Lista de parlamentares de Rondônia'>, <Element 'a' href='/wiki/Lista_de_parlamentares_de_Roraima' title='Lista de parlamentares de Roraima'>, <Element 'a' href='/wiki/Lista_de_parlamentares_de_Santa_Catarina' title='Lista de parlamentares de Santa Catarina'>, <Element 'a' href='/wiki/Lista_de_parlamentares_de_S%C3%A3o_Paulo' title='Lista de parlamentares de São Paulo'>, <Element 'a' href='/wiki/Lista_de_parlamentares_de_Sergipe' title='Lista de parlamentares de Sergipe'>, <Element 'a' href='/wiki/Lista_de_parlamentares_do_Tocantins' title='Lista de parlamentares do Tocantins'>]\n",
            "[<Element 'a' href='/wiki/Predefini%C3%A7%C3%A3o:Parlamentares_do_Brasil' title='Predefinição:Parlamentares do Brasil'>, <Element 'a' class=('new',) href='/w/index.php?title=Predefini%C3%A7%C3%A3o_Discuss%C3%A3o:Parlamentares_do_Brasil&action=edit&redlink=1' title='Predefinição Discussão:Parlamentares do Brasil (página não existe)'>, <Element 'a' class=('external', 'text') href='https://pt.wikipedia.org/w/index.php?title=Predefini%C3%A7%C3%A3o:Parlamentares_do_Brasil&action=edit'>, <Element 'a' href='/wiki/Parlamentar' title='Parlamentar'>, <Element 'a' href='/wiki/Congresso_Nacional_do_Brasil' title='Congresso Nacional do Brasil'>, <Element 'a' href='/wiki/Lista_de_parlamentares_do_Acre' title='Lista de parlamentares do Acre'>, <Element 'a' href='/wiki/Lista_de_parlamentares_de_Alagoas' title='Lista de parlamentares de Alagoas'>, <Element 'a' href='/wiki/Lista_de_parlamentares_do_Amap%C3%A1' title='Lista de parlamentares do Amapá'>, <Element 'a' href='/wiki/Lista_de_parlamentares_do_Amazonas' title='Lista de parlamentares do Amazonas'>, <Element 'a' href='/wiki/Lista_de_parlamentares_da_Bahia' title='Lista de parlamentares da Bahia'>, <Element 'a' href='/wiki/Lista_de_parlamentares_do_Cear%C3%A1' title='Lista de parlamentares do Ceará'>, <Element 'a' href='/wiki/Lista_de_parlamentares_do_Distrito_Federal_(Brasil)' title='Lista de parlamentares do Distrito Federal (Brasil)'>, <Element 'a' href='/wiki/Lista_de_parlamentares_do_Esp%C3%ADrito_Santo' title='Lista de parlamentares do Espírito Santo'>, <Element 'a' href='/wiki/Lista_de_parlamentares_de_Goi%C3%A1s' title='Lista de parlamentares de Goiás'>, <Element 'a' href='/wiki/Lista_de_parlamentares_do_Maranh%C3%A3o' title='Lista de parlamentares do Maranhão'>, <Element 'a' href='/wiki/Lista_de_parlamentares_de_Mato_Grosso' title='Lista de parlamentares de Mato Grosso'>, <Element 'a' href='/wiki/Lista_de_parlamentares_de_Mato_Grosso_do_Sul' title='Lista de parlamentares de Mato Grosso do Sul'>, <Element 'a' href='/wiki/Lista_de_parlamentares_de_Minas_Gerais' title='Lista de parlamentares de Minas Gerais'>, <Element 'a' href='/wiki/Lista_de_parlamentares_do_Par%C3%A1' title='Lista de parlamentares do Pará'>, <Element 'a' href='/wiki/Lista_de_parlamentares_da_Para%C3%ADba' title='Lista de parlamentares da Paraíba'>, <Element 'a' href='/wiki/Lista_de_parlamentares_do_Paran%C3%A1' title='Lista de parlamentares do Paraná'>, <Element 'a' href='/wiki/Lista_de_parlamentares_de_Pernambuco' title='Lista de parlamentares de Pernambuco'>, <Element 'a' href='/wiki/Lista_de_parlamentares_do_Piau%C3%AD' title='Lista de parlamentares do Piauí'>, <Element 'a' class=('mw-selflink', 'selflink')>, <Element 'a' href='/wiki/Lista_de_parlamentares_do_Rio_Grande_do_Norte' title='Lista de parlamentares do Rio Grande do Norte'>, <Element 'a' href='/wiki/Lista_de_parlamentares_do_Rio_Grande_do_Sul' title='Lista de parlamentares do Rio Grande do Sul'>, <Element 'a' href='/wiki/Lista_de_parlamentares_de_Rond%C3%B4nia' title='Lista de parlamentares de Rondônia'>, <Element 'a' href='/wiki/Lista_de_parlamentares_de_Roraima' title='Lista de parlamentares de Roraima'>, <Element 'a' href='/wiki/Lista_de_parlamentares_de_Santa_Catarina' title='Lista de parlamentares de Santa Catarina'>, <Element 'a' href='/wiki/Lista_de_parlamentares_de_S%C3%A3o_Paulo' title='Lista de parlamentares de São Paulo'>, <Element 'a' href='/wiki/Lista_de_parlamentares_de_Sergipe' title='Lista de parlamentares de Sergipe'>, <Element 'a' href='/wiki/Lista_de_parlamentares_do_Tocantins' title='Lista de parlamentares do Tocantins'>]\n",
            "[<Element 'a' href='/wiki/Predefini%C3%A7%C3%A3o:Parlamentares_do_Brasil' title='Predefinição:Parlamentares do Brasil'>, <Element 'a' class=('new',) href='/w/index.php?title=Predefini%C3%A7%C3%A3o_Discuss%C3%A3o:Parlamentares_do_Brasil&action=edit&redlink=1' title='Predefinição Discussão:Parlamentares do Brasil (página não existe)'>, <Element 'a' class=('external', 'text') href='https://pt.wikipedia.org/w/index.php?title=Predefini%C3%A7%C3%A3o:Parlamentares_do_Brasil&action=edit'>, <Element 'a' href='/wiki/Parlamentar' title='Parlamentar'>, <Element 'a' href='/wiki/Congresso_Nacional_do_Brasil' title='Congresso Nacional do Brasil'>, <Element 'a' href='/wiki/Lista_de_parlamentares_do_Acre' title='Lista de parlamentares do Acre'>, <Element 'a' href='/wiki/Lista_de_parlamentares_de_Alagoas' title='Lista de parlamentares de Alagoas'>, <Element 'a' href='/wiki/Lista_de_parlamentares_do_Amap%C3%A1' title='Lista de parlamentares do Amapá'>, <Element 'a' href='/wiki/Lista_de_parlamentares_do_Amazonas' title='Lista de parlamentares do Amazonas'>, <Element 'a' href='/wiki/Lista_de_parlamentares_da_Bahia' title='Lista de parlamentares da Bahia'>, <Element 'a' href='/wiki/Lista_de_parlamentares_do_Cear%C3%A1' title='Lista de parlamentares do Ceará'>, <Element 'a' href='/wiki/Lista_de_parlamentares_do_Distrito_Federal_(Brasil)' title='Lista de parlamentares do Distrito Federal (Brasil)'>, <Element 'a' href='/wiki/Lista_de_parlamentares_do_Esp%C3%ADrito_Santo' title='Lista de parlamentares do Espírito Santo'>, <Element 'a' href='/wiki/Lista_de_parlamentares_de_Goi%C3%A1s' title='Lista de parlamentares de Goiás'>, <Element 'a' href='/wiki/Lista_de_parlamentares_do_Maranh%C3%A3o' title='Lista de parlamentares do Maranhão'>, <Element 'a' href='/wiki/Lista_de_parlamentares_de_Mato_Grosso' title='Lista de parlamentares de Mato Grosso'>, <Element 'a' href='/wiki/Lista_de_parlamentares_de_Mato_Grosso_do_Sul' title='Lista de parlamentares de Mato Grosso do Sul'>, <Element 'a' href='/wiki/Lista_de_parlamentares_de_Minas_Gerais' title='Lista de parlamentares de Minas Gerais'>, <Element 'a' href='/wiki/Lista_de_parlamentares_do_Par%C3%A1' title='Lista de parlamentares do Pará'>, <Element 'a' href='/wiki/Lista_de_parlamentares_da_Para%C3%ADba' title='Lista de parlamentares da Paraíba'>, <Element 'a' href='/wiki/Lista_de_parlamentares_do_Paran%C3%A1' title='Lista de parlamentares do Paraná'>, <Element 'a' href='/wiki/Lista_de_parlamentares_de_Pernambuco' title='Lista de parlamentares de Pernambuco'>, <Element 'a' href='/wiki/Lista_de_parlamentares_do_Piau%C3%AD' title='Lista de parlamentares do Piauí'>, <Element 'a' class=('mw-selflink', 'selflink')>, <Element 'a' href='/wiki/Lista_de_parlamentares_do_Rio_Grande_do_Norte' title='Lista de parlamentares do Rio Grande do Norte'>, <Element 'a' href='/wiki/Lista_de_parlamentares_do_Rio_Grande_do_Sul' title='Lista de parlamentares do Rio Grande do Sul'>, <Element 'a' href='/wiki/Lista_de_parlamentares_de_Rond%C3%B4nia' title='Lista de parlamentares de Rondônia'>, <Element 'a' href='/wiki/Lista_de_parlamentares_de_Roraima' title='Lista de parlamentares de Roraima'>, <Element 'a' href='/wiki/Lista_de_parlamentares_de_Santa_Catarina' title='Lista de parlamentares de Santa Catarina'>, <Element 'a' href='/wiki/Lista_de_parlamentares_de_S%C3%A3o_Paulo' title='Lista de parlamentares de São Paulo'>, <Element 'a' href='/wiki/Lista_de_parlamentares_de_Sergipe' title='Lista de parlamentares de Sergipe'>, <Element 'a' href='/wiki/Lista_de_parlamentares_do_Tocantins' title='Lista de parlamentares do Tocantins'>]\n",
            "[<Element 'a' href='/wiki/Predefini%C3%A7%C3%A3o:Parlamentares_do_Brasil' title='Predefinição:Parlamentares do Brasil'>, <Element 'a' class=('new',) href='/w/index.php?title=Predefini%C3%A7%C3%A3o_Discuss%C3%A3o:Parlamentares_do_Brasil&action=edit&redlink=1' title='Predefinição Discussão:Parlamentares do Brasil (página não existe)'>, <Element 'a' class=('external', 'text') href='https://pt.wikipedia.org/w/index.php?title=Predefini%C3%A7%C3%A3o:Parlamentares_do_Brasil&action=edit'>, <Element 'a' href='/wiki/Parlamentar' title='Parlamentar'>, <Element 'a' href='/wiki/Congresso_Nacional_do_Brasil' title='Congresso Nacional do Brasil'>, <Element 'a' href='/wiki/Lista_de_parlamentares_do_Acre' title='Lista de parlamentares do Acre'>, <Element 'a' href='/wiki/Lista_de_parlamentares_de_Alagoas' title='Lista de parlamentares de Alagoas'>, <Element 'a' href='/wiki/Lista_de_parlamentares_do_Amap%C3%A1' title='Lista de parlamentares do Amapá'>, <Element 'a' href='/wiki/Lista_de_parlamentares_do_Amazonas' title='Lista de parlamentares do Amazonas'>, <Element 'a' href='/wiki/Lista_de_parlamentares_da_Bahia' title='Lista de parlamentares da Bahia'>, <Element 'a' href='/wiki/Lista_de_parlamentares_do_Cear%C3%A1' title='Lista de parlamentares do Ceará'>, <Element 'a' href='/wiki/Lista_de_parlamentares_do_Distrito_Federal_(Brasil)' title='Lista de parlamentares do Distrito Federal (Brasil)'>, <Element 'a' href='/wiki/Lista_de_parlamentares_do_Esp%C3%ADrito_Santo' title='Lista de parlamentares do Espírito Santo'>, <Element 'a' href='/wiki/Lista_de_parlamentares_de_Goi%C3%A1s' title='Lista de parlamentares de Goiás'>, <Element 'a' href='/wiki/Lista_de_parlamentares_do_Maranh%C3%A3o' title='Lista de parlamentares do Maranhão'>, <Element 'a' href='/wiki/Lista_de_parlamentares_de_Mato_Grosso' title='Lista de parlamentares de Mato Grosso'>, <Element 'a' href='/wiki/Lista_de_parlamentares_de_Mato_Grosso_do_Sul' title='Lista de parlamentares de Mato Grosso do Sul'>, <Element 'a' href='/wiki/Lista_de_parlamentares_de_Minas_Gerais' title='Lista de parlamentares de Minas Gerais'>, <Element 'a' href='/wiki/Lista_de_parlamentares_do_Par%C3%A1' title='Lista de parlamentares do Pará'>, <Element 'a' href='/wiki/Lista_de_parlamentares_da_Para%C3%ADba' title='Lista de parlamentares da Paraíba'>, <Element 'a' href='/wiki/Lista_de_parlamentares_do_Paran%C3%A1' title='Lista de parlamentares do Paraná'>, <Element 'a' href='/wiki/Lista_de_parlamentares_de_Pernambuco' title='Lista de parlamentares de Pernambuco'>, <Element 'a' href='/wiki/Lista_de_parlamentares_do_Piau%C3%AD' title='Lista de parlamentares do Piauí'>, <Element 'a' class=('mw-selflink', 'selflink')>, <Element 'a' href='/wiki/Lista_de_parlamentares_do_Rio_Grande_do_Norte' title='Lista de parlamentares do Rio Grande do Norte'>, <Element 'a' href='/wiki/Lista_de_parlamentares_do_Rio_Grande_do_Sul' title='Lista de parlamentares do Rio Grande do Sul'>, <Element 'a' href='/wiki/Lista_de_parlamentares_de_Rond%C3%B4nia' title='Lista de parlamentares de Rondônia'>, <Element 'a' href='/wiki/Lista_de_parlamentares_de_Roraima' title='Lista de parlamentares de Roraima'>, <Element 'a' href='/wiki/Lista_de_parlamentares_de_Santa_Catarina' title='Lista de parlamentares de Santa Catarina'>, <Element 'a' href='/wiki/Lista_de_parlamentares_de_S%C3%A3o_Paulo' title='Lista de parlamentares de São Paulo'>, <Element 'a' href='/wiki/Lista_de_parlamentares_de_Sergipe' title='Lista de parlamentares de Sergipe'>, <Element 'a' href='/wiki/Lista_de_parlamentares_do_Tocantins' title='Lista de parlamentares do Tocantins'>]\n",
            "[<Element 'a' href='/wiki/Predefini%C3%A7%C3%A3o:Parlamentares_do_Brasil' title='Predefinição:Parlamentares do Brasil'>, <Element 'a' class=('new',) href='/w/index.php?title=Predefini%C3%A7%C3%A3o_Discuss%C3%A3o:Parlamentares_do_Brasil&action=edit&redlink=1' title='Predefinição Discussão:Parlamentares do Brasil (página não existe)'>, <Element 'a' class=('external', 'text') href='https://pt.wikipedia.org/w/index.php?title=Predefini%C3%A7%C3%A3o:Parlamentares_do_Brasil&action=edit'>, <Element 'a' href='/wiki/Parlamentar' title='Parlamentar'>, <Element 'a' href='/wiki/Congresso_Nacional_do_Brasil' title='Congresso Nacional do Brasil'>, <Element 'a' href='/wiki/Lista_de_parlamentares_do_Acre' title='Lista de parlamentares do Acre'>, <Element 'a' href='/wiki/Lista_de_parlamentares_de_Alagoas' title='Lista de parlamentares de Alagoas'>, <Element 'a' href='/wiki/Lista_de_parlamentares_do_Amap%C3%A1' title='Lista de parlamentares do Amapá'>, <Element 'a' href='/wiki/Lista_de_parlamentares_do_Amazonas' title='Lista de parlamentares do Amazonas'>, <Element 'a' href='/wiki/Lista_de_parlamentares_da_Bahia' title='Lista de parlamentares da Bahia'>, <Element 'a' href='/wiki/Lista_de_parlamentares_do_Cear%C3%A1' title='Lista de parlamentares do Ceará'>, <Element 'a' href='/wiki/Lista_de_parlamentares_do_Distrito_Federal_(Brasil)' title='Lista de parlamentares do Distrito Federal (Brasil)'>, <Element 'a' href='/wiki/Lista_de_parlamentares_do_Esp%C3%ADrito_Santo' title='Lista de parlamentares do Espírito Santo'>, <Element 'a' href='/wiki/Lista_de_parlamentares_de_Goi%C3%A1s' title='Lista de parlamentares de Goiás'>, <Element 'a' href='/wiki/Lista_de_parlamentares_do_Maranh%C3%A3o' title='Lista de parlamentares do Maranhão'>, <Element 'a' href='/wiki/Lista_de_parlamentares_de_Mato_Grosso' title='Lista de parlamentares de Mato Grosso'>, <Element 'a' href='/wiki/Lista_de_parlamentares_de_Mato_Grosso_do_Sul' title='Lista de parlamentares de Mato Grosso do Sul'>, <Element 'a' href='/wiki/Lista_de_parlamentares_de_Minas_Gerais' title='Lista de parlamentares de Minas Gerais'>, <Element 'a' href='/wiki/Lista_de_parlamentares_do_Par%C3%A1' title='Lista de parlamentares do Pará'>, <Element 'a' href='/wiki/Lista_de_parlamentares_da_Para%C3%ADba' title='Lista de parlamentares da Paraíba'>, <Element 'a' href='/wiki/Lista_de_parlamentares_do_Paran%C3%A1' title='Lista de parlamentares do Paraná'>, <Element 'a' href='/wiki/Lista_de_parlamentares_de_Pernambuco' title='Lista de parlamentares de Pernambuco'>, <Element 'a' href='/wiki/Lista_de_parlamentares_do_Piau%C3%AD' title='Lista de parlamentares do Piauí'>, <Element 'a' class=('mw-selflink', 'selflink')>, <Element 'a' href='/wiki/Lista_de_parlamentares_do_Rio_Grande_do_Norte' title='Lista de parlamentares do Rio Grande do Norte'>, <Element 'a' href='/wiki/Lista_de_parlamentares_do_Rio_Grande_do_Sul' title='Lista de parlamentares do Rio Grande do Sul'>, <Element 'a' href='/wiki/Lista_de_parlamentares_de_Rond%C3%B4nia' title='Lista de parlamentares de Rondônia'>, <Element 'a' href='/wiki/Lista_de_parlamentares_de_Roraima' title='Lista de parlamentares de Roraima'>, <Element 'a' href='/wiki/Lista_de_parlamentares_de_Santa_Catarina' title='Lista de parlamentares de Santa Catarina'>, <Element 'a' href='/wiki/Lista_de_parlamentares_de_S%C3%A3o_Paulo' title='Lista de parlamentares de São Paulo'>, <Element 'a' href='/wiki/Lista_de_parlamentares_de_Sergipe' title='Lista de parlamentares de Sergipe'>, <Element 'a' href='/wiki/Lista_de_parlamentares_do_Tocantins' title='Lista de parlamentares do Tocantins'>]\n",
            "[<Element 'a' href='/wiki/Predefini%C3%A7%C3%A3o:Parlamentares_do_Brasil' title='Predefinição:Parlamentares do Brasil'>, <Element 'a' class=('new',) href='/w/index.php?title=Predefini%C3%A7%C3%A3o_Discuss%C3%A3o:Parlamentares_do_Brasil&action=edit&redlink=1' title='Predefinição Discussão:Parlamentares do Brasil (página não existe)'>, <Element 'a' class=('external', 'text') href='https://pt.wikipedia.org/w/index.php?title=Predefini%C3%A7%C3%A3o:Parlamentares_do_Brasil&action=edit'>, <Element 'a' href='/wiki/Parlamentar' title='Parlamentar'>, <Element 'a' href='/wiki/Congresso_Nacional_do_Brasil' title='Congresso Nacional do Brasil'>, <Element 'a' href='/wiki/Lista_de_parlamentares_do_Acre' title='Lista de parlamentares do Acre'>, <Element 'a' href='/wiki/Lista_de_parlamentares_de_Alagoas' title='Lista de parlamentares de Alagoas'>, <Element 'a' href='/wiki/Lista_de_parlamentares_do_Amap%C3%A1' title='Lista de parlamentares do Amapá'>, <Element 'a' href='/wiki/Lista_de_parlamentares_do_Amazonas' title='Lista de parlamentares do Amazonas'>, <Element 'a' href='/wiki/Lista_de_parlamentares_da_Bahia' title='Lista de parlamentares da Bahia'>, <Element 'a' href='/wiki/Lista_de_parlamentares_do_Cear%C3%A1' title='Lista de parlamentares do Ceará'>, <Element 'a' href='/wiki/Lista_de_parlamentares_do_Distrito_Federal_(Brasil)' title='Lista de parlamentares do Distrito Federal (Brasil)'>, <Element 'a' href='/wiki/Lista_de_parlamentares_do_Esp%C3%ADrito_Santo' title='Lista de parlamentares do Espírito Santo'>, <Element 'a' href='/wiki/Lista_de_parlamentares_de_Goi%C3%A1s' title='Lista de parlamentares de Goiás'>, <Element 'a' href='/wiki/Lista_de_parlamentares_do_Maranh%C3%A3o' title='Lista de parlamentares do Maranhão'>, <Element 'a' href='/wiki/Lista_de_parlamentares_de_Mato_Grosso' title='Lista de parlamentares de Mato Grosso'>, <Element 'a' href='/wiki/Lista_de_parlamentares_de_Mato_Grosso_do_Sul' title='Lista de parlamentares de Mato Grosso do Sul'>, <Element 'a' href='/wiki/Lista_de_parlamentares_de_Minas_Gerais' title='Lista de parlamentares de Minas Gerais'>, <Element 'a' href='/wiki/Lista_de_parlamentares_do_Par%C3%A1' title='Lista de parlamentares do Pará'>, <Element 'a' href='/wiki/Lista_de_parlamentares_da_Para%C3%ADba' title='Lista de parlamentares da Paraíba'>, <Element 'a' href='/wiki/Lista_de_parlamentares_do_Paran%C3%A1' title='Lista de parlamentares do Paraná'>, <Element 'a' href='/wiki/Lista_de_parlamentares_de_Pernambuco' title='Lista de parlamentares de Pernambuco'>, <Element 'a' href='/wiki/Lista_de_parlamentares_do_Piau%C3%AD' title='Lista de parlamentares do Piauí'>, <Element 'a' class=('mw-selflink', 'selflink')>, <Element 'a' href='/wiki/Lista_de_parlamentares_do_Rio_Grande_do_Norte' title='Lista de parlamentares do Rio Grande do Norte'>, <Element 'a' href='/wiki/Lista_de_parlamentares_do_Rio_Grande_do_Sul' title='Lista de parlamentares do Rio Grande do Sul'>, <Element 'a' href='/wiki/Lista_de_parlamentares_de_Rond%C3%B4nia' title='Lista de parlamentares de Rondônia'>, <Element 'a' href='/wiki/Lista_de_parlamentares_de_Roraima' title='Lista de parlamentares de Roraima'>, <Element 'a' href='/wiki/Lista_de_parlamentares_de_Santa_Catarina' title='Lista de parlamentares de Santa Catarina'>, <Element 'a' href='/wiki/Lista_de_parlamentares_de_S%C3%A3o_Paulo' title='Lista de parlamentares de São Paulo'>, <Element 'a' href='/wiki/Lista_de_parlamentares_de_Sergipe' title='Lista de parlamentares de Sergipe'>, <Element 'a' href='/wiki/Lista_de_parlamentares_do_Tocantins' title='Lista de parlamentares do Tocantins'>]\n",
            "[<Element 'a' href='/wiki/Predefini%C3%A7%C3%A3o:Parlamentares_do_Brasil' title='Predefinição:Parlamentares do Brasil'>, <Element 'a' class=('new',) href='/w/index.php?title=Predefini%C3%A7%C3%A3o_Discuss%C3%A3o:Parlamentares_do_Brasil&action=edit&redlink=1' title='Predefinição Discussão:Parlamentares do Brasil (página não existe)'>, <Element 'a' class=('external', 'text') href='https://pt.wikipedia.org/w/index.php?title=Predefini%C3%A7%C3%A3o:Parlamentares_do_Brasil&action=edit'>, <Element 'a' href='/wiki/Parlamentar' title='Parlamentar'>, <Element 'a' href='/wiki/Congresso_Nacional_do_Brasil' title='Congresso Nacional do Brasil'>, <Element 'a' href='/wiki/Lista_de_parlamentares_do_Acre' title='Lista de parlamentares do Acre'>, <Element 'a' href='/wiki/Lista_de_parlamentares_de_Alagoas' title='Lista de parlamentares de Alagoas'>, <Element 'a' href='/wiki/Lista_de_parlamentares_do_Amap%C3%A1' title='Lista de parlamentares do Amapá'>, <Element 'a' href='/wiki/Lista_de_parlamentares_do_Amazonas' title='Lista de parlamentares do Amazonas'>, <Element 'a' href='/wiki/Lista_de_parlamentares_da_Bahia' title='Lista de parlamentares da Bahia'>, <Element 'a' href='/wiki/Lista_de_parlamentares_do_Cear%C3%A1' title='Lista de parlamentares do Ceará'>, <Element 'a' href='/wiki/Lista_de_parlamentares_do_Distrito_Federal_(Brasil)' title='Lista de parlamentares do Distrito Federal (Brasil)'>, <Element 'a' href='/wiki/Lista_de_parlamentares_do_Esp%C3%ADrito_Santo' title='Lista de parlamentares do Espírito Santo'>, <Element 'a' href='/wiki/Lista_de_parlamentares_de_Goi%C3%A1s' title='Lista de parlamentares de Goiás'>, <Element 'a' href='/wiki/Lista_de_parlamentares_do_Maranh%C3%A3o' title='Lista de parlamentares do Maranhão'>, <Element 'a' href='/wiki/Lista_de_parlamentares_de_Mato_Grosso' title='Lista de parlamentares de Mato Grosso'>, <Element 'a' href='/wiki/Lista_de_parlamentares_de_Mato_Grosso_do_Sul' title='Lista de parlamentares de Mato Grosso do Sul'>, <Element 'a' href='/wiki/Lista_de_parlamentares_de_Minas_Gerais' title='Lista de parlamentares de Minas Gerais'>, <Element 'a' href='/wiki/Lista_de_parlamentares_do_Par%C3%A1' title='Lista de parlamentares do Pará'>, <Element 'a' href='/wiki/Lista_de_parlamentares_da_Para%C3%ADba' title='Lista de parlamentares da Paraíba'>, <Element 'a' href='/wiki/Lista_de_parlamentares_do_Paran%C3%A1' title='Lista de parlamentares do Paraná'>, <Element 'a' href='/wiki/Lista_de_parlamentares_de_Pernambuco' title='Lista de parlamentares de Pernambuco'>, <Element 'a' href='/wiki/Lista_de_parlamentares_do_Piau%C3%AD' title='Lista de parlamentares do Piauí'>, <Element 'a' class=('mw-selflink', 'selflink')>, <Element 'a' href='/wiki/Lista_de_parlamentares_do_Rio_Grande_do_Norte' title='Lista de parlamentares do Rio Grande do Norte'>, <Element 'a' href='/wiki/Lista_de_parlamentares_do_Rio_Grande_do_Sul' title='Lista de parlamentares do Rio Grande do Sul'>, <Element 'a' href='/wiki/Lista_de_parlamentares_de_Rond%C3%B4nia' title='Lista de parlamentares de Rondônia'>, <Element 'a' href='/wiki/Lista_de_parlamentares_de_Roraima' title='Lista de parlamentares de Roraima'>, <Element 'a' href='/wiki/Lista_de_parlamentares_de_Santa_Catarina' title='Lista de parlamentares de Santa Catarina'>, <Element 'a' href='/wiki/Lista_de_parlamentares_de_S%C3%A3o_Paulo' title='Lista de parlamentares de São Paulo'>, <Element 'a' href='/wiki/Lista_de_parlamentares_de_Sergipe' title='Lista de parlamentares de Sergipe'>, <Element 'a' href='/wiki/Lista_de_parlamentares_do_Tocantins' title='Lista de parlamentares do Tocantins'>]\n",
            "[<Element 'a' href='/wiki/Predefini%C3%A7%C3%A3o:Parlamentares_do_Brasil' title='Predefinição:Parlamentares do Brasil'>, <Element 'a' class=('new',) href='/w/index.php?title=Predefini%C3%A7%C3%A3o_Discuss%C3%A3o:Parlamentares_do_Brasil&action=edit&redlink=1' title='Predefinição Discussão:Parlamentares do Brasil (página não existe)'>, <Element 'a' class=('external', 'text') href='https://pt.wikipedia.org/w/index.php?title=Predefini%C3%A7%C3%A3o:Parlamentares_do_Brasil&action=edit'>, <Element 'a' href='/wiki/Parlamentar' title='Parlamentar'>, <Element 'a' href='/wiki/Congresso_Nacional_do_Brasil' title='Congresso Nacional do Brasil'>, <Element 'a' href='/wiki/Lista_de_parlamentares_do_Acre' title='Lista de parlamentares do Acre'>, <Element 'a' href='/wiki/Lista_de_parlamentares_de_Alagoas' title='Lista de parlamentares de Alagoas'>, <Element 'a' href='/wiki/Lista_de_parlamentares_do_Amap%C3%A1' title='Lista de parlamentares do Amapá'>, <Element 'a' href='/wiki/Lista_de_parlamentares_do_Amazonas' title='Lista de parlamentares do Amazonas'>, <Element 'a' href='/wiki/Lista_de_parlamentares_da_Bahia' title='Lista de parlamentares da Bahia'>, <Element 'a' href='/wiki/Lista_de_parlamentares_do_Cear%C3%A1' title='Lista de parlamentares do Ceará'>, <Element 'a' href='/wiki/Lista_de_parlamentares_do_Distrito_Federal_(Brasil)' title='Lista de parlamentares do Distrito Federal (Brasil)'>, <Element 'a' href='/wiki/Lista_de_parlamentares_do_Esp%C3%ADrito_Santo' title='Lista de parlamentares do Espírito Santo'>, <Element 'a' href='/wiki/Lista_de_parlamentares_de_Goi%C3%A1s' title='Lista de parlamentares de Goiás'>, <Element 'a' href='/wiki/Lista_de_parlamentares_do_Maranh%C3%A3o' title='Lista de parlamentares do Maranhão'>, <Element 'a' href='/wiki/Lista_de_parlamentares_de_Mato_Grosso' title='Lista de parlamentares de Mato Grosso'>, <Element 'a' href='/wiki/Lista_de_parlamentares_de_Mato_Grosso_do_Sul' title='Lista de parlamentares de Mato Grosso do Sul'>, <Element 'a' href='/wiki/Lista_de_parlamentares_de_Minas_Gerais' title='Lista de parlamentares de Minas Gerais'>, <Element 'a' href='/wiki/Lista_de_parlamentares_do_Par%C3%A1' title='Lista de parlamentares do Pará'>, <Element 'a' href='/wiki/Lista_de_parlamentares_da_Para%C3%ADba' title='Lista de parlamentares da Paraíba'>, <Element 'a' href='/wiki/Lista_de_parlamentares_do_Paran%C3%A1' title='Lista de parlamentares do Paraná'>, <Element 'a' href='/wiki/Lista_de_parlamentares_de_Pernambuco' title='Lista de parlamentares de Pernambuco'>, <Element 'a' href='/wiki/Lista_de_parlamentares_do_Piau%C3%AD' title='Lista de parlamentares do Piauí'>, <Element 'a' class=('mw-selflink', 'selflink')>, <Element 'a' href='/wiki/Lista_de_parlamentares_do_Rio_Grande_do_Norte' title='Lista de parlamentares do Rio Grande do Norte'>, <Element 'a' href='/wiki/Lista_de_parlamentares_do_Rio_Grande_do_Sul' title='Lista de parlamentares do Rio Grande do Sul'>, <Element 'a' href='/wiki/Lista_de_parlamentares_de_Rond%C3%B4nia' title='Lista de parlamentares de Rondônia'>, <Element 'a' href='/wiki/Lista_de_parlamentares_de_Roraima' title='Lista de parlamentares de Roraima'>, <Element 'a' href='/wiki/Lista_de_parlamentares_de_Santa_Catarina' title='Lista de parlamentares de Santa Catarina'>, <Element 'a' href='/wiki/Lista_de_parlamentares_de_S%C3%A3o_Paulo' title='Lista de parlamentares de São Paulo'>, <Element 'a' href='/wiki/Lista_de_parlamentares_de_Sergipe' title='Lista de parlamentares de Sergipe'>, <Element 'a' href='/wiki/Lista_de_parlamentares_do_Tocantins' title='Lista de parlamentares do Tocantins'>]\n"
          ]
        }
      ]
    },
    {
      "cell_type": "code",
      "metadata": {
        "colab": {
          "base_uri": "https://localhost:8080/"
        },
        "id": "vGDMIanYEWGq",
        "outputId": "b762b21e-f0ef-438f-b752-a836e668e3d9"
      },
      "source": [
        "r.html.find('href')"
      ],
      "execution_count": 223,
      "outputs": [
        {
          "output_type": "execute_result",
          "data": {
            "text/plain": [
              "[]"
            ]
          },
          "metadata": {},
          "execution_count": 223
        }
      ]
    },
    {
      "cell_type": "code",
      "metadata": {
        "colab": {
          "base_uri": "https://localhost:8080/"
        },
        "id": "LE9I5rVyEWYT",
        "outputId": "d6b0fa59-be9f-4fa1-bf02-c62fd068cf6d"
      },
      "source": [
        "for link in links:\n",
        "    if link.absolute_links and (\"Lista_de_parlamentares\" in link.absolute_links.pop()):\n",
        "        print(link.absolute_links)"
      ],
      "execution_count": 225,
      "outputs": [
        {
          "output_type": "stream",
          "name": "stdout",
          "text": [
            "{'https://pt.wikipedia.org/wiki/Lista_de_parlamentares_do_Acre'}\n",
            "{'https://pt.wikipedia.org/wiki/Lista_de_parlamentares_de_Alagoas'}\n",
            "{'https://pt.wikipedia.org/wiki/Lista_de_parlamentares_do_Amap%C3%A1'}\n",
            "{'https://pt.wikipedia.org/wiki/Lista_de_parlamentares_do_Amazonas'}\n",
            "{'https://pt.wikipedia.org/wiki/Lista_de_parlamentares_da_Bahia'}\n",
            "{'https://pt.wikipedia.org/wiki/Lista_de_parlamentares_do_Cear%C3%A1'}\n",
            "{'https://pt.wikipedia.org/wiki/Lista_de_parlamentares_do_Distrito_Federal_(Brasil)'}\n",
            "{'https://pt.wikipedia.org/wiki/Lista_de_parlamentares_do_Esp%C3%ADrito_Santo'}\n",
            "{'https://pt.wikipedia.org/wiki/Lista_de_parlamentares_de_Goi%C3%A1s'}\n",
            "{'https://pt.wikipedia.org/wiki/Lista_de_parlamentares_do_Maranh%C3%A3o'}\n",
            "{'https://pt.wikipedia.org/wiki/Lista_de_parlamentares_de_Mato_Grosso'}\n",
            "{'https://pt.wikipedia.org/wiki/Lista_de_parlamentares_de_Mato_Grosso_do_Sul'}\n",
            "{'https://pt.wikipedia.org/wiki/Lista_de_parlamentares_de_Minas_Gerais'}\n",
            "{'https://pt.wikipedia.org/wiki/Lista_de_parlamentares_do_Par%C3%A1'}\n",
            "{'https://pt.wikipedia.org/wiki/Lista_de_parlamentares_da_Para%C3%ADba'}\n",
            "{'https://pt.wikipedia.org/wiki/Lista_de_parlamentares_do_Paran%C3%A1'}\n",
            "{'https://pt.wikipedia.org/wiki/Lista_de_parlamentares_de_Pernambuco'}\n",
            "{'https://pt.wikipedia.org/wiki/Lista_de_parlamentares_do_Piau%C3%AD'}\n",
            "{'https://pt.wikipedia.org/wiki/Lista_de_parlamentares_do_Rio_Grande_do_Norte'}\n",
            "{'https://pt.wikipedia.org/wiki/Lista_de_parlamentares_do_Rio_Grande_do_Sul'}\n",
            "{'https://pt.wikipedia.org/wiki/Lista_de_parlamentares_de_Rond%C3%B4nia'}\n",
            "{'https://pt.wikipedia.org/wiki/Lista_de_parlamentares_de_Roraima'}\n",
            "{'https://pt.wikipedia.org/wiki/Lista_de_parlamentares_de_Santa_Catarina'}\n",
            "{'https://pt.wikipedia.org/wiki/Lista_de_parlamentares_de_S%C3%A3o_Paulo'}\n",
            "{'https://pt.wikipedia.org/wiki/Lista_de_parlamentares_de_Sergipe'}\n",
            "{'https://pt.wikipedia.org/wiki/Lista_de_parlamentares_do_Tocantins'}\n"
          ]
        }
      ]
    },
    {
      "cell_type": "code",
      "metadata": {
        "id": "OntslKxTKO54"
      },
      "source": [
        "links = [\n",
        "\tlink.absolute_links\n",
        "\tfor link in links\n",
        "\tif link.absolute_links and(\"Lista_de_parlamentares\" in link.absolute_links.pop())]"
      ],
      "execution_count": 229,
      "outputs": []
    },
    {
      "cell_type": "code",
      "metadata": {
        "colab": {
          "base_uri": "https://localhost:8080/"
        },
        "id": "WuhIBe7_KWQO",
        "outputId": "16ac7e1c-bcb8-4c7f-c61f-a5ff436d4f25"
      },
      "source": [
        "links"
      ],
      "execution_count": 230,
      "outputs": [
        {
          "output_type": "execute_result",
          "data": {
            "text/plain": [
              "[{'https://pt.wikipedia.org/wiki/Lista_de_parlamentares_do_Acre'},\n",
              " {'https://pt.wikipedia.org/wiki/Lista_de_parlamentares_de_Alagoas'},\n",
              " {'https://pt.wikipedia.org/wiki/Lista_de_parlamentares_do_Amap%C3%A1'},\n",
              " {'https://pt.wikipedia.org/wiki/Lista_de_parlamentares_do_Amazonas'},\n",
              " {'https://pt.wikipedia.org/wiki/Lista_de_parlamentares_da_Bahia'},\n",
              " {'https://pt.wikipedia.org/wiki/Lista_de_parlamentares_do_Cear%C3%A1'},\n",
              " {'https://pt.wikipedia.org/wiki/Lista_de_parlamentares_do_Distrito_Federal_(Brasil)'},\n",
              " {'https://pt.wikipedia.org/wiki/Lista_de_parlamentares_do_Esp%C3%ADrito_Santo'},\n",
              " {'https://pt.wikipedia.org/wiki/Lista_de_parlamentares_de_Goi%C3%A1s'},\n",
              " {'https://pt.wikipedia.org/wiki/Lista_de_parlamentares_do_Maranh%C3%A3o'},\n",
              " {'https://pt.wikipedia.org/wiki/Lista_de_parlamentares_de_Mato_Grosso'},\n",
              " {'https://pt.wikipedia.org/wiki/Lista_de_parlamentares_de_Mato_Grosso_do_Sul'},\n",
              " {'https://pt.wikipedia.org/wiki/Lista_de_parlamentares_de_Minas_Gerais'},\n",
              " {'https://pt.wikipedia.org/wiki/Lista_de_parlamentares_do_Par%C3%A1'},\n",
              " {'https://pt.wikipedia.org/wiki/Lista_de_parlamentares_da_Para%C3%ADba'},\n",
              " {'https://pt.wikipedia.org/wiki/Lista_de_parlamentares_do_Paran%C3%A1'},\n",
              " {'https://pt.wikipedia.org/wiki/Lista_de_parlamentares_de_Pernambuco'},\n",
              " {'https://pt.wikipedia.org/wiki/Lista_de_parlamentares_do_Piau%C3%AD'},\n",
              " {'https://pt.wikipedia.org/wiki/Lista_de_parlamentares_do_Rio_Grande_do_Norte'},\n",
              " {'https://pt.wikipedia.org/wiki/Lista_de_parlamentares_do_Rio_Grande_do_Sul'},\n",
              " {'https://pt.wikipedia.org/wiki/Lista_de_parlamentares_de_Rond%C3%B4nia'},\n",
              " {'https://pt.wikipedia.org/wiki/Lista_de_parlamentares_de_Roraima'},\n",
              " {'https://pt.wikipedia.org/wiki/Lista_de_parlamentares_de_Santa_Catarina'},\n",
              " {'https://pt.wikipedia.org/wiki/Lista_de_parlamentares_de_S%C3%A3o_Paulo'},\n",
              " {'https://pt.wikipedia.org/wiki/Lista_de_parlamentares_de_Sergipe'},\n",
              " {'https://pt.wikipedia.org/wiki/Lista_de_parlamentares_do_Tocantins'}]"
            ]
          },
          "metadata": {},
          "execution_count": 230
        }
      ]
    },
    {
      "cell_type": "code",
      "metadata": {
        "id": "z1isIHvBct4A"
      },
      "source": [
        "tables = r.html.find(\"table\")"
      ],
      "execution_count": 231,
      "outputs": []
    },
    {
      "cell_type": "code",
      "metadata": {
        "colab": {
          "base_uri": "https://localhost:8080/"
        },
        "id": "63EFTcpc7aPv",
        "outputId": "19b634b5-1ea8-4a68-b96b-21c8b1bfd3d5"
      },
      "source": [
        "len(r.html.find(\"a\"))"
      ],
      "execution_count": 232,
      "outputs": [
        {
          "output_type": "execute_result",
          "data": {
            "text/plain": [
              "1999"
            ]
          },
          "metadata": {},
          "execution_count": 232
        }
      ]
    },
    {
      "cell_type": "code",
      "metadata": {
        "colab": {
          "base_uri": "https://localhost:8080/"
        },
        "id": "Z8mOajWp6Voi",
        "outputId": "482724f8-65a4-4d50-e7ad-1c977fc2f96c"
      },
      "source": [
        "table_df = tables[1]\n",
        "table_df"
      ],
      "execution_count": 233,
      "outputs": [
        {
          "output_type": "execute_result",
          "data": {
            "text/plain": [
              "<Element 'table' class=('wikitable',) style='font-size: 85%;'>"
            ]
          },
          "metadata": {},
          "execution_count": 233
        }
      ]
    },
    {
      "cell_type": "code",
      "metadata": {
        "colab": {
          "base_uri": "https://localhost:8080/"
        },
        "id": "0oW7QMr2cz4K",
        "outputId": "86a0fad3-aaa9-46a2-953c-cd1bd84a5be7"
      },
      "source": [
        "rows = table_df.find(\"tr\")\n",
        "rows"
      ],
      "execution_count": 234,
      "outputs": [
        {
          "output_type": "execute_result",
          "data": {
            "text/plain": [
              "[<Element 'tr' >,\n",
              " <Element 'tr' >,\n",
              " <Element 'tr' >,\n",
              " <Element 'tr' >,\n",
              " <Element 'tr' >,\n",
              " <Element 'tr' >,\n",
              " <Element 'tr' >]"
            ]
          },
          "metadata": {},
          "execution_count": 234
        }
      ]
    },
    {
      "cell_type": "code",
      "metadata": {
        "colab": {
          "base_uri": "https://localhost:8080/",
          "height": 35
        },
        "id": "EIows6v_OHEd",
        "outputId": "43b7751f-fb0a-462e-e4d4-ffaea6db2742"
      },
      "source": [
        "rows[0].text"
      ],
      "execution_count": 238,
      "outputs": [
        {
          "output_type": "execute_result",
          "data": {
            "application/vnd.google.colaboratory.intrinsic+json": {
              "type": "string"
            },
            "text/plain": [
              "'Senadores eleitos\\nNaturalidade\\nMandatos\\nAno da eleição'"
            ]
          },
          "metadata": {},
          "execution_count": 238
        }
      ]
    },
    {
      "cell_type": "code",
      "metadata": {
        "colab": {
          "base_uri": "https://localhost:8080/"
        },
        "id": "ysisgrHMNa8H",
        "outputId": "8c405f99-3f4f-44d1-ceb3-878189109e70"
      },
      "source": [
        "rows[0].text.split('\\n')"
      ],
      "execution_count": 239,
      "outputs": [
        {
          "output_type": "execute_result",
          "data": {
            "text/plain": [
              "['Senadores eleitos', 'Naturalidade', 'Mandatos', 'Ano da eleição']"
            ]
          },
          "metadata": {},
          "execution_count": 239
        }
      ]
    },
    {
      "cell_type": "code",
      "metadata": {
        "colab": {
          "base_uri": "https://localhost:8080/",
          "height": 35
        },
        "id": "ZQY3J39dO6GD",
        "outputId": "79bd45e3-7665-49e3-fa37-e7e9c34cae2d"
      },
      "source": [
        "rows[0].find('th')[0].text"
      ],
      "execution_count": 240,
      "outputs": [
        {
          "output_type": "execute_result",
          "data": {
            "application/vnd.google.colaboratory.intrinsic+json": {
              "type": "string"
            },
            "text/plain": [
              "'Senadores eleitos'"
            ]
          },
          "metadata": {},
          "execution_count": 240
        }
      ]
    },
    {
      "cell_type": "code",
      "metadata": {
        "colab": {
          "base_uri": "https://localhost:8080/",
          "height": 35
        },
        "id": "bov75BjKdcMZ",
        "outputId": "ff19a347-4d3b-4b41-cb15-c8b8882efd9b"
      },
      "source": [
        "headers = rows[0].find(\"th\")\n",
        "headers[0].text"
      ],
      "execution_count": 241,
      "outputs": [
        {
          "output_type": "execute_result",
          "data": {
            "application/vnd.google.colaboratory.intrinsic+json": {
              "type": "string"
            },
            "text/plain": [
              "'Senadores eleitos'"
            ]
          },
          "metadata": {},
          "execution_count": 241
        }
      ]
    },
    {
      "cell_type": "code",
      "metadata": {
        "id": "SXotYQEndhuB"
      },
      "source": [
        "headers_list = []\n",
        "\n",
        "for header in headers:\n",
        "    headers_list.append(header.text)"
      ],
      "execution_count": 242,
      "outputs": []
    },
    {
      "cell_type": "code",
      "metadata": {
        "colab": {
          "base_uri": "https://localhost:8080/"
        },
        "id": "VZyfEpyrQdkk",
        "outputId": "5033c4a9-9914-449c-9334-f203a1f9d623"
      },
      "source": [
        "headers_list"
      ],
      "execution_count": 250,
      "outputs": [
        {
          "output_type": "execute_result",
          "data": {
            "text/plain": [
              "['Senadores eleitos', 'Naturalidade', 'Mandatos', 'Ano da eleição']"
            ]
          },
          "metadata": {},
          "execution_count": 250
        }
      ]
    },
    {
      "cell_type": "code",
      "metadata": {
        "id": "zssHCOVSg3jQ"
      },
      "source": [
        "dados = []\n",
        "\n",
        "for row in rows[1:]:\n",
        "    itens = row.find(\"td\")\n",
        "\n",
        "    r = []\n",
        "    \n",
        "    for item in itens:\n",
        "        r.append(item.text)\n",
        "\n",
        "        dados.append(r)"
      ],
      "execution_count": 249,
      "outputs": []
    },
    {
      "cell_type": "code",
      "metadata": {
        "colab": {
          "base_uri": "https://localhost:8080/"
        },
        "id": "S9tTZKZfpAMB",
        "outputId": "78f9a0d3-fc88-431a-eab8-fca97eefe8e5"
      },
      "source": [
        "dados"
      ],
      "execution_count": 244,
      "outputs": [
        {
          "output_type": "execute_result",
          "data": {
            "text/plain": [
              "[['Danton Jobim[nota 5][nota 6]', 'Avaré, SP', '2', '1970, 1974'],\n",
              " ['Danton Jobim[nota 5][nota 6]', 'Avaré, SP', '2', '1970, 1974'],\n",
              " ['Danton Jobim[nota 5][nota 6]', 'Avaré, SP', '2', '1970, 1974'],\n",
              " ['Danton Jobim[nota 5][nota 6]', 'Avaré, SP', '2', '1970, 1974'],\n",
              " ['Gilberto Marinho', 'Pelotas, RS', '1', '1962'],\n",
              " ['Gilberto Marinho', 'Pelotas, RS', '1', '1962'],\n",
              " ['Gilberto Marinho', 'Pelotas, RS', '1', '1962'],\n",
              " ['Gilberto Marinho', 'Pelotas, RS', '1', '1962'],\n",
              " ['Aurélio Viana', 'Maceió, AL', '1', '1962'],\n",
              " ['Aurélio Viana', 'Maceió, AL', '1', '1962'],\n",
              " ['Aurélio Viana', 'Maceió, AL', '1', '1962'],\n",
              " ['Aurélio Viana', 'Maceió, AL', '1', '1962'],\n",
              " ['Mário Martins[nota 5]', 'Petrópolis, RJ', '1', '1966'],\n",
              " ['Mário Martins[nota 5]', 'Petrópolis, RJ', '1', '1966'],\n",
              " ['Mário Martins[nota 5]', 'Petrópolis, RJ', '1', '1966'],\n",
              " ['Mário Martins[nota 5]', 'Petrópolis, RJ', '1', '1966'],\n",
              " ['Benjamin Farah[nota 6]', 'Corumbá, MS', '1', '1970'],\n",
              " ['Benjamin Farah[nota 6]', 'Corumbá, MS', '1', '1970'],\n",
              " ['Benjamin Farah[nota 6]', 'Corumbá, MS', '1', '1970'],\n",
              " ['Benjamin Farah[nota 6]', 'Corumbá, MS', '1', '1970'],\n",
              " ['Nelson Carneiro[nota 6]', 'Salvador, BA', '1', '1970'],\n",
              " ['Nelson Carneiro[nota 6]', 'Salvador, BA', '1', '1970'],\n",
              " ['Nelson Carneiro[nota 6]', 'Salvador, BA', '1', '1970'],\n",
              " ['Nelson Carneiro[nota 6]', 'Salvador, BA', '1', '1970']]"
            ]
          },
          "metadata": {},
          "execution_count": 244
        }
      ]
    },
    {
      "cell_type": "code",
      "metadata": {
        "id": "W0wbzTtlg3z0"
      },
      "source": [
        "import pandas as pd"
      ],
      "execution_count": 245,
      "outputs": []
    },
    {
      "cell_type": "code",
      "metadata": {
        "colab": {
          "base_uri": "https://localhost:8080/",
          "height": 793
        },
        "id": "WBXoe1U9g34t",
        "outputId": "bbe56b53-30cf-4c6c-94d7-1a8c62bd87ba"
      },
      "source": [
        "pd.DataFrame(dados, columns=headers_list)"
      ],
      "execution_count": 251,
      "outputs": [
        {
          "output_type": "execute_result",
          "data": {
            "text/html": [
              "<div>\n",
              "<style scoped>\n",
              "    .dataframe tbody tr th:only-of-type {\n",
              "        vertical-align: middle;\n",
              "    }\n",
              "\n",
              "    .dataframe tbody tr th {\n",
              "        vertical-align: top;\n",
              "    }\n",
              "\n",
              "    .dataframe thead th {\n",
              "        text-align: right;\n",
              "    }\n",
              "</style>\n",
              "<table border=\"1\" class=\"dataframe\">\n",
              "  <thead>\n",
              "    <tr style=\"text-align: right;\">\n",
              "      <th></th>\n",
              "      <th>Senadores eleitos</th>\n",
              "      <th>Naturalidade</th>\n",
              "      <th>Mandatos</th>\n",
              "      <th>Ano da eleição</th>\n",
              "    </tr>\n",
              "  </thead>\n",
              "  <tbody>\n",
              "    <tr>\n",
              "      <th>0</th>\n",
              "      <td>Danton Jobim[nota 5][nota 6]</td>\n",
              "      <td>Avaré, SP</td>\n",
              "      <td>2</td>\n",
              "      <td>1970, 1974</td>\n",
              "    </tr>\n",
              "    <tr>\n",
              "      <th>1</th>\n",
              "      <td>Danton Jobim[nota 5][nota 6]</td>\n",
              "      <td>Avaré, SP</td>\n",
              "      <td>2</td>\n",
              "      <td>1970, 1974</td>\n",
              "    </tr>\n",
              "    <tr>\n",
              "      <th>2</th>\n",
              "      <td>Danton Jobim[nota 5][nota 6]</td>\n",
              "      <td>Avaré, SP</td>\n",
              "      <td>2</td>\n",
              "      <td>1970, 1974</td>\n",
              "    </tr>\n",
              "    <tr>\n",
              "      <th>3</th>\n",
              "      <td>Danton Jobim[nota 5][nota 6]</td>\n",
              "      <td>Avaré, SP</td>\n",
              "      <td>2</td>\n",
              "      <td>1970, 1974</td>\n",
              "    </tr>\n",
              "    <tr>\n",
              "      <th>4</th>\n",
              "      <td>Gilberto Marinho</td>\n",
              "      <td>Pelotas, RS</td>\n",
              "      <td>1</td>\n",
              "      <td>1962</td>\n",
              "    </tr>\n",
              "    <tr>\n",
              "      <th>5</th>\n",
              "      <td>Gilberto Marinho</td>\n",
              "      <td>Pelotas, RS</td>\n",
              "      <td>1</td>\n",
              "      <td>1962</td>\n",
              "    </tr>\n",
              "    <tr>\n",
              "      <th>6</th>\n",
              "      <td>Gilberto Marinho</td>\n",
              "      <td>Pelotas, RS</td>\n",
              "      <td>1</td>\n",
              "      <td>1962</td>\n",
              "    </tr>\n",
              "    <tr>\n",
              "      <th>7</th>\n",
              "      <td>Gilberto Marinho</td>\n",
              "      <td>Pelotas, RS</td>\n",
              "      <td>1</td>\n",
              "      <td>1962</td>\n",
              "    </tr>\n",
              "    <tr>\n",
              "      <th>8</th>\n",
              "      <td>Aurélio Viana</td>\n",
              "      <td>Maceió, AL</td>\n",
              "      <td>1</td>\n",
              "      <td>1962</td>\n",
              "    </tr>\n",
              "    <tr>\n",
              "      <th>9</th>\n",
              "      <td>Aurélio Viana</td>\n",
              "      <td>Maceió, AL</td>\n",
              "      <td>1</td>\n",
              "      <td>1962</td>\n",
              "    </tr>\n",
              "    <tr>\n",
              "      <th>10</th>\n",
              "      <td>Aurélio Viana</td>\n",
              "      <td>Maceió, AL</td>\n",
              "      <td>1</td>\n",
              "      <td>1962</td>\n",
              "    </tr>\n",
              "    <tr>\n",
              "      <th>11</th>\n",
              "      <td>Aurélio Viana</td>\n",
              "      <td>Maceió, AL</td>\n",
              "      <td>1</td>\n",
              "      <td>1962</td>\n",
              "    </tr>\n",
              "    <tr>\n",
              "      <th>12</th>\n",
              "      <td>Mário Martins[nota 5]</td>\n",
              "      <td>Petrópolis, RJ</td>\n",
              "      <td>1</td>\n",
              "      <td>1966</td>\n",
              "    </tr>\n",
              "    <tr>\n",
              "      <th>13</th>\n",
              "      <td>Mário Martins[nota 5]</td>\n",
              "      <td>Petrópolis, RJ</td>\n",
              "      <td>1</td>\n",
              "      <td>1966</td>\n",
              "    </tr>\n",
              "    <tr>\n",
              "      <th>14</th>\n",
              "      <td>Mário Martins[nota 5]</td>\n",
              "      <td>Petrópolis, RJ</td>\n",
              "      <td>1</td>\n",
              "      <td>1966</td>\n",
              "    </tr>\n",
              "    <tr>\n",
              "      <th>15</th>\n",
              "      <td>Mário Martins[nota 5]</td>\n",
              "      <td>Petrópolis, RJ</td>\n",
              "      <td>1</td>\n",
              "      <td>1966</td>\n",
              "    </tr>\n",
              "    <tr>\n",
              "      <th>16</th>\n",
              "      <td>Benjamin Farah[nota 6]</td>\n",
              "      <td>Corumbá, MS</td>\n",
              "      <td>1</td>\n",
              "      <td>1970</td>\n",
              "    </tr>\n",
              "    <tr>\n",
              "      <th>17</th>\n",
              "      <td>Benjamin Farah[nota 6]</td>\n",
              "      <td>Corumbá, MS</td>\n",
              "      <td>1</td>\n",
              "      <td>1970</td>\n",
              "    </tr>\n",
              "    <tr>\n",
              "      <th>18</th>\n",
              "      <td>Benjamin Farah[nota 6]</td>\n",
              "      <td>Corumbá, MS</td>\n",
              "      <td>1</td>\n",
              "      <td>1970</td>\n",
              "    </tr>\n",
              "    <tr>\n",
              "      <th>19</th>\n",
              "      <td>Benjamin Farah[nota 6]</td>\n",
              "      <td>Corumbá, MS</td>\n",
              "      <td>1</td>\n",
              "      <td>1970</td>\n",
              "    </tr>\n",
              "    <tr>\n",
              "      <th>20</th>\n",
              "      <td>Nelson Carneiro[nota 6]</td>\n",
              "      <td>Salvador, BA</td>\n",
              "      <td>1</td>\n",
              "      <td>1970</td>\n",
              "    </tr>\n",
              "    <tr>\n",
              "      <th>21</th>\n",
              "      <td>Nelson Carneiro[nota 6]</td>\n",
              "      <td>Salvador, BA</td>\n",
              "      <td>1</td>\n",
              "      <td>1970</td>\n",
              "    </tr>\n",
              "    <tr>\n",
              "      <th>22</th>\n",
              "      <td>Nelson Carneiro[nota 6]</td>\n",
              "      <td>Salvador, BA</td>\n",
              "      <td>1</td>\n",
              "      <td>1970</td>\n",
              "    </tr>\n",
              "    <tr>\n",
              "      <th>23</th>\n",
              "      <td>Nelson Carneiro[nota 6]</td>\n",
              "      <td>Salvador, BA</td>\n",
              "      <td>1</td>\n",
              "      <td>1970</td>\n",
              "    </tr>\n",
              "  </tbody>\n",
              "</table>\n",
              "</div>"
            ],
            "text/plain": [
              "               Senadores eleitos    Naturalidade Mandatos Ano da eleição\n",
              "0   Danton Jobim[nota 5][nota 6]       Avaré, SP        2     1970, 1974\n",
              "1   Danton Jobim[nota 5][nota 6]       Avaré, SP        2     1970, 1974\n",
              "2   Danton Jobim[nota 5][nota 6]       Avaré, SP        2     1970, 1974\n",
              "3   Danton Jobim[nota 5][nota 6]       Avaré, SP        2     1970, 1974\n",
              "4               Gilberto Marinho     Pelotas, RS        1           1962\n",
              "5               Gilberto Marinho     Pelotas, RS        1           1962\n",
              "6               Gilberto Marinho     Pelotas, RS        1           1962\n",
              "7               Gilberto Marinho     Pelotas, RS        1           1962\n",
              "8                  Aurélio Viana      Maceió, AL        1           1962\n",
              "9                  Aurélio Viana      Maceió, AL        1           1962\n",
              "10                 Aurélio Viana      Maceió, AL        1           1962\n",
              "11                 Aurélio Viana      Maceió, AL        1           1962\n",
              "12         Mário Martins[nota 5]  Petrópolis, RJ        1           1966\n",
              "13         Mário Martins[nota 5]  Petrópolis, RJ        1           1966\n",
              "14         Mário Martins[nota 5]  Petrópolis, RJ        1           1966\n",
              "15         Mário Martins[nota 5]  Petrópolis, RJ        1           1966\n",
              "16        Benjamin Farah[nota 6]     Corumbá, MS        1           1970\n",
              "17        Benjamin Farah[nota 6]     Corumbá, MS        1           1970\n",
              "18        Benjamin Farah[nota 6]     Corumbá, MS        1           1970\n",
              "19        Benjamin Farah[nota 6]     Corumbá, MS        1           1970\n",
              "20       Nelson Carneiro[nota 6]    Salvador, BA        1           1970\n",
              "21       Nelson Carneiro[nota 6]    Salvador, BA        1           1970\n",
              "22       Nelson Carneiro[nota 6]    Salvador, BA        1           1970\n",
              "23       Nelson Carneiro[nota 6]    Salvador, BA        1           1970"
            ]
          },
          "metadata": {},
          "execution_count": 251
        }
      ]
    }
  ]
}